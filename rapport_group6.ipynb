{
 "cells": [
  {
   "cell_type": "markdown",
   "metadata": {},
   "source": [
    "# Final Project - Basics of Mobile Robotics - Group 6\n"
   ]
  },
  {
   "cell_type": "markdown",
   "metadata": {},
   "source": [
    "**Authors:**  Marine Moutarlier, Joao Pedro Rodrigues Lopes, Shujiro Shobayashi, Alessio Zazo\n"
   ]
  },
  {
   "cell_type": "markdown",
   "metadata": {},
   "source": [
    "<img src=\"images/thymio_gd.png\" width=600/> "
   ]
  },
  {
   "cell_type": "markdown",
   "metadata": {},
   "source": [
    "<img src=\"images/uber_eats.jpeg\" width=400/>"
   ]
  },
  {
   "cell_type": "markdown",
   "metadata": {},
   "source": [
    "\n",
    "\n",
    "\n",
    "# Table of Contents <a class=\"anchor\" id=\"table\"></a>\n",
    "\n",
    "* [0. Introduction](#Introduction)\n",
    "    * [0.0 Guidlines](#Guidelines)\n",
    "    * [0.1. General overview of the code](#Overview)\n",
    "    * [0.2. Setup of the map](#Setup)\n",
    "    * [0.3. Essensial Library and inclusion](#Libraries)\n",
    "    * [0.4. Important Classes](#Class)\n",
    "        * [0.4.1 Robot Class](#Robot)\n",
    "        * [0.4.2 PID Class](#PID)\n",
    "\n",
    "* [1. Vision](#vision)\n",
    "    * [1.1 Obstacle detection ](#obstacles)\n",
    "    * [1.1. Goal detection](#Goal)\n",
    "    * [1.2 Thymio detection and orientation ](#Thymio)\n",
    "    * [1.3 Previous choices and why we avoided them ](#choice)\n",
    "\n",
    "\n",
    "\n",
    "\n",
    "* [2. Global Navigation](#global_nav)\n",
    "    * [2.1 Introduction](#PID)\n",
    "    * [2.2 Pseudocode](#PID)\n",
    "    * [2.3 Implementation](#PID)\n",
    "    * [2.4 Example of visualization](#PID)\n",
    "\n",
    "  \n",
    "        \n",
    "* [3. Motion Control](#motion)\n",
    "    * [3.1 Development of the Simulation Environment](#PID)\n",
    "        * [3.1.1 Simulated Robot Class](#PID)\n",
    "        * [3.1.2 PID Controller for Orientation Control](#PID)\n",
    "        * [3.1.3 Navigation of Robot in Simulation](#PID)\n",
    "        * [3.1.4 PID Simulation](#PID)\n",
    "    * [3.2 Robot Actuationt](#PID)\n",
    "        * [3.2.1 Establishing Connection with Thymio](#PID)\n",
    "        * [3.2.2 Robot Class with actuation](#PID)\n",
    "        * [3.2.3 Navigate function with Actuation](#PID)\n",
    "        * [3.2.4 PID with Actuation](#PID)\n",
    "\n",
    "* [4. Kalman Filtering](Kalman)\n",
    "     * [4.1 Kalman Filter Functions and Paramters](#PID)\n",
    "        * [4.1.1 Kalman Filter Functions](#PID)\n",
    "        * [4.1.2 Kalman Filter Equations](#PID)\n",
    "     * [4.2 Kalman Filter Simulation](#PID)\n",
    "         * [4.2.1 Navigating with Kalman Filter](#PID)\n",
    "\n",
    "\n",
    "* [5. Local obstacle avoidance ](#local_avoidance)\n",
    "   \n",
    "\n",
    "* [6. Conclusion](#conclusion)\n",
    "\n"
   ]
  },
  {
   "cell_type": "markdown",
   "metadata": {},
   "source": [
    "# 0. Introduction <a class=\"anchor\" id=\"Introduction\"></a>"
   ]
  },
  {
   "cell_type": "markdown",
   "metadata": {},
   "source": [
    "In our project, we present an intelligent navigation system designed for the Thymio robot, integrating both global and local navigation strategies. The primary goal of our system is to ensure that the Thymio navigates from an arbitrary starting position to a set triangle target within an environment filled with static obstacles. What sets our project apart is the utilization of Kalman filtering techniques to provide the robot with an accurate position estimate, enabling precise control and efficient global navigation.\n",
    "\n",
    "#### **Global Navigation**:\n",
    "Our system enables the Thymio robot to autonomously plan and execute a path from any starting point to a user-defined target. The Thymio intelligently avoids static obstacles without relying on onboard sensors for detection. Instead, the robot's global navigation is orchestrated through an algorithm that strategically guides it around obstacles, from point to point to the target.\n",
    "\n",
    "#### **Local Navigation**:\n",
    "To enhance the robot's adaptability in real-time scenarios, we have incorporated local navigation capabilities. The Thymio dynamically responds to physical obstacles introduced into its path during navigation, employing local avoidance strategies. This ensures that the robot can effectively navigate through a dynamic environment.\n",
    "\n",
    "#### **Kalman Filtering for Precision**:\n",
    "Our navigation system lies in the application of Kalman filtering techniques to accurately estimate the Thymio robot's position. By fusing information from various sources and sensors, our system provides a reliable and continually updated estimate of the robot's location. This precision is crucial for effective global navigation, enabling the Thymio to follow planned paths with high accuracy and respond intelligently to changes in the environment.\n",
    "\n",
    "#### **Real-Time Adaptability**:\n",
    "Our project's versatility shines through in its ability to adapt to different scenarios and challenges. The Thymio robot seamlessly transitions between global and local navigation strategies. Additionally, the system's real-time adaptability ensures that the robot can navigate dynamically changing environments, making it suitable for a wide range of applications."
   ]
  },
  {
   "cell_type": "markdown",
   "metadata": {},
   "source": [
    "## 0.1. Overview of the code"
   ]
  },
  {
   "cell_type": "markdown",
   "metadata": {},
   "source": [
    "<img src=\"images/diagram.png\" width=800/>"
   ]
  },
  {
   "cell_type": "markdown",
   "metadata": {},
   "source": [
    "Our code is separated into different parts. The main ones are the computer vision, the path planning, the motion control. In our code tthe motion control as our filtr as well as the local avoidance. All of these will be detailled more underneath "
   ]
  },
  {
   "cell_type": "markdown",
   "metadata": {},
   "source": [
    "## 0.2. Setup of the map "
   ]
  },
  {
   "cell_type": "markdown",
   "metadata": {},
   "source": [
    "Our robot is an Uber Eats driver (green), trying to deliver the food to its client, while following a gps on his phone. He is biking and there is an error between its position and where he is standing. The uber driver is taking the quickest path as he wants to get pay more by doing more deliveries. Some roads are blocked on its way, he needs to avoid them. He is also avoid his other team mate delivery uber eats driver as he does not want to waste more time. "
   ]
  },
  {
   "cell_type": "markdown",
   "metadata": {},
   "source": [
    " <img src=\"images/ubereats.jpg\" width=200/> <img src=\"images/shu2.png\" width=635/> "
   ]
  },
  {
   "cell_type": "markdown",
   "metadata": {},
   "source": [
    "The set up of the map was difficult. We wanted to settle down for something that was easy to reproduce and that would not depend on a grid or on matrices. We wanted our robot to be able to navigate everywhere, in all situations and all form of environnement. We placed down a blue floor, which in reality is not necessary. \n",
    "\n",
    "The brightness also was a big struggle, because depending on where we were, the initial targets and thymio, depending on the color, would change. We had to adapt our thresholds every ttime and we lost a lot of time on that. If the Computer Vision was not completly reliable, then the path and motion were not and all of our projet was deficient. WE changeed the colors to shapes, to be less depend of the light allowing our projet to be more robust \n",
    "\n",
    "What is necessary:\n",
    " - For the obstacles to be black and in a rectangular shape, because thats how we decided to approximate them in our path planning. We also assumed that they would not be in a l shape as they would be approximated as one big rectangle. Details in the path planning section,\n",
    " - For the Thymio to have 2 circles on top of him, and for the smaller one to bee at the front, allowing us to orientation properly the thymio\n",
    " - For the goal to be in a triangular shape and well as in a different color than the backround, no need for a color specifically, we just need some contrast\n",
    " - To not have other triangular, circle or black items in our frame, as they would create false measurements \n",
    " - The shape of the local obstacle, as we settled on an other thymio and tuned accordingly \n",
    "\n",
    "\n",
    "What can be changed:\n",
    "- The colors of everything except the black obstacle\n",
    "- The position of the obstacles, they can be put anywhere, the robot would avoid them, as long as he finds a path to the goal\n",
    "- The position of the robot and the goal \n",
    "- When and where to put a local obstacle for the robot to avoid it"
   ]
  },
  {
   "cell_type": "markdown",
   "metadata": {},
   "source": [
    "## 0.3. Essensial Library and inclusion"
   ]
  },
  {
   "cell_type": "code",
   "execution_count": 13,
   "metadata": {},
   "outputs": [],
   "source": [
    "import cv2\n",
    "import matplotlib.pyplot as plt\n",
    "import os\n",
    "import math\n",
    "import numpy as np\n",
    "import time\n",
    "\n",
    "from rrt import RRT\n",
    "from search_space import SearchSpace\n",
    "from plotting import Plot"
   ]
  },
  {
   "cell_type": "markdown",
   "metadata": {},
   "source": [
    "## 0.4 Classes"
   ]
  },
  {
   "cell_type": "markdown",
   "metadata": {},
   "source": [
    "### 0.4.1 Class Robot "
   ]
  },
  {
   "cell_type": "markdown",
   "metadata": {},
   "source": [
    "The Robot class is designed to simulate the robot's movement and orientation. With attributes representing the robot's position, orientation, and wheelbase, as well as methods for reorienting and moving the robot forward, the class encapsulates the basics that we use for the projeect. The decision to create a Robot class is motivated by the need for a modular and organized representation of the robot's behavior, making it easier to manage and extend its functionalities. By using a class, the code becomes more readable and adaptable, as well as easier to use in different fonctions"
   ]
  },
  {
   "cell_type": "code",
   "execution_count": 14,
   "metadata": {},
   "outputs": [],
   "source": [
    "class Robot:\n",
    "    \n",
    "    def wait (self, orientation_control):\n",
    "        \"\"\"\n",
    "        Waits for a duration based on the steering angle.\n",
    "        \"\"\"\n",
    "        # Example: Linear relationship between steering angle and duration\n",
    "        max_duration = 0.2\n",
    "        duration = abs(orientation_control) * max_duration\n",
    "        time_start = time.time()\n",
    "        time.sleep(duration)\n",
    "        time_end = time.time()\n",
    "        \n",
    "    def __init__(self, length=20.0, constant_speed=30.0):\n",
    "        \"\"\"\n",
    "        Creates a robot and initializes location/orientation to 0, 0, 0.\n",
    "        length : distance between the two wheels, also known as the wheelbase\n",
    "        \"\"\"\n",
    "        self.x = 0.0\n",
    "        self.y = 0.0\n",
    "        self.orientation = 0.0\n",
    "        self.i=0\n",
    "        self.length = length\n",
    "        self.constant_speed = constant_speed\n",
    "        self.velocity_x = 0.0  # Initialize velocity in x direction\n",
    "        self.velocity_y = 0.0  # Initialize velocity in y direction\n",
    "\n",
    "    def set(self, x, y, orientation):\n",
    "        \"\"\"\n",
    "        Sets a robot coordinate.\n",
    "        \"\"\"\n",
    "        self.x = x\n",
    "        self.y = y\n",
    "        self.orientation = orientation % (2.0 * np.pi)\n",
    "\n",
    "    \n",
    "    def reorient(self, orientation_control, dt, max_speed=50):\n",
    "        \"\"\"\n",
    "        Reorients the robot without moving it forward.\n",
    "        \"\"\"\n",
    "        delta_orientation = orientation_control * dt\n",
    "\n",
    "        self.orientation = (self.orientation + delta_orientation) % (2.0 * np.pi)\n",
    "        \n",
    "        rotation_speed = max_speed\n",
    "\n",
    "\n",
    "        motor_speed_left = -rotation_speed if orientation_control > 0 else rotation_speed\n",
    "        motor_speed_right = rotation_speed if orientation_control > 0 else -rotation_speed\n",
    "        \n",
    "        self.wait(orientation_control)\n",
    "        self.i=self.i+1\n",
    "        return motor_speed_left, motor_speed_right\n",
    "        \n",
    "        \n",
    "    def move_forward(self, dt, max_speed=50):\n",
    "        \"\"\"\n",
    "        Moves the robot forward without changing its orientation.\n",
    "        \"\"\"\n",
    "\n",
    "        # Set both motors to the same speed\n",
    "        motor_speed_left = motor_speed_right = max_speed\n",
    "\n",
    "        # Calculate the distance to move based on the constant speed and the time step\n",
    "        distance = self.constant_speed * dt\n",
    "\n",
    "        # Update the robot's position\n",
    "        self.x += distance * np.cos(self.orientation)\n",
    "        self.y += distance * np.sin(self.orientation)\n",
    "\n",
    "        # Update velocities based on constant speed\n",
    "        self.velocity_x = self.constant_speed * np.cos(self.orientation)\n",
    "        self.velocity_y = self.constant_speed * np.sin(self.orientation)        \n",
    "        return motor_speed_left, motor_speed_right\n",
    "\n",
    "    def __repr__(self):\n",
    "        return '[x=%.5f y=%.5f orient=%.5f]' % (self.x, self.y, self.orientation)\n",
    "\n",
    "        \n",
    "        \n",
    "    def move_forward(self, dt, max_speed=50):\n",
    "        \"\"\"\n",
    "        Moves the robot forward without changing its orientation.\n",
    "        \"\"\"\n",
    "\n",
    "        # Set both motors to the same speed\n",
    "        motor_speed_left = motor_speed_right = max_speed\n",
    "\n",
    "        # Calculate the distance to move based on the constant speed and the time step\n",
    "        distance = self.constant_speed * dt\n",
    "\n",
    "        # Update the robot's position\n",
    "        self.x += distance * np.cos(self.orientation)\n",
    "        self.y += distance * np.sin(self.orientation)\n",
    "\n",
    "        # Update velocities based on constant speed\n",
    "        self.velocity_x = self.constant_speed * np.cos(self.orientation)\n",
    "        self.velocity_y = self.constant_speed * np.sin(self.orientation)        \n",
    "        return motor_speed_left, motor_speed_right\n",
    "\n",
    "    def __repr__(self):\n",
    "        return '[x=%.5f y=%.5f orient=%.5f]' % (self.x, self.y, self.orientation)\n"
   ]
  },
  {
   "cell_type": "markdown",
   "metadata": {},
   "source": [
    "### 0.4.2 Class PID "
   ]
  },
  {
   "cell_type": "markdown",
   "metadata": {},
   "source": [
    "Following the same logic, we also created a PID Controller Class. \n",
    "\n",
    "The PIDController class is designed to implement a Proportional-Integral-Derivative (PID) controller for orientation control. It takes proportional (kp), integral (ki), and derivative (kd) gains as parameters during initialization. The class keeps the previous orientation error and integral of the orientation error to calculate the control output based on the current and target orientations. The update method computes the PID of the error and combines these components to produce the PID output for orientation control.  This organization promotes code readability, ease of maintenance, and the ability to customize PID parameters for different scenarios. We opted for a PID as I and D components could easily be put to 0 if we want only a P, or PI for example. Parameters were tuned accordingly in our code "
   ]
  },
  {
   "cell_type": "code",
   "execution_count": 15,
   "metadata": {},
   "outputs": [],
   "source": [
    "class PIDController:\n",
    "    def __init__(self, kp, ki, kd):\n",
    "        self.kp = kp\n",
    "        self.ki = ki\n",
    "        self.kd = kd\n",
    "        self.previous_orientation_error = 0.0\n",
    "        self.integral_orientation = 0.0\n",
    "\n",
    "    def update(self, current_orientation, target_orientation, dt):\n",
    "        \"\"\"\n",
    "        Updates the PID controller based on the current and target orientations.\n",
    "        \"\"\"\n",
    "        # Calculate orientation error with wraparound handling at 360 degrees\n",
    "        orientation_error = (target_orientation - current_orientation + np.pi) % (2 * np.pi) - np.pi\n",
    "\n",
    "        # Accumulate the integral of the error\n",
    "        self.integral_orientation += orientation_error * dt\n",
    "\n",
    "        # Calculate the derivative of the error\n",
    "        derivative_orientation = (orientation_error - self.previous_orientation_error) / dt\n",
    "\n",
    "        # Update the previous error for the next iteration\n",
    "        self.previous_orientation_error = orientation_error\n",
    "\n",
    "        # PID output for orientation control\n",
    "        orientation_output = self.kp * orientation_error + self.ki * self.integral_orientation + self.kd * derivative_orientation\n",
    "\n",
    "        return orientation_output"
   ]
  },
  {
   "cell_type": "markdown",
   "metadata": {},
   "source": [
    "# 1. Vision  <a class=\"anchor\" id=\"Vision\"></a>"
   ]
  },
  {
   "cell_type": "markdown",
   "metadata": {},
   "source": [
    "Overwall view of the functions used in the ComputerVision part"
   ]
  },
  {
   "cell_type": "markdown",
   "metadata": {},
   "source": [
    "| Function of Vision | Input | Output |\n",
    "|:------|:------|:------|\n",
    "|`def obstacle_detection(img)` |A frame as an argument, in which we apply a filter/mask that allows us to detect the black in the image |An image with a green countour around the obstacles and coordinates(x, y, width and height)|\n",
    "|`def goal_dectetion(img)`|A frame as an argument, in which we apply a filter/mask that allows us to detect the triangle in the image |An image with a black countour around the goal and its center coordinnates|\n",
    "|`def orientation_detection(img)`|A frame as an argument, in which we apply a mask that allows us to detect the circles in the image |An angle computed using the relative position and distances of the center of the robot|\n"
   ]
  },
  {
   "cell_type": "markdown",
   "metadata": {},
   "source": [
    "## 1.1 Detection of the obstacles \n"
   ]
  },
  {
   "cell_type": "markdown",
   "metadata": {},
   "source": [
    "In this fonction, we compute the detection of the obstacles. To do this we store the image given in argument, we apply a gray mask ovre it for the black to come out better. We then apply a certain threshold for the black to be detected. We also apply a morphological operation to remove small as well as a filter. We then look for the countours in the image and we store them in a obstacle_position array. We use this array to storee the positions and then to draw the countours of the obstacles "
   ]
  },
  {
   "cell_type": "code",
   "execution_count": 16,
   "metadata": {},
   "outputs": [],
   "source": [
    "def obstacle_detection(img):\n",
    "    \"\"\"\n",
    "    Detects the obstacles in the image using openCV functions\n",
    "    :param img: image of the map with obstacles\n",
    "    :return: contours_image (frame with the countoured images), obstacles_position (x, y, width and height )\n",
    "    \"\"\"\n",
    "     \n",
    "    # Convert the original image to grayscale\n",
    "    gray_image = cv2.cvtColor(img, cv2.COLOR_BGR2GRAY)\n",
    "\n",
    "    # Apply GaussianBlur to reduce noise and improve thresholding accuracy\n",
    "    blurred_image = cv2.GaussianBlur(gray_image, (5, 5), 0)\n",
    "\n",
    "    # Threshold the image to isolate the dark tape\n",
    "    _, thresholded_image = cv2.threshold(blurred_image, 40, 255, cv2.THRESH_BINARY_INV)\n",
    "\n",
    "    # Apply morphological operations to remove small noise and emphasize the features\n",
    "    kernel = np.ones((5, 5), np.uint8)\n",
    "    morph_image = cv2.morphologyEx(thresholded_image, cv2.MORPH_CLOSE, kernel)\n",
    "\n",
    "    # Find contours in the processed image\n",
    "    tape_contours, _ = cv2.findContours(morph_image, cv2.RETR_EXTERNAL, cv2.CHAIN_APPROX_SIMPLE)\n",
    "\n",
    "    # Filter contours based on area to remove small noise\n",
    "    filtered_contours = [cnt for cnt in tape_contours if cv2.contourArea(cnt) > 100]\n",
    "\n",
    "    # Create a blank image to draw contours\n",
    "    contours_image = img.copy()\n",
    "\n",
    "    # Store the positions of obstacles\n",
    "    obstacle_positions = []\n",
    "\n",
    "    # Draw contours on the image and store bounding rectangles\n",
    "    for cnt in filtered_contours:\n",
    "        x, y, w, h = cv2.boundingRect(cnt)\n",
    "        obstacle_positions.append((x, y, x + w, y + h))\n",
    "        cv2.drawContours(contours_image, [cnt], -1, (0, 255, 0), 3)  # Draw contours in green\n",
    "\n",
    "    # Visualize the results\n",
    "    plt.imshow(cv2.cvtColor(contours_image, cv2.COLOR_BGR2RGB), origin='lower')\n",
    "    plt.title('Tape Contours Detected')\n",
    "    plt.show()\n",
    "\n",
    "    # Return the positions of obstacles and the image with contours drawn\n",
    "    \n",
    "    return contours_image, obstacle_positions"
   ]
  },
  {
   "cell_type": "markdown",
   "metadata": {},
   "source": [
    "Exemple use on an image, in here it returns the x,y, width and height of the obstacles"
   ]
  },
  {
   "cell_type": "code",
   "execution_count": 17,
   "metadata": {},
   "outputs": [
    {
     "data": {
      "image/png": "[encoded data removed]",
      "text/plain": [
       "<Figure size 640x480 with 1 Axes>"
      ]
     },
     "metadata": {},
     "output_type": "display_data"
    },
    {
     "name": "stdout",
     "output_type": "stream",
     "text": [
      "Obstacles x,y, width and heigth =  [(1026, 438, 1342, 563), (457, 345, 526, 510)]\n"
     ]
    }
   ],
   "source": [
    "# Example usage\n",
    "image_path = 'images/envi.png'\n",
    "image = cv2.imread(image_path)\n",
    "contours_image, obstacle_positions = obstacle_detection(image)\n",
    "print('Obstacles x,y, width and heigth = ',obstacle_positions)"
   ]
  },
  {
   "cell_type": "markdown",
   "metadata": {},
   "source": [
    "## 1.2 Detection of the Goal"
   ]
  },
  {
   "cell_type": "markdown",
   "metadata": {},
   "source": [
    "Similarly,in this fonction, we compute the detection of the Goal . To do this we store the image given in argument, we apply a gray mask over it for the white to come out better. We then apply a certain threshold for the white to be detected. We also apply a morphological operation to remove small as well as a filter. We then look for the countours in the image and we store them in a Thymio_position array. Then we compute the average "
   ]
  },
  {
   "cell_type": "code",
   "execution_count": 18,
   "metadata": {},
   "outputs": [],
   "source": [
    "def goal_detect(img):\n",
    "    # Read the input image\n",
    "\n",
    "    # Apply bilateral filter\n",
    "    bilateral = cv2.bilateralFilter(img, 9, 75, 75)\n",
    "\n",
    "    # Convert to grayscale\n",
    "    bw_img = cv2.cvtColor(bilateral, cv2.COLOR_BGR2GRAY)\n",
    "\n",
    "    # Thresholding\n",
    "    ret, th1 = cv2.threshold(bw_img, 165, 220, cv2.THRESH_BINARY)\n",
    "    # Find contours in the thresholded image\n",
    "    contours, _ = cv2.findContours(th1, cv2.RETR_EXTERNAL, cv2.CHAIN_APPROX_SIMPLE)\n",
    "\n",
    "    # List to store triangle coordinates\n",
    "    triangle_coordinates = []\n",
    "\n",
    "    goal=img.copy()\n",
    "\n",
    "    # Iterate through the contours\n",
    "    for contour in contours:\n",
    "        # Approximate the contour to a polygon\n",
    "        epsilon = 0.04 * cv2.arcLength(contour, True)\n",
    "        approx = cv2.approxPolyDP(contour, epsilon, True)\n",
    "\n",
    "        # If the polygon has 3 vertices, it's a triangle\n",
    "        if len(approx) == 3:\n",
    "            triangle_coordinates.append(approx)\n",
    "\n",
    "            # Draw the triangle on the original image\n",
    "            cv2.drawContours(goal, [approx], 0, (0, 0, 250), 4) # display the goal in red\n",
    "\n",
    "      # Visualize the results\n",
    "    plt.imshow(cv2.cvtColor(goal, cv2.COLOR_BGR2RGB), origin='lower')\n",
    "    plt.title('Tape Contours Detected')\n",
    "    plt.show()        \n",
    "\n",
    "    # Print the coordinates of the triangles\n",
    "    for i, triangle in enumerate(triangle_coordinates):\n",
    "    \n",
    "        # Extract homogeneous coordinates\n",
    "        x_coords = triangle[:, 0, 0]\n",
    "        y_coords = triangle[:, 0, 1]\n",
    "        \n",
    "        # Compute average point\n",
    "        mean_x = np.mean(x_coords)\n",
    "        mean_y = np.mean(y_coords)\n",
    "        return (mean_x, mean_y)\n"
   ]
  },
  {
   "cell_type": "markdown",
   "metadata": {},
   "source": [
    "Example of usage "
   ]
  },
  {
   "cell_type": "code",
   "execution_count": 19,
   "metadata": {},
   "outputs": [
    {
     "data": {
      "image/png": "[encoded data removed]",
      "text/plain": [
       "<Figure size 640x480 with 1 Axes>"
      ]
     },
     "metadata": {},
     "output_type": "display_data"
    },
    {
     "name": "stdout",
     "output_type": "stream",
     "text": [
      "Detected Triangles: (714.3333333333334, 166.33333333333334)\n"
     ]
    }
   ],
   "source": [
    "# Example usage\n",
    "image2 = cv2.imread(\"images/envi.png\")\n",
    "triangles = goal_detect(image2)\n",
    "print(\"Detected Triangles:\", triangles)"
   ]
  },
  {
   "cell_type": "markdown",
   "metadata": {},
   "source": [
    "# 1.4 Position and Orientation of the robot "
   ]
  },
  {
   "cell_type": "markdown",
   "metadata": {},
   "source": [
    "## 1.4.1 Hough Circles "
   ]
  },
  {
   "cell_type": "markdown",
   "metadata": {},
   "source": [
    "At first, we used for the computeation of the Thymio, the white threshold. To do this we stored the image given in argument, we applied a gray mask over it for the white to come out better. We then applied a certain threshold for the white to be detected. We also applied a morphological operation to remove small as well as a filter. We then looked for the countours in the image and we store them in a Thymio_position array. Then we computed the average position. But after discussion and since we needed to compute the orienatation of the robot, we decided to drop this method and opt for the Hough Circles instead. This would allow us to detect the orientation and the position of the robot.\n",
    "Hough Circles are reliable for circle detection in computer vision when parameters are appropriately tuned, and images are preprocessed to handle noise and enhance features. Its reliability is influenced by factors such as image quality, circle parameters, and computational cost. Parameter tuning and adaptive techniques can improve performance, making Hough Circles a versatile tool for various applications with circular object detection. This would allow us to not depend on the lightening of the room."
   ]
  },
  {
   "cell_type": "markdown",
   "metadata": {},
   "source": [
    "<img src=\"images/Hough Circle.png\" width=400/>"
   ]
  },
  {
   "cell_type": "markdown",
   "metadata": {},
   "source": [
    "## 1.4.2 Orientation of the robot "
   ]
  },
  {
   "cell_type": "markdown",
   "metadata": {},
   "source": [
    "### 1.4.2.1 Theory "
   ]
  },
  {
   "cell_type": "markdown",
   "metadata": {},
   "source": [
    "This was one of our main difficult function to compute as we tried many different methods"
   ]
  },
  {
   "cell_type": "markdown",
   "metadata": {},
   "source": [
    "<img src=\"images/orientation thymio.png\" width=400/>\n"
   ]
  },
  {
   "cell_type": "markdown",
   "metadata": {},
   "source": [
    "We went through this 8 different conditions to compute the orientation of the robot. The provided Python function, orientation_detection, utilizes OpenCV to determine the orientation of a robot within an input image of a map. The process involves converting the image to grayscale, applying GaussianBlur for noise reduction, and using HoughCircles to detect circular shapes. The function then identifies two circles, assumed to represent the robot's small and large features. The orientation angle of the robot is calculated based on the relative positions of these circles. The function considers different cases to handle various orientations, such as when the small circle is to the left, right, above, or below the large circle. The calculated angle is printed for debugging purposes, and the final result is returned. If no circles are detected in the image, the function returns None."
   ]
  },
  {
   "cell_type": "markdown",
   "metadata": {},
   "source": [
    "### 1.4.2.2 Fonction and Tuning "
   ]
  },
  {
   "cell_type": "markdown",
   "metadata": {},
   "source": [
    "- **dp=1:** No subsampling, original image resolution.\n",
    "- **minDist=20:** Minimum distance between circle centers.\n",
    "- **param1=25:** Higher Canny edge detector threshold.\n",
    "- **param2=25:** Lower threshold for circle center detection.\n",
    "- **minRadius=10:** Minimum circle radius.\n",
    "- **maxRadius=50:** Maximum circle radius.\n",
    "\n",
    "These choices aim to balance sensitivity and specificity for detecting smaller, closely spaced circles in our specific use case. Adjustments may be needed based on the characteristics of the image, such as the camera proximity or brightness.\n"
   ]
  },
  {
   "cell_type": "code",
   "execution_count": 20,
   "metadata": {},
   "outputs": [],
   "source": [
    "def orientation_detection(image):\n",
    "    \"\"\"\n",
    "    Detects the orientation of the robot in the image using openCV functions\n",
    "    :param img: image of the map  \n",
    "    :return: the angle of orientation of the robot \n",
    "    \"\"\"\n",
    "    # Convert the image to grayscale\n",
    "    gray = cv2.cvtColor(image, cv2.COLOR_BGR2GRAY)\n",
    "    \n",
    "    # Apply GaussianBlur to reduce noise and improve contour detection\n",
    "    blurred = cv2.GaussianBlur(gray, (5, 5), 0)\n",
    "    \n",
    "    # Use HoughCircles to detect circles with adjusted parameters\n",
    "    circles = cv2.HoughCircles(\n",
    "        blurred, \n",
    "        cv2.HOUGH_GRADIENT, \n",
    "        dp=1, \n",
    "        minDist=20,  # Decreased minDist to detect closely located circles\n",
    "        param1=25, \n",
    "        param2=25,  # Decreased param2 for better sensitivity to smaller circles\n",
    "        minRadius=10,  # Adjusted minRadius for smaller circles\n",
    "        maxRadius=50  # Adjusted maxRadius for smaller circles\n",
    "    )\n",
    "    \n",
    "    # If circles are found, extract their positions\n",
    "    if circles is not None:\n",
    "        circles = np.uint16(np.around(circles))\n",
    "        \n",
    "        # Sort circles by radius to identify the small and large circles\n",
    "        circles = sorted(circles[0, :], key=lambda x: x[2])\n",
    "        \n",
    "        # Extract the positions of the small and large circles\n",
    "        small_circle = (circles[0][0], circles[0][1])\n",
    "        large_circle = (circles[1][0], circles[1][1])\n",
    "\n",
    "        # Draw circles on the image\n",
    "        cv2.circle(image, (small_circle[0], small_circle[1]), circles[0][2], (150, 0, 0), 5)  # Small circle in Blue\n",
    "        cv2.circle(image, (large_circle[0], large_circle[1]), circles[1][2], (0, 150, 0), 5)  # Large circle in Green\n",
    "\n",
    "        # Display the image with circles\n",
    "        plt.imshow(cv2.cvtColor(image, cv2.COLOR_BGR2RGB))\n",
    "        plt.title('Circles Detected')\n",
    "        plt.show()\n",
    "        \n",
    "    \n",
    "     ## case 1 \n",
    "        if ((small_circle[0]> large_circle[0]) & (small_circle[1]> large_circle[1])):\n",
    "            angle=np.degrees(np.arctan((small_circle[1]-large_circle[1])/(small_circle[0]-large_circle[0])))\n",
    "        \n",
    "    ## case 2\n",
    "        if ((small_circle[0]< large_circle[0]) & (small_circle[1]> large_circle[1])):\n",
    "            angle=np.degrees(np.arctan((small_circle[1]-large_circle[1])/(large_circle[0]-small_circle[0])))\n",
    "            angle= 180-angle\n",
    "    \n",
    "    ## case 3\n",
    "        if ((small_circle[0]< large_circle[0]) & (small_circle[1]<large_circle[1])):\n",
    "            angle=np.degrees(np.arctan((large_circle[1]-small_circle[1])/(large_circle[0]-small_circle[0])))\n",
    "            angle= 180+angle\n",
    "\n",
    "       \n",
    "    ## case 4\n",
    "        if ((small_circle[0] >large_circle[0]) & (small_circle[1]<large_circle[1])):\n",
    "            angle=np.degrees(np.arctan((small_circle[0]-large_circle[0])/(large_circle[1]-small_circle[1])))\n",
    "            angle= 270+angle\n",
    "\n",
    "    ## case 5 \n",
    "        if ((small_circle[0]==large_circle[0]) & (small_circle[1]>large_circle[1])):\n",
    "            angle=90\n",
    "        \n",
    "     ## case 6\n",
    "        if ((small_circle[0]==large_circle[0]) & (small_circle[1]<large_circle[1])):\n",
    "            angle=270\n",
    "\n",
    "     ## case 7\n",
    "        if ((small_circle[1]==large_circle[1]) & (small_circle[0]>large_circle[0])):\n",
    "            angle=0 \n",
    "\n",
    "    ## case 8\n",
    "        if ((small_circle[1]==large_circle[1]) & (small_circle[0]<large_circle[0])):\n",
    "            angle=180 \n",
    "\n",
    "        print(\"Small circle center = \", small_circle)\n",
    "        print(\"Big circle center = \", large_circle)   \n",
    "        \n",
    "        return angle\n",
    "    else:\n",
    "        return None "
   ]
  },
  {
   "cell_type": "markdown",
   "metadata": {},
   "source": [
    "Example usage "
   ]
  },
  {
   "cell_type": "code",
   "execution_count": 21,
   "metadata": {},
   "outputs": [
    {
     "data": {
      "image/png": "[encoded data removed]",
      "text/plain": [
       "<Figure size 640x480 with 1 Axes>"
      ]
     },
     "metadata": {},
     "output_type": "display_data"
    },
    {
     "name": "stdout",
     "output_type": "stream",
     "text": [
      "Small circle center =  (1092, 720)\n",
      "Big circle center =  (1174, 732)\n",
      "Orientation of the Thymio (deg) 188.32565033042684\n"
     ]
    }
   ],
   "source": [
    "# Example usage\n",
    "image3 = cv2.imread(\"images/envi.png\")\n",
    "thymio= orientation_detection(image3)\n",
    "print(\"Orientation of the Thymio (deg)\", thymio)"
   ]
  },
  {
   "cell_type": "markdown",
   "metadata": {},
   "source": [
    "# 2. Global navigation  <a class=\"anchor\" id=\"GlobalNav\"></a>"
   ]
  },
  {
   "cell_type": "markdown",
   "metadata": {},
   "source": [
    "## 2.1 Introduction"
   ]
  },
  {
   "cell_type": "markdown",
   "metadata": {},
   "source": [
    "The global navigation algorithm is an application of the Rapidly-exploring Random Tree (RRT) algorithm, which is often used in problems related to path planning and exploration in complex environments. Developed by Steven M. LaValle in the late 1990s, the RRT algorithm is particularly well-suited for high-dimensional spaces and environments with obstacles. The flexibility and reliability of the RRT makes it a popular choice in robotic motion planning, video game character movement, and autonomous vehicle navigation\n",
    "\n",
    "The core idea is to iteratively build a tree structure where each node in the tree represents a valid configuration within the search space. The tree is incrementally grown by randomly sampling new configurations and connecting them to the existing tree structure.  As the algorithm progresses, the tree rapidly explores the state space, seeking a path from an initial configuration to a goal configuration.\n",
    "\n",
    "With each added node the tree has a certain chance of checking if the goal configuration can be connected to the nearest node in the tree. If so, a feasible path has been found."
   ]
  },
  {
   "cell_type": "markdown",
   "metadata": {},
   "source": [
    "## 2.2 Pseudocode"
   ]
  },
  {
   "cell_type": "markdown",
   "metadata": {},
   "source": [
    "Here a pseudocode of how the RRT path planning works "
   ]
  },
  {
   "cell_type": "markdown",
   "metadata": {},
   "source": [
    "```text\n",
    "Initialization\n",
    "    Define map limits, obstacles coordinates, x_init, x_goal. \n",
    "    Append x_init to the tree.\n",
    "while(x_goal is not connected):\n",
    "    Always: \n",
    "        Find a new point x_new in the map that is not inside an obstacle.\n",
    "        Try to connect x_new with the nearest point already in the tree.\n",
    "        If the connection does not intersect an obstacle (== is valid):\n",
    "            Append x_new to the tree.\n",
    "    (10% chances to) or (at max samples) :\n",
    "        If x_goal can be connected to the nearest point in the tree. \n",
    "            Connect goal.\n",
    "Reconstruct path by following tree branches.\n",
    "return path"
   ]
  },
  {
   "cell_type": "markdown",
   "metadata": {},
   "source": [
    "## 2.3 Implementation"
   ]
  },
  {
   "cell_type": "markdown",
   "metadata": {},
   "source": [
    "The code is an adaptation from the [RRT Motion Planning library](https://github.com/motion-planning/rrt-algorithms) from users Szlango and tahsinkose [1]. <br>\n",
    "The algorithm is exported and executed through RRT2D.py.\n",
    "| RRT2D.py | Input | Output |\n",
    "|:-|:-------------|:---|\n",
    "| `def RRT_PlanPath(...)` | Map limits <br> Obstacles coordinates <br> Initial position <br> Thymio Radius <br> Goal position |The shortest path as an array containing  a succession of waypoints.|"
   ]
  },
  {
   "cell_type": "markdown",
   "metadata": {},
   "source": [
    "| Classes of Global navigation | Description |Key Functions |\n",
    "|:---|:------|:------|\n",
    "|`RRT` | 1. Coordinates other path planning classes to generate a viable path from x_init to x_goal, inside  search space X.   <br><br> 2. Removes unnecessary waypoints from the path. |   <span style=\"color: rgb(255, 80, 80);\">  def rrt_search(self) : </span> Returns a path from x_init to x_goal inside the search space. After max_samples iterations, if no path is found return None. <br> <br>  `def trim_path(self, path):` : For all intermediate waypoints N, this function checks if a direct connection can be made from N-1 to N+1 without intersecting obstacles. If so, N is deleted from the path. <br> Returns the shortened path _trimmed_path_<br>|\n",
    "|`SearchSpace` | Initializes a map within the bounds specified by user. Keeps track of obstacles populating the map inside a list.|   `def obstacle_free(x)` : Returns true if point x is not inside an obstacle <br> `def sample_free()` : Returns a point x that is within map bounds and not inside an obstacle. <br> `def collision_free(start,end,r)` : Returns true if a line can be traced from start point to end point without interesecting an obstacle. r is line resolution |\n",
    "|`RRTBase` | Provide the essential functions the RRT algorithm needs to operate.|  `def new_and_near(self, tree, q)` Returns a new <span style=\"color: rgb(255, 80, 80);\"> random </span> point not inside an obstacle and the point in the tree that is placed closest to it.<br> <br>   `    def connect_to_point(self, tree, x_a, x_b):` : If x_a in tree can be connected to x_b without intersecting obstacles, append x_b to the tree.  <br> <br> `def can_connect_to_goal(self, tree)` : Returns true if there is a valid connection from the goal to the nearest point already in the tree.  <br> <br>    `def reconstruct_path(self, tree, x_init, x_goal):` If N is the current point, _self.trees[tree].E[N]_ returns its parent node N-1. This function starts from x_goal  and iterates through all linkages until x_init.  <br>  Returns a path composed of all waypoints. <br> <br> |\n"
   ]
  },
  {
   "cell_type": "markdown",
   "metadata": {},
   "source": [
    "## 2.4 Example of visualization"
   ]
  },
  {
   "cell_type": "code",
   "execution_count": 23,
   "metadata": {},
   "outputs": [
    {
     "name": "stdout",
     "output_type": "stream",
     "text": [
      "[213 539 817 597]\n",
      "[440 373 495 498]\n",
      "[1081  253 1142  852]\n",
      "[254  10 676  64]\n",
      "Checking if can connect to goal at 17 samples\n",
      "Could not connect to goal\n",
      "Checking if can connect to goal at 151 samples\n",
      "Could not connect to goal\n",
      "Checking if can connect to goal at 191 samples\n",
      "Could not connect to goal\n",
      "Checking if can connect to goal at 211 samples\n",
      "Could not connect to goal\n",
      "Checking if can connect to goal at 239 samples\n",
      "Could not connect to goal\n",
      "Checking if can connect to goal at 249 samples\n",
      "Could not connect to goal\n",
      "Checking if can connect to goal at 267 samples\n",
      "Could not connect to goal\n",
      "Checking if can connect to goal at 309 samples\n",
      "Could not connect to goal\n",
      "Checking if can connect to goal at 323 samples\n",
      "Could not connect to goal\n",
      "Checking if can connect to goal at 347 samples\n",
      "Could not connect to goal\n",
      "Checking if can connect to goal at 363 samples\n",
      "Could not connect to goal\n",
      "Checking if can connect to goal at 367 samples\n",
      "Could not connect to goal\n",
      "Checking if can connect to goal at 395 samples\n",
      "Could not connect to goal\n",
      "Checking if can connect to goal at 407 samples\n",
      "Could not connect to goal\n",
      "Checking if can connect to goal at 439 samples\n",
      "Could not connect to goal\n",
      "Checking if can connect to goal at 449 samples\n",
      "Could not connect to goal\n",
      "Checking if can connect to goal at 459 samples\n",
      "Could not connect to goal\n",
      "Checking if can connect to goal at 477 samples\n",
      "Could not connect to goal\n",
      "Checking if can connect to goal at 519 samples\n",
      "Could not connect to goal\n",
      "Checking if can connect to goal at 539 samples\n",
      "Could not connect to goal\n",
      "Checking if can connect to goal at 563 samples\n",
      "Could not connect to goal\n",
      "Checking if can connect to goal at 569 samples\n",
      "Could not connect to goal\n",
      "Checking if can connect to goal at 611 samples\n",
      "Could not connect to goal\n",
      "Checking if can connect to goal at 627 samples\n",
      "Could not connect to goal\n",
      "Checking if can connect to goal at 669 samples\n",
      "Could not connect to goal\n",
      "Checking if can connect to goal at 701 samples\n",
      "Could not connect to goal\n",
      "Checking if can connect to goal at 723 samples\n",
      "Could not connect to goal\n",
      "Checking if can connect to goal at 767 samples\n",
      "Could not connect to goal\n",
      "Checking if can connect to goal at 783 samples\n",
      "Could not connect to goal\n",
      "Checking if can connect to goal at 851 samples\n",
      "Could not connect to goal\n",
      "Checking if can connect to goal at 929 samples\n",
      "Could not connect to goal\n",
      "Checking if can connect to goal at 957 samples\n",
      "Could not connect to goal\n",
      "Checking if can connect to goal at 961 samples\n",
      "Could not connect to goal\n",
      "Checking if can connect to goal at 989 samples\n",
      "Could not connect to goal\n",
      "Checking if can connect to goal at 1017 samples\n",
      "Could not connect to goal\n",
      "Checking if can connect to goal at 1045 samples\n",
      "Could not connect to goal\n",
      "Checking if can connect to goal at 1051 samples\n",
      "Could not connect to goal\n",
      "Checking if can connect to goal at 1075 samples\n",
      "Could not connect to goal\n",
      "Checking if can connect to goal at 1121 samples\n",
      "Can connect to goal\n",
      "[(800, 1000), (161.2592163428728, 673.2115823670131), (146.1824861772922, 513.0658287042287), (270, 300)]\n"
     ]
    },
    {
     "data": {
      "application/vnd.plotly.v1+json": {
       "config": {
        "plotlyServerURL": "https://plot.ly"
       },
       "data": [
        {
         "line": {
          "color": "DarkBlue",
          "width": 1
         },
         "mode": "lines",
         "type": "scatter",
         "x": [
          795.6683810901408,
          800
         ],
         "y": [
          990.9868386445294,
          1000
         ]
        },
        {
         "line": {
          "color": "DarkBlue",
          "width": 1
         },
         "mode": "lines",
         "type": "scatter",
         "x": [
          785.7950181424943,
          795.6683810901408
         ],
         "y": [
          989.4004263071967,
          990.9868386445294
         ]
        },
        {
         "line": {
          "color": "DarkBlue",
          "width": 1
         },
         "mode": "lines",
         "type": "scatter",
         "x": [
          776.373184412062,
          785.7950181424943
         ],
         "y": [
          992.7514036506126,
          989.4004263071967
         ]
        },
        {
         "line": {
          "color": "DarkBlue",
          "width": 1
         },
         "mode": "lines",
         "type": "scatter",
         "x": [
          768.1689136871302,
          776.373184412062
         ],
         "y": [
          998.4689155108563,
          992.7514036506126
         ]
        },
        {
         "line": {
          "color": "DarkBlue",
          "width": 1
         },
         "mode": "lines",
         "type": "scatter",
         "x": [
          758.2072554834317,
          768.1689136871302
         ],
         "y": [
          999.3437674027142,
          998.4689155108563
         ]
        },
        {
         "line": {
          "color": "DarkBlue",
          "width": 1
         },
         "mode": "lines",
         "type": "scatter",
         "x": [
          752.4814121812951,
          758.2072554834317
         ],
         "y": [
          991.1453091037791,
          999.3437674027142
         ]
        },
        {
         "line": {
          "color": "DarkBlue",
          "width": 1
         },
         "mode": "lines",
         "type": "scatter",
         "x": [
          745.1989223883674,
          752.4814121812951
         ],
         "y": [
          984.2921826336268,
          991.1453091037791
         ]
        },
        {
         "line": {
          "color": "DarkBlue",
          "width": 1
         },
         "mode": "lines",
         "type": "scatter",
         "x": [
          739.1131163751986,
          745.1989223883674
         ],
         "y": [
          976.3572620183919,
          984.2921826336268
         ]
        },
        {
         "line": {
          "color": "DarkBlue",
          "width": 1
         },
         "mode": "lines",
         "type": "scatter",
         "x": [
          732.7237556955971,
          739.1131163751986
         ],
         "y": [
          968.6646636208436,
          976.3572620183919
         ]
        },
        {
         "line": {
          "color": "DarkBlue",
          "width": 1
         },
         "mode": "lines",
         "type": "scatter",
         "x": [
          732.5009349584606,
          732.7237556955971
         ],
         "y": [
          958.667146383094,
          968.6646636208436
         ]
        },
        {
         "line": {
          "color": "DarkBlue",
          "width": 1
         },
         "mode": "lines",
         "type": "scatter",
         "x": [
          723.4868548500451,
          732.7237556955971
         ],
         "y": [
          972.4960684244946,
          968.6646636208436
         ]
        },
        {
         "line": {
          "color": "DarkBlue",
          "width": 1
         },
         "mode": "lines",
         "type": "scatter",
         "x": [
          724.1102534544134,
          732.5009349584606
         ],
         "y": [
          953.2268831635758,
          958.667146383094
         ]
        },
        {
         "line": {
          "color": "DarkBlue",
          "width": 1
         },
         "mode": "lines",
         "type": "scatter",
         "x": [
          713.4968232619955,
          723.4868548500451
         ],
         "y": [
          972.0496730058677,
          972.4960684244946
         ]
        },
        {
         "line": {
          "color": "DarkBlue",
          "width": 1
         },
         "mode": "lines",
         "type": "scatter",
         "x": [
          716.11191656066,
          724.1102534544134
         ],
         "y": [
          947.2246663286037,
          953.2268831635758
         ]
        },
        {
         "line": {
          "color": "DarkBlue",
          "width": 1
         },
         "mode": "lines",
         "type": "scatter",
         "x": [
          706.4039981512216,
          716.11191656066
         ],
         "y": [
          944.825433085318,
          947.2246663286037
         ]
        },
        {
         "line": {
          "color": "DarkBlue",
          "width": 1
         },
         "mode": "lines",
         "type": "scatter",
         "x": [
          698.4474794137849,
          706.4039981512216
         ],
         "y": [
          938.7678915393756,
          944.825433085318
         ]
        },
        {
         "line": {
          "color": "DarkBlue",
          "width": 1
         },
         "mode": "lines",
         "type": "scatter",
         "x": [
          701.213206502757,
          698.4474794137849
         ],
         "y": [
          929.157961588053,
          938.7678915393756
         ]
        },
        {
         "line": {
          "color": "DarkBlue",
          "width": 1
         },
         "mode": "lines",
         "type": "scatter",
         "x": [
          698.8310373038263,
          701.213206502757
         ],
         "y": [
          919.4458418447804,
          929.157961588053
         ]
        },
        {
         "line": {
          "color": "DarkBlue",
          "width": 1
         },
         "mode": "lines",
         "type": "scatter",
         "x": [
          694.5297502094132,
          698.8310373038263
         ],
         "y": [
          910.4181661011886,
          919.4458418447804
         ]
        },
        {
         "line": {
          "color": "DarkBlue",
          "width": 1
         },
         "mode": "lines",
         "type": "scatter",
         "x": [
          685.8788717342173,
          694.5297502094132
         ],
         "y": [
          905.4019621971003,
          910.4181661011886
         ]
        },
        {
         "line": {
          "color": "DarkBlue",
          "width": 1
         },
         "mode": "lines",
         "type": "scatter",
         "x": [
          704.3717787208604,
          713.4968232619955
         ],
         "y": [
          976.1403406924809,
          972.0496730058677
         ]
        },
        {
         "line": {
          "color": "DarkBlue",
          "width": 1
         },
         "mode": "lines",
         "type": "scatter",
         "x": [
          677.8441877696431,
          685.8788717342173
         ],
         "y": [
          899.4484881197726,
          905.4019621971003
         ]
        },
        {
         "line": {
          "color": "DarkBlue",
          "width": 1
         },
         "mode": "lines",
         "type": "scatter",
         "x": [
          671.18161969081,
          677.8441877696431
         ],
         "y": [
          891.9912643337439,
          899.4484881197726
         ]
        },
        {
         "line": {
          "color": "DarkBlue",
          "width": 1
         },
         "mode": "lines",
         "type": "scatter",
         "x": [
          661.7636910234945,
          671.18161969081
         ],
         "y": [
          888.6293274489469,
          891.9912643337439
         ]
        },
        {
         "line": {
          "color": "DarkBlue",
          "width": 1
         },
         "mode": "lines",
         "type": "scatter",
         "x": [
          651.7637069145436,
          661.7636910234945
         ],
         "y": [
          888.6471549762205,
          888.6293274489469
         ]
        },
        {
         "line": {
          "color": "DarkBlue",
          "width": 1
         },
         "mode": "lines",
         "type": "scatter",
         "x": [
          642.0280847281471,
          651.7637069145436
         ],
         "y": [
          886.3629350560414,
          888.6471549762205
         ]
        },
        {
         "line": {
          "color": "DarkBlue",
          "width": 1
         },
         "mode": "lines",
         "type": "scatter",
         "x": [
          632.0491151370766,
          642.0280847281471
         ],
         "y": [
          887.0111371082518,
          886.3629350560414
         ]
        },
        {
         "line": {
          "color": "DarkBlue",
          "width": 1
         },
         "mode": "lines",
         "type": "scatter",
         "x": [
          627.1306530655028,
          632.0491151370766
         ],
         "y": [
          878.3043161700167,
          887.0111371082518
         ]
        },
        {
         "line": {
          "color": "DarkBlue",
          "width": 1
         },
         "mode": "lines",
         "type": "scatter",
         "x": [
          621.4308511252367,
          627.1306530655028
         ],
         "y": [
          870.0877318528117,
          878.3043161700167
         ]
        },
        {
         "line": {
          "color": "DarkBlue",
          "width": 1
         },
         "mode": "lines",
         "type": "scatter",
         "x": [
          624.1360511721932,
          621.4308511252367
         ],
         "y": [
          860.460588314568,
          870.0877318528117
         ]
        },
        {
         "line": {
          "color": "DarkBlue",
          "width": 1
         },
         "mode": "lines",
         "type": "scatter",
         "x": [
          612.0620380432092,
          621.4308511252367
         ],
         "y": [
          873.5842074260182,
          870.0877318528117
         ]
        },
        {
         "line": {
          "color": "DarkBlue",
          "width": 1
         },
         "mode": "lines",
         "type": "scatter",
         "x": [
          696.2524185375227,
          704.3717787208604
         ],
         "y": [
          981.977805057531,
          976.1403406924809
         ]
        },
        {
         "line": {
          "color": "DarkBlue",
          "width": 1
         },
         "mode": "lines",
         "type": "scatter",
         "x": [
          627.1398873958512,
          624.1360511721932
         ],
         "y": [
          850.9224035846814,
          860.460588314568
         ]
        },
        {
         "line": {
          "color": "DarkBlue",
          "width": 1
         },
         "mode": "lines",
         "type": "scatter",
         "x": [
          634.7852490688276,
          627.1398873958512
         ],
         "y": [
          844.4765952653638,
          850.9224035846814
         ]
        },
        {
         "line": {
          "color": "DarkBlue",
          "width": 1
         },
         "mode": "lines",
         "type": "scatter",
         "x": [
          629.0451987385111,
          634.7852490688276
         ],
         "y": [
          836.2880775603434,
          844.4765952653638
         ]
        },
        {
         "line": {
          "color": "DarkBlue",
          "width": 1
         },
         "mode": "lines",
         "type": "scatter",
         "x": [
          756.1548317731526,
          758.2072554834317
         ],
         "y": [
          1009.1308791785899,
          999.3437674027142
         ]
        },
        {
         "line": {
          "color": "DarkBlue",
          "width": 1
         },
         "mode": "lines",
         "type": "scatter",
         "x": [
          620.843249639535,
          629.0451987385111
         ],
         "y": [
          830.5672357535981,
          836.2880775603434
         ]
        },
        {
         "line": {
          "color": "DarkBlue",
          "width": 1
         },
         "mode": "lines",
         "type": "scatter",
         "x": [
          691.2712092531106,
          696.2524185375227
         ],
         "y": [
          990.6488807730859,
          981.977805057531
         ]
        },
        {
         "line": {
          "color": "DarkBlue",
          "width": 1
         },
         "mode": "lines",
         "type": "scatter",
         "x": [
          624.1342583394362,
          620.843249639535
         ],
         "y": [
          821.1242880285932,
          830.5672357535981
         ]
        },
        {
         "line": {
          "color": "DarkBlue",
          "width": 1
         },
         "mode": "lines",
         "type": "scatter",
         "x": [
          621.2188137191807,
          624.1342583394362
         ],
         "y": [
          811.558715245627,
          821.1242880285932
         ]
        },
        {
         "line": {
          "color": "DarkBlue",
          "width": 1
         },
         "mode": "lines",
         "type": "scatter",
         "x": [
          613.6881339814216,
          621.2188137191807
         ],
         "y": [
          804.9792880146817,
          811.558715245627
         ]
        },
        {
         "line": {
          "color": "DarkBlue",
          "width": 1
         },
         "mode": "lines",
         "type": "scatter",
         "x": [
          608.7811924973314,
          613.6881339814216
         ],
         "y": [
          796.2659691709969,
          804.9792880146817
         ]
        },
        {
         "line": {
          "color": "DarkBlue",
          "width": 1
         },
         "mode": "lines",
         "type": "scatter",
         "x": [
          599.2400897221326,
          608.7811924973314
         ],
         "y": [
          793.2714144740357,
          796.2659691709969
         ]
        },
        {
         "line": {
          "color": "DarkBlue",
          "width": 1
         },
         "mode": "lines",
         "type": "scatter",
         "x": [
          685.1584020843555,
          691.2712092531106
         ],
         "y": [
          998.5630192933304,
          990.6488807730859
         ]
        },
        {
         "line": {
          "color": "DarkBlue",
          "width": 1
         },
         "mode": "lines",
         "type": "scatter",
         "x": [
          676.3241737270278,
          685.1584020843555
         ],
         "y": [
          1003.2487859681216,
          998.5630192933304
         ]
        },
        {
         "line": {
          "color": "DarkBlue",
          "width": 1
         },
         "mode": "lines",
         "type": "scatter",
         "x": [
          757.4989538377315,
          756.1548317731526
         ],
         "y": [
          1019.0401342401731,
          1009.1308791785899
         ]
        },
        {
         "line": {
          "color": "DarkBlue",
          "width": 1
         },
         "mode": "lines",
         "type": "scatter",
         "x": [
          801.9629082243678,
          795.6683810901408
         ],
         "y": [
          983.2164507419546,
          990.9868386445294
         ]
        },
        {
         "line": {
          "color": "DarkBlue",
          "width": 1
         },
         "mode": "lines",
         "type": "scatter",
         "x": [
          612.6681886969176,
          608.7811924973314
         ],
         "y": [
          787.0523238259447,
          796.2659691709969
         ]
        },
        {
         "line": {
          "color": "DarkBlue",
          "width": 1
         },
         "mode": "lines",
         "type": "scatter",
         "x": [
          611.5379380445688,
          612.6681886969176
         ],
         "y": [
          777.1164024563451,
          787.0523238259447
         ]
        },
        {
         "line": {
          "color": "DarkBlue",
          "width": 1
         },
         "mode": "lines",
         "type": "scatter",
         "x": [
          667.0690650281038,
          676.3241737270278
         ],
         "y": [
          1007.0359964152848,
          1003.2487859681216
         ]
        },
        {
         "line": {
          "color": "DarkBlue",
          "width": 1
         },
         "mode": "lines",
         "type": "scatter",
         "x": [
          615.0608420995976,
          611.5379380445688
         ],
         "y": [
          767.7574950938875,
          777.1164024563451
         ]
        },
        {
         "line": {
          "color": "DarkBlue",
          "width": 1
         },
         "mode": "lines",
         "type": "scatter",
         "x": [
          622.9430159281994,
          615.0608420995976
         ],
         "y": [
          761.6035259896668,
          767.7574950938875
         ]
        },
        {
         "line": {
          "color": "DarkBlue",
          "width": 1
         },
         "mode": "lines",
         "type": "scatter",
         "x": [
          618.5177140448102,
          622.9430159281994
         ],
         "y": [
          752.635989915534,
          761.6035259896668
         ]
        },
        {
         "line": {
          "color": "DarkBlue",
          "width": 1
         },
         "mode": "lines",
         "type": "scatter",
         "x": [
          589.8928850584563,
          599.2400897221326
         ],
         "y": [
          789.7175764114128,
          793.2714144740357
         ]
        },
        {
         "line": {
          "color": "DarkBlue",
          "width": 1
         },
         "mode": "lines",
         "type": "scatter",
         "x": [
          622.5098291115871,
          618.5177140448102
         ],
         "y": [
          743.467401294944,
          752.635989915534
         ]
        },
        {
         "line": {
          "color": "DarkBlue",
          "width": 1
         },
         "mode": "lines",
         "type": "scatter",
         "x": [
          629.6186967087222,
          622.5098291115871
         ],
         "y": [
          736.434336423467,
          743.467401294944
         ]
        },
        {
         "line": {
          "color": "DarkBlue",
          "width": 1
         },
         "mode": "lines",
         "type": "scatter",
         "x": [
          602.9743483370527,
          612.0620380432092
         ],
         "y": [
          877.757203448616,
          873.5842074260182
         ]
        },
        {
         "line": {
          "color": "DarkBlue",
          "width": 1
         },
         "mode": "lines",
         "type": "scatter",
         "x": [
          581.7799493840821,
          589.8928850584563
         ],
         "y": [
          783.8711865216203,
          789.7175764114128
         ]
        },
        {
         "line": {
          "color": "DarkBlue",
          "width": 1
         },
         "mode": "lines",
         "type": "scatter",
         "x": [
          631.2997245223034,
          632.0491151370766
         ],
         "y": [
          896.9830182600952,
          887.0111371082518
         ]
        },
        {
         "line": {
          "color": "DarkBlue",
          "width": 1
         },
         "mode": "lines",
         "type": "scatter",
         "x": [
          657.758057898638,
          667.0690650281038
         ],
         "y": [
          1010.6836184125643,
          1007.0359964152848
         ]
        },
        {
         "line": {
          "color": "DarkBlue",
          "width": 1
         },
         "mode": "lines",
         "type": "scatter",
         "x": [
          653.4418347592074,
          657.758057898638
         ],
         "y": [
          1019.7041626206841,
          1010.6836184125643
         ]
        },
        {
         "line": {
          "color": "DarkBlue",
          "width": 1
         },
         "mode": "lines",
         "type": "scatter",
         "x": [
          651.6006410040097,
          653.4418347592074
         ],
         "y": [
          1029.533201513466,
          1019.7041626206841
         ]
        },
        {
         "line": {
          "color": "DarkBlue",
          "width": 1
         },
         "mode": "lines",
         "type": "scatter",
         "x": [
          625.4382525051221,
          629.6186967087222
         ],
         "y": [
          727.3500705609669,
          736.434336423467
         ]
        },
        {
         "line": {
          "color": "DarkBlue",
          "width": 1
         },
         "mode": "lines",
         "type": "scatter",
         "x": [
          627.4572039073739,
          625.4382525051221
         ],
         "y": [
          717.5559991279342,
          727.3500705609669
         ]
        },
        {
         "line": {
          "color": "DarkBlue",
          "width": 1
         },
         "mode": "lines",
         "type": "scatter",
         "x": [
          621.7601369860699,
          627.4572039073739
         ],
         "y": [
          709.3375182163434,
          717.5559991279342
         ]
        },
        {
         "line": {
          "color": "DarkBlue",
          "width": 1
         },
         "mode": "lines",
         "type": "scatter",
         "x": [
          574.3612967253064,
          581.7799493840821
         ],
         "y": [
          777.1656967760133,
          783.8711865216203
         ]
        },
        {
         "line": {
          "color": "DarkBlue",
          "width": 1
         },
         "mode": "lines",
         "type": "scatter",
         "x": [
          647.310593353271,
          651.6006410040097
         ],
         "y": [
          1038.566223773728,
          1029.533201513466
         ]
        },
        {
         "line": {
          "color": "DarkBlue",
          "width": 1
         },
         "mode": "lines",
         "type": "scatter",
         "x": [
          593.4633116438501,
          602.9743483370527
         ],
         "y": [
          880.8459217945573,
          877.757203448616
         ]
        },
        {
         "line": {
          "color": "DarkBlue",
          "width": 1
         },
         "mode": "lines",
         "type": "scatter",
         "x": [
          638.4975498555511,
          647.310593353271
         ],
         "y": [
          1043.2917146802158,
          1038.566223773728
         ]
        },
        {
         "line": {
          "color": "DarkBlue",
          "width": 1
         },
         "mode": "lines",
         "type": "scatter",
         "x": [
          630.2305143115495,
          638.4975498555511
         ],
         "y": [
          1048.9180921394886,
          1043.2917146802158
         ]
        },
        {
         "line": {
          "color": "DarkBlue",
          "width": 1
         },
         "mode": "lines",
         "type": "scatter",
         "x": [
          762.4891820776401,
          757.4989538377315
         ],
         "y": [
          1027.7060226605035,
          1019.0401342401731
         ]
        },
        {
         "line": {
          "color": "DarkBlue",
          "width": 1
         },
         "mode": "lines",
         "type": "scatter",
         "x": [
          707.8074468022969,
          698.8310373038263
         ],
         "y": [
          915.0385668912783,
          919.4458418447804
         ]
        },
        {
         "line": {
          "color": "DarkBlue",
          "width": 1
         },
         "mode": "lines",
         "type": "scatter",
         "x": [
          615.1375100965321,
          621.7601369860699
         ],
         "y": [
          701.8448008800248,
          709.3375182163434
         ]
        },
        {
         "line": {
          "color": "DarkBlue",
          "width": 1
         },
         "mode": "lines",
         "type": "scatter",
         "x": [
          612.281464410531,
          615.1375100965321
         ],
         "y": [
          692.2613253601794,
          701.8448008800248
         ]
        },
        {
         "line": {
          "color": "DarkBlue",
          "width": 1
         },
         "mode": "lines",
         "type": "scatter",
         "x": [
          566.2782192651587,
          574.3612967253064
         ],
         "y": [
          771.2780946517821,
          777.1656967760133
         ]
        },
        {
         "line": {
          "color": "DarkBlue",
          "width": 1
         },
         "mode": "lines",
         "type": "scatter",
         "x": [
          605.0804044065333,
          612.281464410531
         ],
         "y": [
          685.3226846562069,
          692.2613253601794
         ]
        },
        {
         "line": {
          "color": "DarkBlue",
          "width": 1
         },
         "mode": "lines",
         "type": "scatter",
         "x": [
          556.317907843462,
          566.2782192651587
         ],
         "y": [
          772.1681487977858,
          771.2780946517821
         ]
        },
        {
         "line": {
          "color": "DarkBlue",
          "width": 1
         },
         "mode": "lines",
         "type": "scatter",
         "x": [
          621.3775953673002,
          630.2305143115495
         ],
         "y": [
          1053.5684497780526,
          1048.9180921394886
         ]
        },
        {
         "line": {
          "color": "DarkBlue",
          "width": 1
         },
         "mode": "lines",
         "type": "scatter",
         "x": [
          621.5222160712686,
          621.3775953673002
         ],
         "y": [
          1063.5674039659657,
          1053.5684497780526
         ]
        },
        {
         "line": {
          "color": "DarkBlue",
          "width": 1
         },
         "mode": "lines",
         "type": "scatter",
         "x": [
          611.5863929740076,
          621.5222160712686
         ],
         "y": [
          1064.6985181865175,
          1063.5674039659657
         ]
        },
        {
         "line": {
          "color": "DarkBlue",
          "width": 1
         },
         "mode": "lines",
         "type": "scatter",
         "x": [
          603.7410181353379,
          611.5863929740076
         ],
         "y": [
          1070.8993321363766,
          1064.6985181865175
         ]
        },
        {
         "line": {
          "color": "DarkBlue",
          "width": 1
         },
         "mode": "lines",
         "type": "scatter",
         "x": [
          593.7416053680763,
          603.7410181353379
         ],
         "y": [
          1071.007703303789,
          1070.8993321363766
         ]
        },
        {
         "line": {
          "color": "DarkBlue",
          "width": 1
         },
         "mode": "lines",
         "type": "scatter",
         "x": [
          547.8431719527067,
          556.317907843462
         ],
         "y": [
          777.4765244044986,
          772.1681487977858
         ]
        },
        {
         "line": {
          "color": "DarkBlue",
          "width": 1
         },
         "mode": "lines",
         "type": "scatter",
         "x": [
          598.3475099017313,
          605.0804044065333
         ],
         "y": [
          677.92889458702,
          685.3226846562069
         ]
        },
        {
         "line": {
          "color": "DarkBlue",
          "width": 1
         },
         "mode": "lines",
         "type": "scatter",
         "x": [
          605.3164105469807,
          598.3475099017313
         ],
         "y": [
          670.7571149057524,
          677.92889458702
         ]
        },
        {
         "line": {
          "color": "DarkBlue",
          "width": 1
         },
         "mode": "lines",
         "type": "scatter",
         "x": [
          583.9257617515715,
          593.7416053680763
         ],
         "y": [
          1072.9179949297773,
          1071.007703303789
         ]
        },
        {
         "line": {
          "color": "DarkBlue",
          "width": 1
         },
         "mode": "lines",
         "type": "scatter",
         "x": [
          537.8915355626707,
          547.8431719527067
         ],
         "y": [
          776.4942142902725,
          777.4765244044986
         ]
        },
        {
         "line": {
          "color": "DarkBlue",
          "width": 1
         },
         "mode": "lines",
         "type": "scatter",
         "x": [
          574.7037371176617,
          583.9257617515715
         ],
         "y": [
          1076.7850689724564,
          1072.9179949297773
         ]
        },
        {
         "line": {
          "color": "DarkBlue",
          "width": 1
         },
         "mode": "lines",
         "type": "scatter",
         "x": [
          565.3663861173159,
          574.7037371176617
         ],
         "y": [
          1080.364716482525,
          1076.7850689724564
         ]
        },
        {
         "line": {
          "color": "DarkBlue",
          "width": 1
         },
         "mode": "lines",
         "type": "scatter",
         "x": [
          527.9584631667565,
          537.8915355626707
         ],
         "y": [
          775.3391936075454,
          776.4942142902725
         ]
        },
        {
         "line": {
          "color": "DarkBlue",
          "width": 1
         },
         "mode": "lines",
         "type": "scatter",
         "x": [
          598.8463630215408,
          605.3164105469807
         ],
         "y": [
          663.1322552336961,
          670.7571149057524
         ]
        },
        {
         "line": {
          "color": "DarkBlue",
          "width": 1
         },
         "mode": "lines",
         "type": "scatter",
         "x": [
          517.9842385167846,
          527.9584631667565
         ],
         "y": [
          776.0567189603323,
          775.3391936075454
         ]
        },
        {
         "line": {
          "color": "DarkBlue",
          "width": 1
         },
         "mode": "lines",
         "type": "scatter",
         "x": [
          556.1353182413665,
          565.3663861173159
         ],
         "y": [
          1084.2101535018526,
          1080.364716482525
         ]
        },
        {
         "line": {
          "color": "DarkBlue",
          "width": 1
         },
         "mode": "lines",
         "type": "scatter",
         "x": [
          600.5372304078667,
          598.8463630215408
         ],
         "y": [
          653.2762434905081,
          663.1322552336961
         ]
        },
        {
         "line": {
          "color": "DarkBlue",
          "width": 1
         },
         "mode": "lines",
         "type": "scatter",
         "x": [
          585.2055413483562,
          593.4633116438501
         ],
         "y": [
          886.4858889706016,
          880.8459217945573
         ]
        },
        {
         "line": {
          "color": "DarkBlue",
          "width": 1
         },
         "mode": "lines",
         "type": "scatter",
         "x": [
          713.6882846935689,
          707.8074468022969
         ],
         "y": [
          906.9505667863957,
          915.0385668912783
         ]
        },
        {
         "line": {
          "color": "DarkBlue",
          "width": 1
         },
         "mode": "lines",
         "type": "scatter",
         "x": [
          607.3568716154381,
          615.1375100965321
         ],
         "y": [
          708.1266529020418,
          701.8448008800248
         ]
        },
        {
         "line": {
          "color": "DarkBlue",
          "width": 1
         },
         "mode": "lines",
         "type": "scatter",
         "x": [
          722.2848420482163,
          713.6882846935689
         ],
         "y": [
          901.8418290119296,
          906.9505667863957
         ]
        },
        {
         "line": {
          "color": "DarkBlue",
          "width": 1
         },
         "mode": "lines",
         "type": "scatter",
         "x": [
          765.1771998387466,
          762.4891820776401
         ],
         "y": [
          1037.3379778366855,
          1027.7060226605035
         ]
        },
        {
         "line": {
          "color": "DarkBlue",
          "width": 1
         },
         "mode": "lines",
         "type": "scatter",
         "x": [
          549.8824503656595,
          556.1353182413665
         ],
         "y": [
          1076.406203006818,
          1084.2101535018526
         ]
        },
        {
         "line": {
          "color": "DarkBlue",
          "width": 1
         },
         "mode": "lines",
         "type": "scatter",
         "x": [
          729.432274921375,
          722.2848420482163
         ],
         "y": [
          894.8479600309083,
          901.8418290119296
         ]
        },
        {
         "line": {
          "color": "DarkBlue",
          "width": 1
         },
         "mode": "lines",
         "type": "scatter",
         "x": [
          672.8768735135639,
          677.8441877696431
         ],
         "y": [
          908.1275312168744,
          899.4484881197726
         ]
        },
        {
         "line": {
          "color": "DarkBlue",
          "width": 1
         },
         "mode": "lines",
         "type": "scatter",
         "x": [
          540.5964865617517,
          549.8824503656595
         ],
         "y": [
          1080.1171161333295,
          1076.406203006818
         ]
        },
        {
         "line": {
          "color": "DarkBlue",
          "width": 1
         },
         "mode": "lines",
         "type": "scatter",
         "x": [
          530.7989131751718,
          540.5964865617517
         ],
         "y": [
          1078.1152280908602,
          1080.1171161333295
         ]
        },
        {
         "line": {
          "color": "DarkBlue",
          "width": 1
         },
         "mode": "lines",
         "type": "scatter",
         "x": [
          523.9448580284253,
          530.7989131751718
         ],
         "y": [
          1085.3968438487368,
          1078.1152280908602
         ]
        },
        {
         "line": {
          "color": "DarkBlue",
          "width": 1
         },
         "mode": "lines",
         "type": "scatter",
         "x": [
          509.5153627800061,
          517.9842385167846
         ],
         "y": [
          770.738999171268,
          776.0567189603323
         ]
        },
        {
         "line": {
          "color": "DarkBlue",
          "width": 1
         },
         "mode": "lines",
         "type": "scatter",
         "x": [
          500.9049829736496,
          509.5153627800061
         ],
         "y": [
          775.8244057027351,
          770.738999171268
         ]
        },
        {
         "line": {
          "color": "DarkBlue",
          "width": 1
         },
         "mode": "lines",
         "type": "scatter",
         "x": [
          802.6474807720134,
          800
         ],
         "y": [
          1009.643176113803,
          1000
         ]
        },
        {
         "line": {
          "color": "DarkBlue",
          "width": 1
         },
         "mode": "lines",
         "type": "scatter",
         "x": [
          498.9553140091202,
          500.9049829736496
         ],
         "y": [
          785.6325039347448,
          775.8244057027351
         ]
        },
        {
         "line": {
          "color": "DarkBlue",
          "width": 1
         },
         "mode": "lines",
         "type": "scatter",
         "x": [
          489.93166404573014,
          498.9553140091202
         ],
         "y": [
          789.9422302994009,
          785.6325039347448
         ]
        },
        {
         "line": {
          "color": "DarkBlue",
          "width": 1
         },
         "mode": "lines",
         "type": "scatter",
         "x": [
          625.8191144479572,
          621.5222160712686
         ],
         "y": [
          1072.5971694302739,
          1063.5674039659657
         ]
        },
        {
         "line": {
          "color": "DarkBlue",
          "width": 1
         },
         "mode": "lines",
         "type": "scatter",
         "x": [
          514.1447390496293,
          523.9448580284253
         ],
         "y": [
          1087.3862326999779,
          1085.3968438487368
         ]
        },
        {
         "line": {
          "color": "DarkBlue",
          "width": 1
         },
         "mode": "lines",
         "type": "scatter",
         "x": [
          648.8409930143507,
          657.758057898638
         ],
         "y": [
          1006.157477247133,
          1010.6836184125643
         ]
        },
        {
         "line": {
          "color": "DarkBlue",
          "width": 1
         },
         "mode": "lines",
         "type": "scatter",
         "x": [
          504.1537897939354,
          514.1447390496293
         ],
         "y": [
          1086.9608705364622,
          1087.3862326999779
         ]
        },
        {
         "line": {
          "color": "DarkBlue",
          "width": 1
         },
         "mode": "lines",
         "type": "scatter",
         "x": [
          494.93214781368545,
          504.1537897939354
         ],
         "y": [
          1090.8288569878464,
          1086.9608705364622
         ]
        },
        {
         "line": {
          "color": "DarkBlue",
          "width": 1
         },
         "mode": "lines",
         "type": "scatter",
         "x": [
          747.5010355106781,
          757.4989538377315
         ],
         "y": [
          1019.2441664081518,
          1019.0401342401731
         ]
        },
        {
         "line": {
          "color": "DarkBlue",
          "width": 1
         },
         "mode": "lines",
         "type": "scatter",
         "x": [
          481.06582045737275,
          489.93166404573014
         ],
         "y": [
          785.3165608919765,
          789.9422302994009
         ]
        },
        {
         "line": {
          "color": "DarkBlue",
          "width": 1
         },
         "mode": "lines",
         "type": "scatter",
         "x": [
          504.0281989487322,
          504.1537897939354
         ],
         "y": [
          1076.9616592205832,
          1086.9608705364622
         ]
        },
        {
         "line": {
          "color": "DarkBlue",
          "width": 1
         },
         "mode": "lines",
         "type": "scatter",
         "x": [
          471.66264713848733,
          481.06582045737275
         ],
         "y": [
          781.9135722738641,
          785.3165608919765
         ]
        },
        {
         "line": {
          "color": "DarkBlue",
          "width": 1
         },
         "mode": "lines",
         "type": "scatter",
         "x": [
          462.3737587988952,
          471.66264713848733
         ],
         "y": [
          778.2099857128952,
          781.9135722738641
         ]
        },
        {
         "line": {
          "color": "DarkBlue",
          "width": 1
         },
         "mode": "lines",
         "type": "scatter",
         "x": [
          738.2425936843476,
          747.5010355106781
         ],
         "y": [
          1023.0232211773308,
          1019.2441664081518
         ]
        },
        {
         "line": {
          "color": "DarkBlue",
          "width": 1
         },
         "mode": "lines",
         "type": "scatter",
         "x": [
          490.90881660372855,
          494.93214781368545
         ],
         "y": [
          1099.9837904105964,
          1090.8288569878464
         ]
        },
        {
         "line": {
          "color": "DarkBlue",
          "width": 1
         },
         "mode": "lines",
         "type": "scatter",
         "x": [
          630.8235940035865,
          625.8191144479572
         ],
         "y": [
          1081.2548356502946,
          1072.5971694302739
         ]
        },
        {
         "line": {
          "color": "DarkBlue",
          "width": 1
         },
         "mode": "lines",
         "type": "scatter",
         "x": [
          456.0777300503022,
          462.3737587988952
         ],
         "y": [
          770.4408144574207,
          778.2099857128952
         ]
        },
        {
         "line": {
          "color": "DarkBlue",
          "width": 1
         },
         "mode": "lines",
         "type": "scatter",
         "x": [
          576.9952868100621,
          574.7037371176617
         ],
         "y": [
          1086.5189684997404,
          1076.7850689724564
         ]
        },
        {
         "line": {
          "color": "DarkBlue",
          "width": 1
         },
         "mode": "lines",
         "type": "scatter",
         "x": [
          481.5513242983782,
          490.90881660372855
         ],
         "y": [
          1103.5104514029954,
          1099.9837904105964
         ]
        },
        {
         "line": {
          "color": "DarkBlue",
          "width": 1
         },
         "mode": "lines",
         "type": "scatter",
         "x": [
          449.8339612578382,
          456.0777300503022
         ],
         "y": [
          762.62958207922,
          770.4408144574207
         ]
        },
        {
         "line": {
          "color": "DarkBlue",
          "width": 1
         },
         "mode": "lines",
         "type": "scatter",
         "x": [
          444.56222972630854,
          449.8339612578382
         ],
         "y": [
          754.1320032087725,
          762.62958207922
         ]
        },
        {
         "line": {
          "color": "DarkBlue",
          "width": 1
         },
         "mode": "lines",
         "type": "scatter",
         "x": [
          471.7061828393084,
          481.5513242983782
         ],
         "y": [
          1105.263502928452,
          1103.5104514029954
         ]
        },
        {
         "line": {
          "color": "DarkBlue",
          "width": 1
         },
         "mode": "lines",
         "type": "scatter",
         "x": [
          462.0369962395359,
          471.7061828393084
         ],
         "y": [
          1107.8143519045343,
          1105.263502928452
         ]
        },
        {
         "line": {
          "color": "DarkBlue",
          "width": 1
         },
         "mode": "lines",
         "type": "scatter",
         "x": [
          640.924011741178,
          648.8409930143507
         ],
         "y": [
          1000.0483523081396,
          1006.157477247133
         ]
        },
        {
         "line": {
          "color": "DarkBlue",
          "width": 1
         },
         "mode": "lines",
         "type": "scatter",
         "x": [
          439.613561865985,
          444.56222972630854
         ],
         "y": [
          745.4423146983482,
          754.1320032087725
         ]
        },
        {
         "line": {
          "color": "DarkBlue",
          "width": 1
         },
         "mode": "lines",
         "type": "scatter",
         "x": [
          452.07702220104096,
          462.0369962395359
         ],
         "y": [
          1108.7081735604072,
          1107.8143519045343
         ]
        },
        {
         "line": {
          "color": "DarkBlue",
          "width": 1
         },
         "mode": "lines",
         "type": "scatter",
         "x": [
          635.8986922900287,
          627.4572039073739
         ],
         "y": [
          712.1949102566783,
          717.5559991279342
         ]
        },
        {
         "line": {
          "color": "DarkBlue",
          "width": 1
         },
         "mode": "lines",
         "type": "scatter",
         "x": [
          445.14817632420517,
          452.07702220104096
         ],
         "y": [
          1115.9186586214178,
          1108.7081735604072
         ]
        },
        {
         "line": {
          "color": "DarkBlue",
          "width": 1
         },
         "mode": "lines",
         "type": "scatter",
         "x": [
          432.7450112552639,
          439.613561865985
         ],
         "y": [
          738.1743705249273,
          745.4423146983482
         ]
        },
        {
         "line": {
          "color": "DarkBlue",
          "width": 1
         },
         "mode": "lines",
         "type": "scatter",
         "x": [
          435.6199471511827,
          445.14817632420517
         ],
         "y": [
          1118.953926126328,
          1115.9186586214178
         ]
        },
        {
         "line": {
          "color": "DarkBlue",
          "width": 1
         },
         "mode": "lines",
         "type": "scatter",
         "x": [
          427.10674415158707,
          432.7450112552639
         ],
         "y": [
          729.9154393551212,
          738.1743705249273
         ]
        },
        {
         "line": {
          "color": "DarkBlue",
          "width": 1
         },
         "mode": "lines",
         "type": "scatter",
         "x": [
          747.2806955061843,
          739.1131163751986
         ],
         "y": [
          970.5874568969787,
          976.3572620183919
         ]
        },
        {
         "line": {
          "color": "DarkBlue",
          "width": 1
         },
         "mode": "lines",
         "type": "scatter",
         "x": [
          422.7370580451467,
          427.10674415158707
         ],
         "y": [
          720.9206718021945,
          729.9154393551212
         ]
        },
        {
         "line": {
          "color": "DarkBlue",
          "width": 1
         },
         "mode": "lines",
         "type": "scatter",
         "x": [
          418.6532026595951,
          422.7370580451467
         ],
         "y": [
          711.7925764263836,
          720.9206718021945
         ]
        },
        {
         "line": {
          "color": "DarkBlue",
          "width": 1
         },
         "mode": "lines",
         "type": "scatter",
         "x": [
          408.7568946381356,
          418.6532026595951
         ],
         "y": [
          713.2289216301544,
          711.7925764263836
         ]
        },
        {
         "line": {
          "color": "DarkBlue",
          "width": 1
         },
         "mode": "lines",
         "type": "scatter",
         "x": [
          425.6215142489106,
          435.6199471511827
         ],
         "y": [
          1119.1309557813645,
          1118.953926126328
         ]
        },
        {
         "line": {
          "color": "DarkBlue",
          "width": 1
         },
         "mode": "lines",
         "type": "scatter",
         "x": [
          695.3939163145659,
          704.3717787208604
         ],
         "y": [
          971.7360261472148,
          976.1403406924809
         ]
        },
        {
         "line": {
          "color": "DarkBlue",
          "width": 1
         },
         "mode": "lines",
         "type": "scatter",
         "x": [
          417.6752288576448,
          425.6215142489106
         ],
         "y": [
          1113.0599963447883,
          1119.1309557813645
         ]
        },
        {
         "line": {
          "color": "DarkBlue",
          "width": 1
         },
         "mode": "lines",
         "type": "scatter",
         "x": [
          414.105401895463,
          417.6752288576448
         ],
         "y": [
          1103.7188863754068,
          1113.0599963447883
         ]
        },
        {
         "line": {
          "color": "DarkBlue",
          "width": 1
         },
         "mode": "lines",
         "type": "scatter",
         "x": [
          408.61131777469654,
          417.6752288576448
         ],
         "y": [
          1117.284391671981,
          1113.0599963447883
         ]
        },
        {
         "line": {
          "color": "DarkBlue",
          "width": 1
         },
         "mode": "lines",
         "type": "scatter",
         "x": [
          526.4251114239479,
          523.9448580284253
         ],
         "y": [
          1095.0843792986848,
          1085.3968438487368
         ]
        },
        {
         "line": {
          "color": "DarkBlue",
          "width": 1
         },
         "mode": "lines",
         "type": "scatter",
         "x": [
          398.649396264507,
          408.61131777469654
         ],
         "y": [
          1116.4125431617324,
          1117.284391671981
         ]
        },
        {
         "line": {
          "color": "DarkBlue",
          "width": 1
         },
         "mode": "lines",
         "type": "scatter",
         "x": [
          401.16325619410827,
          408.7568946381356
         ],
         "y": [
          719.7355839989416,
          713.2289216301544
         ]
        },
        {
         "line": {
          "color": "DarkBlue",
          "width": 1
         },
         "mode": "lines",
         "type": "scatter",
         "x": [
          391.24458902320015,
          398.649396264507
         ],
         "y": [
          1109.6917671857689,
          1116.4125431617324
         ]
        },
        {
         "line": {
          "color": "DarkBlue",
          "width": 1
         },
         "mode": "lines",
         "type": "scatter",
         "x": [
          392.59426497222336,
          401.16325619410827
         ],
         "y": [
          714.5807426396698,
          719.7355839989416
         ]
        },
        {
         "line": {
          "color": "DarkBlue",
          "width": 1
         },
         "mode": "lines",
         "type": "scatter",
         "x": [
          389.18571295314115,
          392.59426497222336
         ],
         "y": [
          705.1795845656233,
          714.5807426396698
         ]
        },
        {
         "line": {
          "color": "DarkBlue",
          "width": 1
         },
         "mode": "lines",
         "type": "scatter",
         "x": [
          383.4397188241092,
          389.18571295314115
         ],
         "y": [
          696.9952366093637,
          705.1795845656233
         ]
        },
        {
         "line": {
          "color": "DarkBlue",
          "width": 1
         },
         "mode": "lines",
         "type": "scatter",
         "x": [
          384.7464357961971,
          392.59426497222336
         ],
         "y": [
          720.7784500564418,
          714.5807426396698
         ]
        },
        {
         "line": {
          "color": "DarkBlue",
          "width": 1
         },
         "mode": "lines",
         "type": "scatter",
         "x": [
          381.8321717742611,
          383.4397188241092
         ],
         "y": [
          687.1252927147651,
          696.9952366093637
         ]
        },
        {
         "line": {
          "color": "DarkBlue",
          "width": 1
         },
         "mode": "lines",
         "type": "scatter",
         "x": [
          620.6767486338009,
          612.281464410531
         ],
         "y": [
          686.8281676401683,
          692.2613253601794
         ]
        },
        {
         "line": {
          "color": "DarkBlue",
          "width": 1
         },
         "mode": "lines",
         "type": "scatter",
         "x": [
          376.3816075092882,
          381.8321717742611
         ],
         "y": [
          678.7412990844359,
          687.1252927147651
         ]
        },
        {
         "line": {
          "color": "DarkBlue",
          "width": 1
         },
         "mode": "lines",
         "type": "scatter",
         "x": [
          734.9822968882082,
          738.2425936843476
         ],
         "y": [
          1032.476816514613,
          1023.0232211773308
         ]
        },
        {
         "line": {
          "color": "DarkBlue",
          "width": 1
         },
         "mode": "lines",
         "type": "scatter",
         "x": [
          366.6238848676179,
          376.3816075092882
         ],
         "y": [
          676.5534122390449,
          678.7412990844359
         ]
        },
        {
         "line": {
          "color": "DarkBlue",
          "width": 1
         },
         "mode": "lines",
         "type": "scatter",
         "x": [
          381.56677916090126,
          391.24458902320015
         ],
         "y": [
          1112.2097021073248,
          1109.6917671857689
         ]
        },
        {
         "line": {
          "color": "DarkBlue",
          "width": 1
         },
         "mode": "lines",
         "type": "scatter",
         "x": [
          583.7488311511516,
          585.2055413483562
         ],
         "y": [
          896.3792198253421,
          886.4858889706016
         ]
        },
        {
         "line": {
          "color": "DarkBlue",
          "width": 1
         },
         "mode": "lines",
         "type": "scatter",
         "x": [
          373.1413635091829,
          381.56677916090126
         ],
         "y": [
          1106.8233887952551,
          1112.2097021073248
         ]
        },
        {
         "line": {
          "color": "DarkBlue",
          "width": 1
         },
         "mode": "lines",
         "type": "scatter",
         "x": [
          377.68898732342205,
          384.7464357961971
         ],
         "y": [
          727.8631110260384,
          720.7784500564418
         ]
        },
        {
         "line": {
          "color": "DarkBlue",
          "width": 1
         },
         "mode": "lines",
         "type": "scatter",
         "x": [
          378.7522151563516,
          376.3816075092882
         ],
         "y": [
          669.0263508404315,
          678.7412990844359
         ]
        },
        {
         "line": {
          "color": "DarkBlue",
          "width": 1
         },
         "mode": "lines",
         "type": "scatter",
         "x": [
          363.1711474239865,
          373.1413635091829
         ],
         "y": [
          1107.5946158788636,
          1106.8233887952551
         ]
        },
        {
         "line": {
          "color": "DarkBlue",
          "width": 1
         },
         "mode": "lines",
         "type": "scatter",
         "x": [
          357.7494011245566,
          366.6238848676179
         ],
         "y": [
          671.944340934092,
          676.5534122390449
         ]
        },
        {
         "line": {
          "color": "DarkBlue",
          "width": 1
         },
         "mode": "lines",
         "type": "scatter",
         "x": [
          351.80298002876094,
          357.7494011245566
         ],
         "y": [
          663.9044357013497,
          671.944340934092
         ]
        },
        {
         "line": {
          "color": "DarkBlue",
          "width": 1
         },
         "mode": "lines",
         "type": "scatter",
         "x": [
          346.1986633700318,
          351.80298002876094
         ],
         "y": [
          655.6224290128297,
          663.9044357013497
         ]
        },
        {
         "line": {
          "color": "DarkBlue",
          "width": 1
         },
         "mode": "lines",
         "type": "scatter",
         "x": [
          353.1934031282787,
          363.1711474239865
         ],
         "y": [
          1108.261413276482,
          1107.5946158788636
         ]
        },
        {
         "line": {
          "color": "DarkBlue",
          "width": 1
         },
         "mode": "lines",
         "type": "scatter",
         "x": [
          419.7850739278347,
          418.6532026595951
         ],
         "y": [
          701.8568395421795,
          711.7925764263836
         ]
        },
        {
         "line": {
          "color": "DarkBlue",
          "width": 1
         },
         "mode": "lines",
         "type": "scatter",
         "x": [
          414.1696262118471,
          414.105401895463
         ],
         "y": [
          1093.7190926156743,
          1103.7188863754068
         ]
        },
        {
         "line": {
          "color": "DarkBlue",
          "width": 1
         },
         "mode": "lines",
         "type": "scatter",
         "x": [
          764.6424302852904,
          765.1771998387466
         ],
         "y": [
          1047.3236686753153,
          1037.3379778366855
         ]
        },
        {
         "line": {
          "color": "DarkBlue",
          "width": 1
         },
         "mode": "lines",
         "type": "scatter",
         "x": [
          768.9539002253016,
          764.6424302852904
         ],
         "y": [
          1056.3464856942057,
          1047.3236686753153
         ]
        },
        {
         "line": {
          "color": "DarkBlue",
          "width": 1
         },
         "mode": "lines",
         "type": "scatter",
         "x": [
          340.57622903399255,
          346.1986633700318
         ],
         "y": [
          647.3527112342761,
          655.6224290128297
         ]
        },
        {
         "line": {
          "color": "DarkBlue",
          "width": 1
         },
         "mode": "lines",
         "type": "scatter",
         "x": [
          344.1573327545033,
          353.1934031282787
         ],
         "y": [
          1103.9777895534903,
          1108.261413276482
         ]
        },
        {
         "line": {
          "color": "DarkBlue",
          "width": 1
         },
         "mode": "lines",
         "type": "scatter",
         "x": [
          330.82794195481915,
          340.57622903399255
         ],
         "y": [
          649.5822625393645,
          647.3527112342761
         ]
        },
        {
         "line": {
          "color": "DarkBlue",
          "width": 1
         },
         "mode": "lines",
         "type": "scatter",
         "x": [
          645.8409911859865,
          635.8986922900287
         ],
         "y": [
          711.1222068198241,
          712.1949102566783
         ]
        },
        {
         "line": {
          "color": "DarkBlue",
          "width": 1
         },
         "mode": "lines",
         "type": "scatter",
         "x": [
          495.889793398531,
          489.93166404573014
         ],
         "y": [
          797.9734627462482,
          789.9422302994009
         ]
        },
        {
         "line": {
          "color": "DarkBlue",
          "width": 1
         },
         "mode": "lines",
         "type": "scatter",
         "x": [
          429.4682196646597,
          419.7850739278347
         ],
         "y": [
          699.3595032333482,
          701.8568395421795
         ]
        },
        {
         "line": {
          "color": "DarkBlue",
          "width": 1
         },
         "mode": "lines",
         "type": "scatter",
         "x": [
          527.2815196714575,
          526.4251114239479
         ],
         "y": [
          1105.0476400557661,
          1095.0843792986848
         ]
        },
        {
         "line": {
          "color": "DarkBlue",
          "width": 1
         },
         "mode": "lines",
         "type": "scatter",
         "x": [
          767.07964373705,
          768.9539002253016
         ],
         "y": [
          1066.169273619039,
          1056.3464856942057
         ]
        },
        {
         "line": {
          "color": "DarkBlue",
          "width": 1
         },
         "mode": "lines",
         "type": "scatter",
         "x": [
          767.4062153951809,
          767.07964373705
         ],
         "y": [
          1076.1639397441331,
          1066.169273619039
         ]
        },
        {
         "line": {
          "color": "DarkBlue",
          "width": 1
         },
         "mode": "lines",
         "type": "scatter",
         "x": [
          455.97290640154864,
          462.3737587988952
         ],
         "y": [
          785.8930247331907,
          778.2099857128952
         ]
        },
        {
         "line": {
          "color": "DarkBlue",
          "width": 1
         },
         "mode": "lines",
         "type": "scatter",
         "x": [
          344.5580329948633,
          344.1573327545033
         ],
         "y": [
          1093.9858208126777,
          1103.9777895534903
         ]
        },
        {
         "line": {
          "color": "DarkBlue",
          "width": 1
         },
         "mode": "lines",
         "type": "scatter",
         "x": [
          335.4024129519811,
          344.5580329948633
         ],
         "y": [
          1089.9640523421695,
          1093.9858208126777
         ]
        },
        {
         "line": {
          "color": "DarkBlue",
          "width": 1
         },
         "mode": "lines",
         "type": "scatter",
         "x": [
          323.01089599863116,
          330.82794195481915
         ],
         "y": [
          655.8187513366643,
          649.5822625393645
         ]
        },
        {
         "line": {
          "color": "DarkBlue",
          "width": 1
         },
         "mode": "lines",
         "type": "scatter",
         "x": [
          329.30001973498287,
          335.4024129519811
         ],
         "y": [
          1082.0418811104216,
          1089.9640523421695
         ]
        },
        {
         "line": {
          "color": "DarkBlue",
          "width": 1
         },
         "mode": "lines",
         "type": "scatter",
         "x": [
          760.1316477070143,
          767.4062153951809
         ],
         "y": [
          1083.025474918588,
          1076.1639397441331
         ]
        },
        {
         "line": {
          "color": "DarkBlue",
          "width": 1
         },
         "mode": "lines",
         "type": "scatter",
         "x": [
          324.10601701298293,
          329.30001973498287
         ],
         "y": [
          1073.4965703656999,
          1082.0418811104216
         ]
        },
        {
         "line": {
          "color": "DarkBlue",
          "width": 1
         },
         "mode": "lines",
         "type": "scatter",
         "x": [
          775.5426883705043,
          767.4062153951809
         ],
         "y": [
          1081.9775279237201,
          1076.1639397441331
         ]
        },
        {
         "line": {
          "color": "DarkBlue",
          "width": 1
         },
         "mode": "lines",
         "type": "scatter",
         "x": [
          446.56303384641393,
          455.97290640154864
         ],
         "y": [
          789.2774446976931,
          785.8930247331907
         ]
        },
        {
         "line": {
          "color": "DarkBlue",
          "width": 1
         },
         "mode": "lines",
         "type": "scatter",
         "x": [
          413.397228942623,
          418.6532026595951
         ],
         "y": [
          720.2999109258903,
          711.7925764263836
         ]
        },
        {
         "line": {
          "color": "DarkBlue",
          "width": 1
         },
         "mode": "lines",
         "type": "scatter",
         "x": [
          643.929059492617,
          634.7852490688276
         ],
         "y": [
          840.4280484972256,
          844.4765952653638
         ]
        },
        {
         "line": {
          "color": "DarkBlue",
          "width": 1
         },
         "mode": "lines",
         "type": "scatter",
         "x": [
          438.13781337301396,
          429.4682196646597
         ],
         "y": [
          694.3757150223519,
          699.3595032333482
         ]
        },
        {
         "line": {
          "color": "DarkBlue",
          "width": 1
         },
         "mode": "lines",
         "type": "scatter",
         "x": [
          776.5293974536778,
          775.5426883705043
         ],
         "y": [
          1091.9287291168014,
          1081.9775279237201
         ]
        },
        {
         "line": {
          "color": "DarkBlue",
          "width": 1
         },
         "mode": "lines",
         "type": "scatter",
         "x": [
          338.4795217789893,
          344.1573327545033
         ],
         "y": [
          1112.209585379817,
          1103.9777895534903
         ]
        },
        {
         "line": {
          "color": "DarkBlue",
          "width": 1
         },
         "mode": "lines",
         "type": "scatter",
         "x": [
          332.0133092972629,
          338.4795217789893
         ],
         "y": [
          1119.8376976063882,
          1112.209585379817
         ]
        },
        {
         "line": {
          "color": "DarkBlue",
          "width": 1
         },
         "mode": "lines",
         "type": "scatter",
         "x": [
          317.5454360555826,
          324.10601701298293
         ],
         "y": [
          1065.9494664508597,
          1073.4965703656999
         ]
        },
        {
         "line": {
          "color": "DarkBlue",
          "width": 1
         },
         "mode": "lines",
         "type": "scatter",
         "x": [
          313.9793972912607,
          323.01089599863116
         ],
         "y": [
          651.5254971980457,
          655.8187513366643
         ]
        },
        {
         "line": {
          "color": "DarkBlue",
          "width": 1
         },
         "mode": "lines",
         "type": "scatter",
         "x": [
          785.0810118700304,
          776.5293974536778
         ],
         "y": [
          1086.7451115697565,
          1091.9287291168014
         ]
        },
        {
         "line": {
          "color": "DarkBlue",
          "width": 1
         },
         "mode": "lines",
         "type": "scatter",
         "x": [
          323.17174102783616,
          332.0133092972629
         ],
         "y": [
          1124.5095998460617,
          1119.8376976063882
         ]
        },
        {
         "line": {
          "color": "DarkBlue",
          "width": 1
         },
         "mode": "lines",
         "type": "scatter",
         "x": [
          303.9819297080902,
          313.9793972912607
         ],
         "y": [
          651.7505348025813,
          651.5254971980457
         ]
        },
        {
         "line": {
          "color": "DarkBlue",
          "width": 1
         },
         "mode": "lines",
         "type": "scatter",
         "x": [
          294.40070952734845,
          303.9819297080902
         ],
         "y": [
          654.614137402131,
          651.7505348025813
         ]
        },
        {
         "line": {
          "color": "DarkBlue",
          "width": 1
         },
         "mode": "lines",
         "type": "scatter",
         "x": [
          326.1529395073477,
          323.17174102783616
         ],
         "y": [
          1134.0548843167182,
          1124.5095998460617
         ]
        },
        {
         "line": {
          "color": "DarkBlue",
          "width": 1
         },
         "mode": "lines",
         "type": "scatter",
         "x": [
          436.4482211881192,
          435.6199471511827
         ],
         "y": [
          1128.9195651986474,
          1118.953926126328
         ]
        },
        {
         "line": {
          "color": "DarkBlue",
          "width": 1
         },
         "mode": "lines",
         "type": "scatter",
         "x": [
          325.70363479843616,
          326.1529395073477
         ],
         "y": [
          1144.044785481322,
          1134.0548843167182
         ]
        },
        {
         "line": {
          "color": "DarkBlue",
          "width": 1
         },
         "mode": "lines",
         "type": "scatter",
         "x": [
          527.3464975999228,
          527.2815196714575
         ],
         "y": [
          1115.0474289469785,
          1105.0476400557661
         ]
        },
        {
         "line": {
          "color": "DarkBlue",
          "width": 1
         },
         "mode": "lines",
         "type": "scatter",
         "x": [
          307.6494970986526,
          317.5454360555826
         ],
         "y": [
          1067.3883521866687,
          1065.9494664508597
         ]
        },
        {
         "line": {
          "color": "DarkBlue",
          "width": 1
         },
         "mode": "lines",
         "type": "scatter",
         "x": [
          376.43890649546574,
          381.56677916090126
         ],
         "y": [
          1120.7948591779368,
          1112.2097021073248
         ]
        },
        {
         "line": {
          "color": "DarkBlue",
          "width": 1
         },
         "mode": "lines",
         "type": "scatter",
         "x": [
          284.66774591948524,
          294.40070952734845
         ],
         "y": [
          656.9096590003761,
          654.614137402131
         ]
        },
        {
         "line": {
          "color": "DarkBlue",
          "width": 1
         },
         "mode": "lines",
         "type": "scatter",
         "x": [
          588.3553409438962,
          598.3475099017313
         ],
         "y": [
          677.533218560358,
          677.92889458702
         ]
        },
        {
         "line": {
          "color": "DarkBlue",
          "width": 1
         },
         "mode": "lines",
         "type": "scatter",
         "x": [
          634.2382585337322,
          629.6186967087222
         ],
         "y": [
          745.3033639093253,
          736.434336423467
         ]
        },
        {
         "line": {
          "color": "DarkBlue",
          "width": 1
         },
         "mode": "lines",
         "type": "scatter",
         "x": [
          298.3399841128388,
          307.6494970986526
         ],
         "y": [
          1063.736918500161,
          1067.3883521866687
         ]
        },
        {
         "line": {
          "color": "DarkBlue",
          "width": 1
         },
         "mode": "lines",
         "type": "scatter",
         "x": [
          549.5331146866973,
          549.8824503656595
         ],
         "y": [
          1066.412306640365,
          1076.406203006818
         ]
        },
        {
         "line": {
          "color": "DarkBlue",
          "width": 1
         },
         "mode": "lines",
         "type": "scatter",
         "x": [
          585.2029311286732,
          593.7416053680763
         ],
         "y": [
          1065.802797710663,
          1071.007703303789
         ]
        },
        {
         "line": {
          "color": "DarkBlue",
          "width": 1
         },
         "mode": "lines",
         "type": "scatter",
         "x": [
          320.1577300877483,
          325.70363479843616
         ],
         "y": [
          1152.3660198212483,
          1144.044785481322
         ]
        },
        {
         "line": {
          "color": "DarkBlue",
          "width": 1
         },
         "mode": "lines",
         "type": "scatter",
         "x": [
          288.75272156852,
          298.3399841128388
         ],
         "y": [
          1060.89361111152,
          1063.736918500161
         ]
        },
        {
         "line": {
          "color": "DarkBlue",
          "width": 1
         },
         "mode": "lines",
         "type": "scatter",
         "x": [
          281.6447430478497,
          284.66774591948524
         ],
         "y": [
          647.3775315548327,
          656.9096590003761
         ]
        },
        {
         "line": {
          "color": "DarkBlue",
          "width": 1
         },
         "mode": "lines",
         "type": "scatter",
         "x": [
          279.08065499799335,
          288.75272156852
         ],
         "y": [
          1058.3537039763473,
          1060.89361111152
         ]
        },
        {
         "line": {
          "color": "DarkBlue",
          "width": 1
         },
         "mode": "lines",
         "type": "scatter",
         "x": [
          369.1502572881585,
          377.68898732342205
         ],
         "y": [
          733.0679250846661,
          727.8631110260384
         ]
        },
        {
         "line": {
          "color": "DarkBlue",
          "width": 1
         },
         "mode": "lines",
         "type": "scatter",
         "x": [
          311.33269500881613,
          320.1577300877483
         ],
         "y": [
          1157.0690779599083,
          1152.3660198212483
         ]
        },
        {
         "line": {
          "color": "DarkBlue",
          "width": 1
         },
         "mode": "lines",
         "type": "scatter",
         "x": [
          272.39007104473905,
          279.08065499799335
         ],
         "y": [
          1050.9216055940292,
          1058.3537039763473
         ]
        },
        {
         "line": {
          "color": "DarkBlue",
          "width": 1
         },
         "mode": "lines",
         "type": "scatter",
         "x": [
          262.7734069633923,
          272.39007104473905
         ],
         "y": [
          1048.179385335455,
          1050.9216055940292
         ]
        },
        {
         "line": {
          "color": "DarkBlue",
          "width": 1
         },
         "mode": "lines",
         "type": "scatter",
         "x": [
          253.31412127887805,
          262.7734069633923
         ],
         "y": [
          1044.935635292874,
          1048.179385335455
         ]
        },
        {
         "line": {
          "color": "DarkBlue",
          "width": 1
         },
         "mode": "lines",
         "type": "scatter",
         "x": [
          301.6406247231574,
          311.33269500881613
         ],
         "y": [
          1159.5315510212536,
          1157.0690779599083
         ]
        },
        {
         "line": {
          "color": "DarkBlue",
          "width": 1
         },
         "mode": "lines",
         "type": "scatter",
         "x": [
          294.0544356094452,
          301.6406247231574
         ],
         "y": [
          1166.0468971157443,
          1159.5315510212536
         ]
        },
        {
         "line": {
          "color": "DarkBlue",
          "width": 1
         },
         "mode": "lines",
         "type": "scatter",
         "x": [
          245.12255402438998,
          253.31412127887805
         ],
         "y": [
          1039.1999377838347,
          1044.935635292874
         ]
        },
        {
         "line": {
          "color": "DarkBlue",
          "width": 1
         },
         "mode": "lines",
         "type": "scatter",
         "x": [
          734.9603060335954,
          729.432274921375
         ],
         "y": [
          886.5148410456591,
          894.8479600309083
         ]
        },
        {
         "line": {
          "color": "DarkBlue",
          "width": 1
         },
         "mode": "lines",
         "type": "scatter",
         "x": [
          284.2689552201192,
          294.0544356094452
         ],
         "y": [
          1168.1070848620716,
          1166.0468971157443
         ]
        },
        {
         "line": {
          "color": "DarkBlue",
          "width": 1
         },
         "mode": "lines",
         "type": "scatter",
         "x": [
          319.6169311298313,
          317.5454360555826
         ],
         "y": [
          1056.1663734758665,
          1065.9494664508597
         ]
        },
        {
         "line": {
          "color": "DarkBlue",
          "width": 1
         },
         "mode": "lines",
         "type": "scatter",
         "x": [
          271.64628610515007,
          281.6447430478497
         ],
         "y": [
          647.2018649245891,
          647.3775315548327
         ]
        },
        {
         "line": {
          "color": "DarkBlue",
          "width": 1
         },
         "mode": "lines",
         "type": "scatter",
         "x": [
          236.14248742486402,
          245.12255402438998
         ],
         "y": [
          1034.8001191662008,
          1039.1999377838347
         ]
        },
        {
         "line": {
          "color": "DarkBlue",
          "width": 1
         },
         "mode": "lines",
         "type": "scatter",
         "x": [
          437.12275118360543,
          436.4482211881192
         ],
         "y": [
          1138.896789726801,
          1128.9195651986474
         ]
        },
        {
         "line": {
          "color": "DarkBlue",
          "width": 1
         },
         "mode": "lines",
         "type": "scatter",
         "x": [
          231.83411837934506,
          236.14248742486402
         ],
         "y": [
          1025.7758210678658,
          1034.8001191662008
         ]
        },
        {
         "line": {
          "color": "DarkBlue",
          "width": 1
         },
         "mode": "lines",
         "type": "scatter",
         "x": [
          222.1485585733518,
          231.83411837934506
         ],
         "y": [
          1023.2878638245578,
          1025.7758210678658
         ]
        },
        {
         "line": {
          "color": "DarkBlue",
          "width": 1
         },
         "mode": "lines",
         "type": "scatter",
         "x": [
          573.7954143802515,
          583.7488311511516
         ],
         "y": [
          895.4151168304486,
          896.3792198253421
         ]
        },
        {
         "line": {
          "color": "DarkBlue",
          "width": 1
         },
         "mode": "lines",
         "type": "scatter",
         "x": [
          579.0088381452256,
          588.3553409438962
         ],
         "y": [
          673.9775350206651,
          677.533218560358
         ]
        },
        {
         "line": {
          "color": "DarkBlue",
          "width": 1
         },
         "mode": "lines",
         "type": "scatter",
         "x": [
          773.0464934671137,
          776.5293974536778
         ],
         "y": [
          1101.302595972074,
          1091.9287291168014
         ]
        },
        {
         "line": {
          "color": "DarkBlue",
          "width": 1
         },
         "mode": "lines",
         "type": "scatter",
         "x": [
          527.3043740538906,
          527.9584631667565
         ],
         "y": [
          785.3177790500032,
          775.3391936075454
         ]
        },
        {
         "line": {
          "color": "DarkBlue",
          "width": 1
         },
         "mode": "lines",
         "type": "scatter",
         "x": [
          274.31454477252765,
          284.2689552201192
         ],
         "y": [
          1169.0608734344924,
          1168.1070848620716
         ]
        },
        {
         "line": {
          "color": "DarkBlue",
          "width": 1
         },
         "mode": "lines",
         "type": "scatter",
         "x": [
          212.8371801655476,
          222.1485585733518
         ],
         "y": [
          1019.6411897032964,
          1023.2878638245578
         ]
        },
        {
         "line": {
          "color": "DarkBlue",
          "width": 1
         },
         "mode": "lines",
         "type": "scatter",
         "x": [
          643.2849004348644,
          634.2382585337322
         ],
         "y": [
          741.0421117092463,
          745.3033639093253
         ]
        },
        {
         "line": {
          "color": "DarkBlue",
          "width": 1
         },
         "mode": "lines",
         "type": "scatter",
         "x": [
          532.4669295107943,
          527.3464975999228
         ],
         "y": [
          1123.6370259716432,
          1115.0474289469785
         ]
        },
        {
         "line": {
          "color": "DarkBlue",
          "width": 1
         },
         "mode": "lines",
         "type": "scatter",
         "x": [
          535.5820232559813,
          532.4669295107943
         ],
         "y": [
          1133.1394567637456,
          1123.6370259716432
         ]
        },
        {
         "line": {
          "color": "DarkBlue",
          "width": 1
         },
         "mode": "lines",
         "type": "scatter",
         "x": [
          606.8636290405881,
          602.9743483370527
         ],
         "y": [
          886.9698846874903,
          877.757203448616
         ]
        },
        {
         "line": {
          "color": "DarkBlue",
          "width": 1
         },
         "mode": "lines",
         "type": "scatter",
         "x": [
          360.68557120303757,
          369.1502572881585
         ],
         "y": [
          738.3923113854861,
          733.0679250846661
         ]
        },
        {
         "line": {
          "color": "DarkBlue",
          "width": 1
         },
         "mode": "lines",
         "type": "scatter",
         "x": [
          202.84035726555203,
          212.8371801655476
         ],
         "y": [
          1019.8932450665089,
          1019.6411897032964
         ]
        },
        {
         "line": {
          "color": "DarkBlue",
          "width": 1
         },
         "mode": "lines",
         "type": "scatter",
         "x": [
          613.499395038186,
          605.3164105469807
         ],
         "y": [
          665.009179205286,
          670.7571149057524
         ]
        },
        {
         "line": {
          "color": "DarkBlue",
          "width": 1
         },
         "mode": "lines",
         "type": "scatter",
         "x": [
          536.2404053372989,
          535.5820232559813
         ],
         "y": [
          1143.1177598777524,
          1133.1394567637456
         ]
        },
        {
         "line": {
          "color": "DarkBlue",
          "width": 1
         },
         "mode": "lines",
         "type": "scatter",
         "x": [
          198.77391277435987,
          202.84035726555203
         ],
         "y": [
          1010.7573800718818,
          1019.8932450665089
         ]
        },
        {
         "line": {
          "color": "DarkBlue",
          "width": 1
         },
         "mode": "lines",
         "type": "scatter",
         "x": [
          264.4184458156093,
          274.31454477252765
         ],
         "y": [
          1170.49865834013,
          1169.0608734344924
         ]
        },
        {
         "line": {
          "color": "DarkBlue",
          "width": 1
         },
         "mode": "lines",
         "type": "scatter",
         "x": [
          726.2672322402161,
          734.9822968882082
         ],
         "y": [
          1037.3806566609999,
          1032.476816514613
         ]
        },
        {
         "line": {
          "color": "DarkBlue",
          "width": 1
         },
         "mode": "lines",
         "type": "scatter",
         "x": [
          263.12950668527964,
          264.4184458156093
         ],
         "y": [
          1180.4152422236207,
          1170.49865834013
         ]
        },
        {
         "line": {
          "color": "DarkBlue",
          "width": 1
         },
         "mode": "lines",
         "type": "scatter",
         "x": [
          416.985789758514,
          414.1696262118471
         ],
         "y": [
          1084.1238217555879,
          1093.7190926156743
         ]
        },
        {
         "line": {
          "color": "DarkBlue",
          "width": 1
         },
         "mode": "lines",
         "type": "scatter",
         "x": [
          272.427944798823,
          279.08065499799335
         ],
         "y": [
          1065.819723465061,
          1058.3537039763473
         ]
        },
        {
         "line": {
          "color": "DarkBlue",
          "width": 1
         },
         "mode": "lines",
         "type": "scatter",
         "x": [
          569.1995395173846,
          573.7954143802515
         ],
         "y": [
          904.2964418579919,
          895.4151168304486
         ]
        },
        {
         "line": {
          "color": "DarkBlue",
          "width": 1
         },
         "mode": "lines",
         "type": "scatter",
         "x": [
          397.9605340639158,
          398.649396264507
         ],
         "y": [
          1126.3887883907048,
          1116.4125431617324
         ]
        },
        {
         "line": {
          "color": "DarkBlue",
          "width": 1
         },
         "mode": "lines",
         "type": "scatter",
         "x": [
          253.131759565574,
          263.12950668527964
         ],
         "y": [
          1180.2029864099966,
          1180.4152422236207
         ]
        },
        {
         "line": {
          "color": "DarkBlue",
          "width": 1
         },
         "mode": "lines",
         "type": "scatter",
         "x": [
          545.5822114184766,
          536.2404053372989
         ],
         "y": [
          1146.6857648023106,
          1143.1177598777524
         ]
        },
        {
         "line": {
          "color": "DarkBlue",
          "width": 1
         },
         "mode": "lines",
         "type": "scatter",
         "x": [
          575.344108407376,
          585.2055413483562
         ],
         "y": [
          884.8269313609712,
          886.4858889706016
         ]
        },
        {
         "line": {
          "color": "DarkBlue",
          "width": 1
         },
         "mode": "lines",
         "type": "scatter",
         "x": [
          572.9169545745006,
          575.344108407376
         ],
         "y": [
          875.1259559321003,
          884.8269313609712
         ]
        },
        {
         "line": {
          "color": "DarkBlue",
          "width": 1
         },
         "mode": "lines",
         "type": "scatter",
         "x": [
          629.1559592922508,
          621.2188137191807
         ],
         "y": [
          805.4758113213575,
          811.558715245627
         ]
        },
        {
         "line": {
          "color": "DarkBlue",
          "width": 1
         },
         "mode": "lines",
         "type": "scatter",
         "x": [
          636.3326081620582,
          630.8235940035865
         ],
         "y": [
          1089.6005389161528,
          1081.2548356502946
         ]
        },
        {
         "line": {
          "color": "DarkBlue",
          "width": 1
         },
         "mode": "lines",
         "type": "scatter",
         "x": [
          347.9564067622765,
          357.7494011245566
         ],
         "y": [
          669.9201716179647,
          671.944340934092
         ]
        },
        {
         "line": {
          "color": "DarkBlue",
          "width": 1
         },
         "mode": "lines",
         "type": "scatter",
         "x": [
          633.5072564866696,
          640.924011741178
         ],
         "y": [
          993.3407639565245,
          1000.0483523081396
         ]
        },
        {
         "line": {
          "color": "DarkBlue",
          "width": 1
         },
         "mode": "lines",
         "type": "scatter",
         "x": [
          652.9759993267663,
          643.929059492617
         ],
         "y": [
          836.167428866552,
          840.4280484972256
         ]
        },
        {
         "line": {
          "color": "DarkBlue",
          "width": 1
         },
         "mode": "lines",
         "type": "scatter",
         "x": [
          319.8356561966722,
          319.6169311298313
         ],
         "y": [
          1046.1687657947693,
          1056.1663734758665
         ]
        },
        {
         "line": {
          "color": "DarkBlue",
          "width": 1
         },
         "mode": "lines",
         "type": "scatter",
         "x": [
          440.69389872931146,
          446.56303384641393
         ],
         "y": [
          797.3739410372955,
          789.2774446976931
         ]
        },
        {
         "line": {
          "color": "DarkBlue",
          "width": 1
         },
         "mode": "lines",
         "type": "scatter",
         "x": [
          566.8583096605036,
          566.2782192651587
         ],
         "y": [
          761.2949340734267,
          771.2780946517821
         ]
        },
        {
         "line": {
          "color": "DarkBlue",
          "width": 1
         },
         "mode": "lines",
         "type": "scatter",
         "x": [
          248.09376582555694,
          253.131759565574
         ],
         "y": [
          1188.8411933463665,
          1180.2029864099966
         ]
        },
        {
         "line": {
          "color": "DarkBlue",
          "width": 1
         },
         "mode": "lines",
         "type": "scatter",
         "x": [
          639.427896089054,
          636.3326081620582
         ],
         "y": [
          1099.1094396228061,
          1089.6005389161528
         ]
        },
        {
         "line": {
          "color": "DarkBlue",
          "width": 1
         },
         "mode": "lines",
         "type": "scatter",
         "x": [
          755.0160683326241,
          760.1316477070143
         ],
         "y": [
          1091.6179627809195,
          1083.025474918588
         ]
        },
        {
         "line": {
          "color": "DarkBlue",
          "width": 1
         },
         "mode": "lines",
         "type": "scatter",
         "x": [
          692.9444918293393,
          698.4474794137849
         ],
         "y": [
          947.1175698353004,
          938.7678915393756
         ]
        },
        {
         "line": {
          "color": "DarkBlue",
          "width": 1
         },
         "mode": "lines",
         "type": "scatter",
         "x": [
          569.924915591623,
          579.0088381452256
         ],
         "y": [
          669.7963448742894,
          673.9775350206651
         ]
        },
        {
         "line": {
          "color": "DarkBlue",
          "width": 1
         },
         "mode": "lines",
         "type": "scatter",
         "x": [
          261.71663862490453,
          271.64628610515007
         ],
         "y": [
          648.3859683483039,
          647.2018649245891
         ]
        },
        {
         "line": {
          "color": "DarkBlue",
          "width": 1
         },
         "mode": "lines",
         "type": "scatter",
         "x": [
          563.4503561141678,
          572.9169545745006
         ],
         "y": [
          871.9036099558238,
          875.1259559321003
         ]
        },
        {
         "line": {
          "color": "DarkBlue",
          "width": 1
         },
         "mode": "lines",
         "type": "scatter",
         "x": [
          532.4962387787045,
          536.2404053372989
         ],
         "y": [
          1152.390365594675,
          1143.1177598777524
         ]
        },
        {
         "line": {
          "color": "DarkBlue",
          "width": 1
         },
         "mode": "lines",
         "type": "scatter",
         "x": [
          638.9531254530726,
          630.8235940035865
         ],
         "y": [
          1075.431544621004,
          1081.2548356502946
         ]
        },
        {
         "line": {
          "color": "DarkBlue",
          "width": 1
         },
         "mode": "lines",
         "type": "scatter",
         "x": [
          447.00593980504084,
          438.13781337301396
         ],
         "y": [
          689.7544236892301,
          694.3757150223519
         ]
        },
        {
         "line": {
          "color": "DarkBlue",
          "width": 1
         },
         "mode": "lines",
         "type": "scatter",
         "x": [
          508.8985056060409,
          498.9553140091202
         ],
         "y": [
          786.69690088463,
          785.6325039347448
         ]
        },
        {
         "line": {
          "color": "DarkBlue",
          "width": 1
         },
         "mode": "lines",
         "type": "scatter",
         "x": [
          503.99753801286244,
          504.0281989487322
         ],
         "y": [
          1066.961706225343,
          1076.9616592205832
         ]
        },
        {
         "line": {
          "color": "DarkBlue",
          "width": 1
         },
         "mode": "lines",
         "type": "scatter",
         "x": [
          640.0564872421372,
          638.4975498555511
         ],
         "y": [
          1053.1694529954732,
          1043.2917146802158
         ]
        },
        {
         "line": {
          "color": "DarkBlue",
          "width": 1
         },
         "mode": "lines",
         "type": "scatter",
         "x": [
          352.1121733809327,
          360.68557120303757
         ],
         "y": [
          743.5398204708523,
          738.3923113854861
         ]
        },
        {
         "line": {
          "color": "DarkBlue",
          "width": 1
         },
         "mode": "lines",
         "type": "scatter",
         "x": [
          648.9381114739399,
          639.427896089054
         ],
         "y": [
          1102.2006858655177,
          1099.1094396228061
         ]
        },
        {
         "line": {
          "color": "DarkBlue",
          "width": 1
         },
         "mode": "lines",
         "type": "scatter",
         "x": [
          739.5448494187782,
          734.9603060335954
         ],
         "y": [
          877.6276614058984,
          886.5148410456591
         ]
        },
        {
         "line": {
          "color": "DarkBlue",
          "width": 1
         },
         "mode": "lines",
         "type": "scatter",
         "x": [
          295.76344430140904,
          301.6406247231574
         ],
         "y": [
          1151.4408928100684,
          1159.5315510212536
         ]
        },
        {
         "line": {
          "color": "DarkBlue",
          "width": 1
         },
         "mode": "lines",
         "type": "scatter",
         "x": [
          348.28900847492423,
          352.1121733809327
         ],
         "y": [
          752.7801348649335,
          743.5398204708523
         ]
        },
        {
         "line": {
          "color": "DarkBlue",
          "width": 1
         },
         "mode": "lines",
         "type": "scatter",
         "x": [
          490.43523685663195,
          481.5513242983782
         ],
         "y": [
          1108.1013225248307,
          1103.5104514029954
         ]
        },
        {
         "line": {
          "color": "DarkBlue",
          "width": 1
         },
         "mode": "lines",
         "type": "scatter",
         "x": [
          528.7436473155376,
          532.4962387787045
         ],
         "y": [
          1161.6595649835417,
          1152.390365594675
         ]
        },
        {
         "line": {
          "color": "DarkBlue",
          "width": 1
         },
         "mode": "lines",
         "type": "scatter",
         "x": [
          192.55495959224638,
          198.77391277435987
         ],
         "y": [
          1002.926376220607,
          1010.7573800718818
         ]
        },
        {
         "line": {
          "color": "DarkBlue",
          "width": 1
         },
         "mode": "lines",
         "type": "scatter",
         "x": [
          338.2890110823048,
          348.28900847492423
         ],
         "y": [
          752.7873561947684,
          752.7801348649335
         ]
        },
        {
         "line": {
          "color": "DarkBlue",
          "width": 1
         },
         "mode": "lines",
         "type": "scatter",
         "x": [
          433.8556715674511,
          437.12275118360543
         ],
         "y": [
          1148.3480431241928,
          1138.896789726801
         ]
        },
        {
         "line": {
          "color": "DarkBlue",
          "width": 1
         },
         "mode": "lines",
         "type": "scatter",
         "x": [
          536.3906459442959,
          526.4251114239479
         ],
         "y": [
          1094.254848272289,
          1095.0843792986848
         ]
        },
        {
         "line": {
          "color": "DarkBlue",
          "width": 1
         },
         "mode": "lines",
         "type": "scatter",
         "x": [
          243.0204487594048,
          248.09376582555694
         ],
         "y": [
          1197.4587019159178,
          1188.8411933463665
         ]
        },
        {
         "line": {
          "color": "DarkBlue",
          "width": 1
         },
         "mode": "lines",
         "type": "scatter",
         "x": [
          626.5843427767534,
          631.2997245223034
         ],
         "y": [
          905.8014747573362,
          896.9830182600952
         ]
        },
        {
         "line": {
          "color": "DarkBlue",
          "width": 1
         },
         "mode": "lines",
         "type": "scatter",
         "x": [
          742.7635474446793,
          739.5448494187782
         ],
         "y": [
          868.1598219998849,
          877.6276614058984
         ]
        },
        {
         "line": {
          "color": "DarkBlue",
          "width": 1
         },
         "mode": "lines",
         "type": "scatter",
         "x": [
          191.08397875459843,
          192.55495959224638
         ],
         "y": [
          993.0351571160036,
          1002.926376220607
         ]
        },
        {
         "line": {
          "color": "DarkBlue",
          "width": 1
         },
         "mode": "lines",
         "type": "scatter",
         "x": [
          753.8046626646684,
          756.1548317731526
         ],
         "y": [
          999.41096636203,
          1009.1308791785899
         ]
        },
        {
         "line": {
          "color": "DarkBlue",
          "width": 1
         },
         "mode": "lines",
         "type": "scatter",
         "x": [
          658.8320789961081,
          648.9381114739399
         ],
         "y": [
          1100.7483062077558,
          1102.2006858655177
         ]
        },
        {
         "line": {
          "color": "DarkBlue",
          "width": 1
         },
         "mode": "lines",
         "type": "scatter",
         "x": [
          251.73841502326366,
          261.71663862490453
         ],
         "y": [
          647.7263822995907,
          648.3859683483039
         ]
        },
        {
         "line": {
          "color": "DarkBlue",
          "width": 1
         },
         "mode": "lines",
         "type": "scatter",
         "x": [
          748.3657444351913,
          742.7635474446793
         ],
         "y": [
          859.8763813572838,
          868.1598219998849
         ]
        },
        {
         "line": {
          "color": "DarkBlue",
          "width": 1
         },
         "mode": "lines",
         "type": "scatter",
         "x": [
          241.9586908760019,
          251.73841502326366
         ],
         "y": [
          649.8137240549017,
          647.7263822995907
         ]
        },
        {
         "line": {
          "color": "DarkBlue",
          "width": 1
         },
         "mode": "lines",
         "type": "scatter",
         "x": [
          488.540275126318,
          490.43523685663195
         ],
         "y": [
          1117.9201371193042,
          1108.1013225248307
         ]
        },
        {
         "line": {
          "color": "DarkBlue",
          "width": 1
         },
         "mode": "lines",
         "type": "scatter",
         "x": [
          500.15271693051716,
          503.99753801286244
         ],
         "y": [
          1057.7303817892314,
          1066.961706225343
         ]
        },
        {
         "line": {
          "color": "DarkBlue",
          "width": 1
         },
         "mode": "lines",
         "type": "scatter",
         "x": [
          757.0877470221877,
          767.07964373705
         ],
         "y": [
          1066.5717659040884,
          1066.169273619039
         ]
        },
        {
         "line": {
          "color": "DarkBlue",
          "width": 1
         },
         "mode": "lines",
         "type": "scatter",
         "x": [
          501.36595861751397,
          500.15271693051716
         ],
         "y": [
          1047.8042524021575,
          1057.7303817892314
         ]
        },
        {
         "line": {
          "color": "DarkBlue",
          "width": 1
         },
         "mode": "lines",
         "type": "scatter",
         "x": [
          564.0174306776705,
          569.924915591623
         ],
         "y": [
          677.8649024895899,
          669.7963448742894
         ]
        },
        {
         "line": {
          "color": "DarkBlue",
          "width": 1
         },
         "mode": "lines",
         "type": "scatter",
         "x": [
          646.4053449650146,
          648.9381114739399
         ],
         "y": [
          1111.8746247639845,
          1102.2006858655177
         ]
        },
        {
         "line": {
          "color": "DarkBlue",
          "width": 1
         },
         "mode": "lines",
         "type": "scatter",
         "x": [
          655.8401426965785,
          645.8409911859865
         ],
         "y": [
          710.9919414436628,
          711.1222068198241
         ]
        },
        {
         "line": {
          "color": "DarkBlue",
          "width": 1
         },
         "mode": "lines",
         "type": "scatter",
         "x": [
          231.96579008641876,
          241.9586908760019
         ],
         "y": [
          649.4369830171203,
          649.8137240549017
         ]
        },
        {
         "line": {
          "color": "DarkBlue",
          "width": 1
         },
         "mode": "lines",
         "type": "scatter",
         "x": [
          236.39945922775078,
          243.0204487594048
         ],
         "y": [
          1204.9528661536249,
          1197.4587019159178
         ]
        },
        {
         "line": {
          "color": "DarkBlue",
          "width": 1
         },
         "mode": "lines",
         "type": "scatter",
         "x": [
          775.1715887935629,
          773.0464934671137
         ],
         "y": [
          1111.0741859068544,
          1101.302595972074
         ]
        },
        {
         "line": {
          "color": "DarkBlue",
          "width": 1
         },
         "mode": "lines",
         "type": "scatter",
         "x": [
          222.05004823471174,
          231.96579008641876
         ],
         "y": [
          650.7323839320134,
          649.4369830171203
         ]
        },
        {
         "line": {
          "color": "DarkBlue",
          "width": 1
         },
         "mode": "lines",
         "type": "scatter",
         "x": [
          226.8978332731715,
          236.39945922775078
         ],
         "y": [
          1201.8353183642132,
          1204.9528661536249
         ]
        },
        {
         "line": {
          "color": "DarkBlue",
          "width": 1
         },
         "mode": "lines",
         "type": "scatter",
         "x": [
          551.0361407900598,
          549.5331146866973
         ],
         "y": [
          1056.5259062573837,
          1066.412306640365
         ]
        },
        {
         "line": {
          "color": "DarkBlue",
          "width": 1
         },
         "mode": "lines",
         "type": "scatter",
         "x": [
          783.826622333473,
          785.7950181424943
         ],
         "y": [
          979.5960692176661,
          989.4004263071967
         ]
        },
        {
         "line": {
          "color": "DarkBlue",
          "width": 1
         },
         "mode": "lines",
         "type": "scatter",
         "x": [
          614.8937673951673,
          624.1360511721932
         ],
         "y": [
          856.6421867399658,
          860.460588314568
         ]
        },
        {
         "line": {
          "color": "DarkBlue",
          "width": 1
         },
         "mode": "lines",
         "type": "scatter",
         "x": [
          647.3775369817463,
          646.4053449650146
         ],
         "y": [
          1121.8272547019758,
          1111.8746247639845
         ]
        },
        {
         "line": {
          "color": "DarkBlue",
          "width": 1
         },
         "mode": "lines",
         "type": "scatter",
         "x": [
          181.11057441554905,
          191.08397875459843
         ],
         "y": [
          992.3063183891023,
          993.0351571160036
         ]
        },
        {
         "line": {
          "color": "DarkBlue",
          "width": 1
         },
         "mode": "lines",
         "type": "scatter",
         "x": [
          214.23067771464878,
          222.05004823471174
         ],
         "y": [
          656.9659579205027,
          650.7323839320134
         ]
        },
        {
         "line": {
          "color": "DarkBlue",
          "width": 1
         },
         "mode": "lines",
         "type": "scatter",
         "x": [
          207.404557784098,
          214.23067771464878
         ],
         "y": [
          649.6581479411902,
          656.9659579205027
         ]
        },
        {
         "line": {
          "color": "DarkBlue",
          "width": 1
         },
         "mode": "lines",
         "type": "scatter",
         "x": [
          635.4119685916314,
          642.0280847281471
         ],
         "y": [
          878.8644680615059,
          886.3629350560414
         ]
        },
        {
         "line": {
          "color": "DarkBlue",
          "width": 1
         },
         "mode": "lines",
         "type": "scatter",
         "x": [
          171.16350414624378,
          181.11057441554905
         ],
         "y": [
          991.2788004780646,
          992.3063183891023
         ]
        },
        {
         "line": {
          "color": "DarkBlue",
          "width": 1
         },
         "mode": "lines",
         "type": "scatter",
         "x": [
          612.0768223183173,
          620.843249639535
         ],
         "y": [
          825.7558168337982,
          830.5672357535981
         ]
        },
        {
         "line": {
          "color": "DarkBlue",
          "width": 1
         },
         "mode": "lines",
         "type": "scatter",
         "x": [
          164.88522979688327,
          171.16350414624378
         ],
         "y": [
          983.4952748505509,
          991.2788004780646
         ]
        },
        {
         "line": {
          "color": "DarkBlue",
          "width": 1
         },
         "mode": "lines",
         "type": "scatter",
         "x": [
          534.7082495773063,
          528.7436473155376
         ],
         "y": [
          1169.685991327744,
          1161.6595649835417
         ]
        },
        {
         "line": {
          "color": "DarkBlue",
          "width": 1
         },
         "mode": "lines",
         "type": "scatter",
         "x": [
          155.46141440301562,
          164.88522979688327
         ],
         "y": [
          986.8406751886724,
          983.4952748505509
         ]
        },
        {
         "line": {
          "color": "DarkBlue",
          "width": 1
         },
         "mode": "lines",
         "type": "scatter",
         "x": [
          150.61010659226997,
          155.46141440301562
         ],
         "y": [
          978.0962591118039,
          986.8406751886724
         ]
        },
        {
         "line": {
          "color": "DarkBlue",
          "width": 1
         },
         "mode": "lines",
         "type": "scatter",
         "x": [
          140.91845152008477,
          150.61010659226997
         ],
         "y": [
          975.6321523848566,
          978.0962591118039
         ]
        },
        {
         "line": {
          "color": "DarkBlue",
          "width": 1
         },
         "mode": "lines",
         "type": "scatter",
         "x": [
          197.53091230070274,
          207.404557784098
         ],
         "y": [
          651.2428008584653,
          649.6581479411902
         ]
        },
        {
         "line": {
          "color": "DarkBlue",
          "width": 1
         },
         "mode": "lines",
         "type": "scatter",
         "x": [
          758.0343853350645,
          748.3657444351913
         ],
         "y": [
          857.3234647606631,
          859.8763813572838
         ]
        },
        {
         "line": {
          "color": "DarkBlue",
          "width": 1
         },
         "mode": "lines",
         "type": "scatter",
         "x": [
          301.8094205944789,
          298.3399841128388
         ],
         "y": [
          1054.358058734717,
          1063.736918500161
         ]
        },
        {
         "line": {
          "color": "DarkBlue",
          "width": 1
         },
         "mode": "lines",
         "type": "scatter",
         "x": [
          413.7374315067257,
          408.61131777469654
         ],
         "y": [
          1125.8705991005436,
          1117.284391671981
         ]
        },
        {
         "line": {
          "color": "DarkBlue",
          "width": 1
         },
         "mode": "lines",
         "type": "scatter",
         "x": [
          246.86316393826985,
          253.131759565574
         ],
         "y": [
          1172.4116637455613,
          1180.2029864099966
         ]
        },
        {
         "line": {
          "color": "DarkBlue",
          "width": 1
         },
         "mode": "lines",
         "type": "scatter",
         "x": [
          523.7295780343306,
          527.3043740538906
         ],
         "y": [
          794.6569885143283,
          785.3177790500032
         ]
        },
        {
         "line": {
          "color": "DarkBlue",
          "width": 1
         },
         "mode": "lines",
         "type": "scatter",
         "x": [
          440.99120193426364,
          440.69389872931146
         ],
         "y": [
          807.3695206004986,
          797.3739410372955
         ]
        },
        {
         "line": {
          "color": "DarkBlue",
          "width": 1
         },
         "mode": "lines",
         "type": "scatter",
         "x": [
          541.0927322615682,
          534.7082495773063
         ],
         "y": [
          1177.3826387052948,
          1169.685991327744
         ]
        },
        {
         "line": {
          "color": "DarkBlue",
          "width": 1
         },
         "mode": "lines",
         "type": "scatter",
         "x": [
          556.1357134234812,
          563.4503561141678
         ],
         "y": [
          865.0848122386609,
          871.9036099558238
         ]
        },
        {
         "line": {
          "color": "DarkBlue",
          "width": 1
         },
         "mode": "lines",
         "type": "scatter",
         "x": [
          188.18442919238538,
          197.53091230070274
         ],
         "y": [
          654.7985361559726,
          651.2428008584653
         ]
        },
        {
         "line": {
          "color": "DarkBlue",
          "width": 1
         },
         "mode": "lines",
         "type": "scatter",
         "x": [
          134.1834289212342,
          140.91845152008477
         ],
         "y": [
          983.0240040197971,
          975.6321523848566
         ]
        },
        {
         "line": {
          "color": "DarkBlue",
          "width": 1
         },
         "mode": "lines",
         "type": "scatter",
         "x": [
          243.9492896186001,
          236.39945922775078
         ],
         "y": [
          1211.510309334424,
          1204.9528661536249
         ]
        },
        {
         "line": {
          "color": "DarkBlue",
          "width": 1
         },
         "mode": "lines",
         "type": "scatter",
         "x": [
          538.2818005276642,
          541.0927322615682
         ],
         "y": [
          1186.9794435270744,
          1177.3826387052948
         ]
        },
        {
         "line": {
          "color": "DarkBlue",
          "width": 1
         },
         "mode": "lines",
         "type": "scatter",
         "x": [
          328.08321008791216,
          320.1577300877483
         ],
         "y": [
          1158.4641151605329,
          1152.3660198212483
         ]
        },
        {
         "line": {
          "color": "DarkBlue",
          "width": 1
         },
         "mode": "lines",
         "type": "scatter",
         "x": [
          794.4733571000364,
          785.0810118700304
         ],
         "y": [
          1083.3123501331895,
          1086.7451115697565
         ]
        },
        {
         "line": {
          "color": "DarkBlue",
          "width": 1
         },
         "mode": "lines",
         "type": "scatter",
         "x": [
          420.56734462681777,
          416.985789758514
         ],
         "y": [
          1074.7872022000245,
          1084.1238217555879
         ]
        },
        {
         "line": {
          "color": "DarkBlue",
          "width": 1
         },
         "mode": "lines",
         "type": "scatter",
         "x": [
          743.9336479971462,
          734.9603060335954
         ],
         "y": [
          890.9283582377835,
          886.5148410456591
         ]
        },
        {
         "line": {
          "color": "DarkBlue",
          "width": 1
         },
         "mode": "lines",
         "type": "scatter",
         "x": [
          335.60100244028996,
          338.2890110823048
         ],
         "y": [
          762.419313915837,
          752.7873561947684
         ]
        },
        {
         "line": {
          "color": "DarkBlue",
          "width": 1
         },
         "mode": "lines",
         "type": "scatter",
         "x": [
          125.7066654365353,
          134.1834289212342
         ],
         "y": [
          977.7188668090856,
          983.0240040197971
         ]
        },
        {
         "line": {
          "color": "DarkBlue",
          "width": 1
         },
         "mode": "lines",
         "type": "scatter",
         "x": [
          547.1541756191237,
          538.2818005276642
         ],
         "y": [
          1191.5925726425935,
          1186.9794435270744
         ]
        },
        {
         "line": {
          "color": "DarkBlue",
          "width": 1
         },
         "mode": "lines",
         "type": "scatter",
         "x": [
          722.862464685851,
          716.11191656066
         ],
         "y": [
          939.8469905421869,
          947.2246663286037
         ]
        },
        {
         "line": {
          "color": "DarkBlue",
          "width": 1
         },
         "mode": "lines",
         "type": "scatter",
         "x": [
          482.08719249344466,
          481.06582045737275
         ],
         "y": [
          775.3688576814897,
          785.3165608919765
         ]
        },
        {
         "line": {
          "color": "DarkBlue",
          "width": 1
         },
         "mode": "lines",
         "type": "scatter",
         "x": [
          554.0654025020707,
          547.1541756191237
         ],
         "y": [
          1198.8199471985738,
          1191.5925726425935
         ]
        },
        {
         "line": {
          "color": "DarkBlue",
          "width": 1
         },
         "mode": "lines",
         "type": "scatter",
         "x": [
          260.727270489895,
          261.71663862490453
         ],
         "y": [
          658.3369055249435,
          648.3859683483039
         ]
        },
        {
         "line": {
          "color": "DarkBlue",
          "width": 1
         },
         "mode": "lines",
         "type": "scatter",
         "x": [
          554.5520293358105,
          564.0174306776705
         ],
         "y": [
          681.0907632177546,
          677.8649024895899
         ]
        },
        {
         "line": {
          "color": "DarkBlue",
          "width": 1
         },
         "mode": "lines",
         "type": "scatter",
         "x": [
          185.9603135263873,
          188.18442919238538
         ],
         "y": [
          664.548064837107,
          654.7985361559726
         ]
        },
        {
         "line": {
          "color": "DarkBlue",
          "width": 1
         },
         "mode": "lines",
         "type": "scatter",
         "x": [
          546.8630576710204,
          554.5520293358105
         ],
         "y": [
          687.4844878550888,
          681.0907632177546
         ]
        },
        {
         "line": {
          "color": "DarkBlue",
          "width": 1
         },
         "mode": "lines",
         "type": "scatter",
         "x": [
          748.7796369604007,
          739.1131163751986
         ],
         "y": [
          978.9181953982095,
          976.3572620183919
         ]
        },
        {
         "line": {
          "color": "DarkBlue",
          "width": 1
         },
         "mode": "lines",
         "type": "scatter",
         "x": [
          439.39378245203073,
          440.99120193426364
         ],
         "y": [
          817.2411086691825,
          807.3695206004986
         ]
        },
        {
         "line": {
          "color": "DarkBlue",
          "width": 1
         },
         "mode": "lines",
         "type": "scatter",
         "x": [
          775.0315662952801,
          775.1715887935629
         ],
         "y": [
          1121.0732055437975,
          1111.0741859068544
         ]
        },
        {
         "line": {
          "color": "DarkBlue",
          "width": 1
         },
         "mode": "lines",
         "type": "scatter",
         "x": [
          636.4856730890979,
          646.4053449650146
         ],
         "y": [
          1113.1395792588764,
          1111.8746247639845
         ]
        },
        {
         "line": {
          "color": "DarkBlue",
          "width": 1
         },
         "mode": "lines",
         "type": "scatter",
         "x": [
          553.2712714160713,
          545.5822114184766
         ],
         "y": [
          1153.079383210801,
          1146.6857648023106
         ]
        },
        {
         "line": {
          "color": "DarkBlue",
          "width": 1
         },
         "mode": "lines",
         "type": "scatter",
         "x": [
          645.9384304550953,
          643.929059492617
         ],
         "y": [
          830.632007034719,
          840.4280484972256
         ]
        },
        {
         "line": {
          "color": "DarkBlue",
          "width": 1
         },
         "mode": "lines",
         "type": "scatter",
         "x": [
          767.4271419078218,
          758.0343853350645
         ],
         "y": [
          860.7551005171099,
          857.3234647606631
         ]
        },
        {
         "line": {
          "color": "DarkBlue",
          "width": 1
         },
         "mode": "lines",
         "type": "scatter",
         "x": [
          119.47592343296647,
          125.7066654365353
         ],
         "y": [
          985.5404941388018,
          977.7188668090856
         ]
        },
        {
         "line": {
          "color": "DarkBlue",
          "width": 1
         },
         "mode": "lines",
         "type": "scatter",
         "x": [
          681.3164977629654,
          676.3241737270278
         ],
         "y": [
          1011.913467192506,
          1003.2487859681216
         ]
        },
        {
         "line": {
          "color": "DarkBlue",
          "width": 1
         },
         "mode": "lines",
         "type": "scatter",
         "x": [
          117.92368005200615,
          125.7066654365353
         ],
         "y": [
          971.4399227494363,
          977.7188668090856
         ]
        },
        {
         "line": {
          "color": "DarkBlue",
          "width": 1
         },
         "mode": "lines",
         "type": "scatter",
         "x": [
          285.15192090060987,
          284.66774591948524
         ],
         "y": [
          666.8979308522859,
          656.9096590003761
         ]
        },
        {
         "line": {
          "color": "DarkBlue",
          "width": 1
         },
         "mode": "lines",
         "type": "scatter",
         "x": [
          420.1018894014353,
          420.56734462681777
         ],
         "y": [
          1064.7980405018056,
          1074.7872022000245
         ]
        },
        {
         "line": {
          "color": "DarkBlue",
          "width": 1
         },
         "mode": "lines",
         "type": "scatter",
         "x": [
          746.2989305461192,
          755.0160683326241
         ],
         "y": [
          1086.7178088230228,
          1091.6179627809195
         ]
        },
        {
         "line": {
          "color": "DarkBlue",
          "width": 1
         },
         "mode": "lines",
         "type": "scatter",
         "x": [
          217.05525725832467,
          226.8978332731715
         ],
         "y": [
          1200.0679198828395,
          1201.8353183642132
         ]
        },
        {
         "line": {
          "color": "DarkBlue",
          "width": 1
         },
         "mode": "lines",
         "type": "scatter",
         "x": [
          180.34585030944658,
          188.18442919238538
         ],
         "y": [
          648.589133519974,
          654.7985361559726
         ]
        },
        {
         "line": {
          "color": "DarkBlue",
          "width": 1
         },
         "mode": "lines",
         "type": "scatter",
         "x": [
          410.6414318721267,
          420.1018894014353
         ],
         "y": [
          1061.5577097569358,
          1064.7980405018056
         ]
        },
        {
         "line": {
          "color": "DarkBlue",
          "width": 1
         },
         "mode": "lines",
         "type": "scatter",
         "x": [
          736.416965463013,
          746.2989305461192
         ],
         "y": [
          1085.1858929975715,
          1086.7178088230228
         ]
        },
        {
         "line": {
          "color": "DarkBlue",
          "width": 1
         },
         "mode": "lines",
         "type": "scatter",
         "x": [
          775.570459342698,
          775.0315662952801
         ],
         "y": [
          1131.0586747006996,
          1121.0732055437975
         ]
        },
        {
         "line": {
          "color": "DarkBlue",
          "width": 1
         },
         "mode": "lines",
         "type": "scatter",
         "x": [
          124.08492728866119,
          119.47592343296647
         ],
         "y": [
          994.415012912132,
          985.5404941388018
         ]
        },
        {
         "line": {
          "color": "DarkBlue",
          "width": 1
         },
         "mode": "lines",
         "type": "scatter",
         "x": [
          290.27421054905733,
          295.76344430140904
         ],
         "y": [
          1159.7996195559335,
          1151.4408928100684
         ]
        },
        {
         "line": {
          "color": "DarkBlue",
          "width": 1
         },
         "mode": "lines",
         "type": "scatter",
         "x": [
          597.6465273263038,
          605.3164105469807
         ],
         "y": [
          677.1737254893221,
          670.7571149057524
         ]
        },
        {
         "line": {
          "color": "DarkBlue",
          "width": 1
         },
         "mode": "lines",
         "type": "scatter",
         "x": [
          651.2636318523612,
          647.3775369817463
         ],
         "y": [
          1131.0412802422368,
          1121.8272547019758
         ]
        },
        {
         "line": {
          "color": "DarkBlue",
          "width": 1
         },
         "mode": "lines",
         "type": "scatter",
         "x": [
          442.7998809367521,
          439.39378245203073
         ],
         "y": [
          826.643155952215,
          817.2411086691825
         ]
        },
        {
         "line": {
          "color": "DarkBlue",
          "width": 1
         },
         "mode": "lines",
         "type": "scatter",
         "x": [
          120.15495489805905,
          117.92368005200615
         ],
         "y": [
          961.6920300252947,
          971.4399227494363
         ]
        },
        {
         "line": {
          "color": "DarkBlue",
          "width": 1
         },
         "mode": "lines",
         "type": "scatter",
         "x": [
          439.1475115407517,
          442.7998809367521
         ],
         "y": [
          835.9523018741114,
          826.643155952215
         ]
        },
        {
         "line": {
          "color": "DarkBlue",
          "width": 1
         },
         "mode": "lines",
         "type": "scatter",
         "x": [
          334.2038252341452,
          335.60100244028996
         ],
         "y": [
          772.321227662918,
          762.419313915837
         ]
        },
        {
         "line": {
          "color": "DarkBlue",
          "width": 1
         },
         "mode": "lines",
         "type": "scatter",
         "x": [
          178.31219539447773,
          185.9603135263873
         ],
         "y": [
          670.9906023061758,
          664.548064837107
         ]
        },
        {
         "line": {
          "color": "DarkBlue",
          "width": 1
         },
         "mode": "lines",
         "type": "scatter",
         "x": [
          333.0961525417351,
          328.08321008791216
         ],
         "y": [
          1167.11688396333,
          1158.4641151605329
         ]
        },
        {
         "line": {
          "color": "DarkBlue",
          "width": 1
         },
         "mode": "lines",
         "type": "scatter",
         "x": [
          760.540430307259,
          758.0343853350645
         ],
         "y": [
          847.6425692133835,
          857.3234647606631
         ]
        },
        {
         "line": {
          "color": "DarkBlue",
          "width": 1
         },
         "mode": "lines",
         "type": "scatter",
         "x": [
          766.1957023122745,
          760.540430307259
         ],
         "y": [
          839.3952727745929,
          847.6425692133835
         ]
        },
        {
         "line": {
          "color": "DarkBlue",
          "width": 1
         },
         "mode": "lines",
         "type": "scatter",
         "x": [
          170.44507311799177,
          178.31219539447773
         ],
         "y": [
          677.1638014028208,
          670.9906023061758
         ]
        },
        {
         "line": {
          "color": "DarkBlue",
          "width": 1
         },
         "mode": "lines",
         "type": "scatter",
         "x": [
          569.9606091450249,
          569.1995395173846
         ],
         "y": [
          914.2674384492,
          904.2964418579919
         ]
        },
        {
         "line": {
          "color": "DarkBlue",
          "width": 1
         },
         "mode": "lines",
         "type": "scatter",
         "x": [
          252.2453576509319,
          243.9492896186001
         ],
         "y": [
          1217.0937898979187,
          1211.510309334424
         ]
        },
        {
         "line": {
          "color": "DarkBlue",
          "width": 1
         },
         "mode": "lines",
         "type": "scatter",
         "x": [
          636.0654138265708,
          645.9384304550953
         ],
         "y": [
          832.2205732602438,
          830.632007034719
         ]
        },
        {
         "line": {
          "color": "DarkBlue",
          "width": 1
         },
         "mode": "lines",
         "type": "scatter",
         "x": [
          118.07776143639528,
          124.08492728866119
         ],
         "y": [
          1002.4096335049663,
          994.415012912132
         ]
        },
        {
         "line": {
          "color": "DarkBlue",
          "width": 1
         },
         "mode": "lines",
         "type": "scatter",
         "x": [
          546.1365247496229,
          556.1357134234812
         ],
         "y": [
          864.957431452885,
          865.0848122386609
         ]
        },
        {
         "line": {
          "color": "DarkBlue",
          "width": 1
         },
         "mode": "lines",
         "type": "scatter",
         "x": [
          545.9647458057322,
          554.0654025020707
         ],
         "y": [
          1204.6833388013977,
          1198.8199471985738
         ]
        },
        {
         "line": {
          "color": "DarkBlue",
          "width": 1
         },
         "mode": "lines",
         "type": "scatter",
         "x": [
          735.3258250148419,
          742.7635474446793
         ],
         "y": [
          861.4754906902702,
          868.1598219998849
         ]
        },
        {
         "line": {
          "color": "DarkBlue",
          "width": 1
         },
         "mode": "lines",
         "type": "scatter",
         "x": [
          402.36311390819725,
          401.16325619410827
         ],
         "y": [
          729.663340113288,
          719.7355839989416
         ]
        },
        {
         "line": {
          "color": "DarkBlue",
          "width": 1
         },
         "mode": "lines",
         "type": "scatter",
         "x": [
          207.60220099214712,
          217.05525725832467
         ],
         "y": [
          1203.3297793568945,
          1200.0679198828395
         ]
        },
        {
         "line": {
          "color": "DarkBlue",
          "width": 1
         },
         "mode": "lines",
         "type": "scatter",
         "x": [
          332.01254444949427,
          323.01089599863116
         ],
         "y": [
          660.1742450132839,
          655.8187513366643
         ]
        },
        {
         "line": {
          "color": "DarkBlue",
          "width": 1
         },
         "mode": "lines",
         "type": "scatter",
         "x": [
          318.5344956777314,
          319.8356561966722
         ],
         "y": [
          1036.2537780840382,
          1046.1687657947693
         ]
        },
        {
         "line": {
          "color": "DarkBlue",
          "width": 1
         },
         "mode": "lines",
         "type": "scatter",
         "x": [
          545.9488699185767,
          546.8630576710204
         ],
         "y": [
          697.4426132184934,
          687.4844878550888
         ]
        },
        {
         "line": {
          "color": "DarkBlue",
          "width": 1
         },
         "mode": "lines",
         "type": "scatter",
         "x": [
          197.93372390067395,
          191.08397875459843
         ],
         "y": [
          985.7494868356646,
          993.0351571160036
         ]
        },
        {
         "line": {
          "color": "DarkBlue",
          "width": 1
         },
         "mode": "lines",
         "type": "scatter",
         "x": [
          622.649741988282,
          613.499395038186
         ],
         "y": [
          660.975427763654,
          665.009179205286
         ]
        },
        {
         "line": {
          "color": "DarkBlue",
          "width": 1
         },
         "mode": "lines",
         "type": "scatter",
         "x": [
          287.9239376570986,
          295.76344430140904
         ],
         "y": [
          1145.232661534269,
          1151.4408928100684
         ]
        },
        {
         "line": {
          "color": "DarkBlue",
          "width": 1
         },
         "mode": "lines",
         "type": "scatter",
         "x": [
          626.1549564198198,
          622.649741988282
         ],
         "y": [
          651.6098807006715,
          660.975427763654
         ]
        },
        {
         "line": {
          "color": "DarkBlue",
          "width": 1
         },
         "mode": "lines",
         "type": "scatter",
         "x": [
          112.21703352555907,
          120.15495489805905
         ],
         "y": [
          955.6101385198493,
          961.6920300252947
         ]
        },
        {
         "line": {
          "color": "DarkBlue",
          "width": 1
         },
         "mode": "lines",
         "type": "scatter",
         "x": [
          494.2020689870455,
          495.889793398531
         ],
         "y": [
          807.8300131727856,
          797.9734627462482
         ]
        },
        {
         "line": {
          "color": "DarkBlue",
          "width": 1
         },
         "mode": "lines",
         "type": "scatter",
         "x": [
          224.64336533605288,
          226.8978332731715
         ],
         "y": [
          1211.5778731790708,
          1201.8353183642132
         ]
        },
        {
         "line": {
          "color": "DarkBlue",
          "width": 1
         },
         "mode": "lines",
         "type": "scatter",
         "x": [
          274.5758737869143,
          272.39007104473905
         ],
         "y": [
          1060.6797953017722,
          1050.9216055940292
         ]
        },
        {
         "line": {
          "color": "DarkBlue",
          "width": 1
         },
         "mode": "lines",
         "type": "scatter",
         "x": [
          664.7973033134068,
          655.8401426965785
         ],
         "y": [
          706.5456763048817,
          710.9919414436628
         ]
        },
        {
         "line": {
          "color": "DarkBlue",
          "width": 1
         },
         "mode": "lines",
         "type": "scatter",
         "x": [
          537.0954087273614,
          545.9488699185767
         ],
         "y": [
          702.0919384314295,
          697.4426132184934
         ]
        },
        {
         "line": {
          "color": "DarkBlue",
          "width": 1
         },
         "mode": "lines",
         "type": "scatter",
         "x": [
          429.8927656654408,
          439.1475115407517
         ],
         "y": [
          832.1642048870458,
          835.9523018741114
         ]
        },
        {
         "line": {
          "color": "DarkBlue",
          "width": 1
         },
         "mode": "lines",
         "type": "scatter",
         "x": [
          673.9648720016786,
          664.7973033134068
         ],
         "y": [
          702.5512196026732,
          706.5456763048817
         ]
        },
        {
         "line": {
          "color": "DarkBlue",
          "width": 1
         },
         "mode": "lines",
         "type": "scatter",
         "x": [
          573.2769857879056,
          566.8583096605036
         ],
         "y": [
          753.6267793559266,
          761.2949340734267
         ]
        },
        {
         "line": {
          "color": "DarkBlue",
          "width": 1
         },
         "mode": "lines",
         "type": "scatter",
         "x": [
          652.2746033945574,
          645.9384304550953
         ],
         "y": [
          822.8955406267762,
          830.632007034719
         ]
        },
        {
         "line": {
          "color": "DarkBlue",
          "width": 1
         },
         "mode": "lines",
         "type": "scatter",
         "x": [
          113.24848610864116,
          118.07776143639528
         ],
         "y": [
          1011.1662367167571,
          1002.4096335049663
         ]
        },
        {
         "line": {
          "color": "DarkBlue",
          "width": 1
         },
         "mode": "lines",
         "type": "scatter",
         "x": [
          325.899685840535,
          334.2038252341452
         ],
         "y": [
          777.8926968525924,
          772.321227662918
         ]
        },
        {
         "line": {
          "color": "DarkBlue",
          "width": 1
         },
         "mode": "lines",
         "type": "scatter",
         "x": [
          523.4920166794543,
          523.7295780343306
         ],
         "y": [
          804.6541663462301,
          794.6569885143283
         ]
        },
        {
         "line": {
          "color": "DarkBlue",
          "width": 1
         },
         "mode": "lines",
         "type": "scatter",
         "x": [
          342.0449044731678,
          334.2038252341452
         ],
         "y": [
          778.5274726119486,
          772.321227662918
         ]
        },
        {
         "line": {
          "color": "DarkBlue",
          "width": 1
         },
         "mode": "lines",
         "type": "scatter",
         "x": [
          161.2592163428728,
          170.44507311799177
         ],
         "y": [
          673.2115823670131,
          677.1638014028208
         ]
        },
        {
         "line": {
          "color": "DarkBlue",
          "width": 1
         },
         "mode": "lines",
         "type": "scatter",
         "x": [
          542.3828519467015,
          537.0954087273614
         ],
         "y": [
          710.579749939837,
          702.0919384314295
         ]
        },
        {
         "line": {
          "color": "DarkBlue",
          "width": 1
         },
         "mode": "lines",
         "type": "scatter",
         "x": [
          103.86145717484732,
          112.21703352555907
         ],
         "y": [
          950.1161105032274,
          955.6101385198493
         ]
        },
        {
         "line": {
          "color": "DarkBlue",
          "width": 1
         },
         "mode": "lines",
         "type": "scatter",
         "x": [
          333.82649393130015,
          333.0961525417351
         ],
         "y": [
          1177.0901783766465,
          1167.11688396333
         ]
        },
        {
         "line": {
          "color": "DarkBlue",
          "width": 1
         },
         "mode": "lines",
         "type": "scatter",
         "x": [
          661.1596850932171,
          651.2636318523612
         ],
         "y": [
          1132.4793797708314,
          1131.0412802422368
         ]
        },
        {
         "line": {
          "color": "DarkBlue",
          "width": 1
         },
         "mode": "lines",
         "type": "scatter",
         "x": [
          400.68235738422686,
          410.6414318721267
         ],
         "y": [
          1060.653920321026,
          1061.5577097569358
         ]
        },
        {
         "line": {
          "color": "DarkBlue",
          "width": 1
         },
         "mode": "lines",
         "type": "scatter",
         "x": [
          238.70986379908703,
          231.83411837934506
         ],
         "y": [
          1018.5146830769653,
          1025.7758210678658
         ]
        },
        {
         "line": {
          "color": "DarkBlue",
          "width": 1
         },
         "mode": "lines",
         "type": "scatter",
         "x": [
          311.1355613128901,
          301.6406247231574
         ],
         "y": [
          1162.669413216595,
          1159.5315510212536
         ]
        },
        {
         "line": {
          "color": "DarkBlue",
          "width": 1
         },
         "mode": "lines",
         "type": "scatter",
         "x": [
          559.966735899546,
          569.9606091450249
         ],
         "y": [
          913.9174419445021,
          914.2674384492
         ]
        },
        {
         "line": {
          "color": "DarkBlue",
          "width": 1
         },
         "mode": "lines",
         "type": "scatter",
         "x": [
          627.2398402857013,
          633.5072564866696
         ],
         "y": [
          985.5484925185008,
          993.3407639565245
         ]
        },
        {
         "line": {
          "color": "DarkBlue",
          "width": 1
         },
         "mode": "lines",
         "type": "scatter",
         "x": [
          113.3050269420241,
          113.24848610864116
         ],
         "y": [
          1021.1660768721877,
          1011.1662367167571
         ]
        },
        {
         "line": {
          "color": "DarkBlue",
          "width": 1
         },
         "mode": "lines",
         "type": "scatter",
         "x": [
          621.7616568340916,
          627.2398402857013
         ],
         "y": [
          977.1825194089032,
          985.5484925185008
         ]
        },
        {
         "line": {
          "color": "DarkBlue",
          "width": 1
         },
         "mode": "lines",
         "type": "scatter",
         "x": [
          198.10507581011777,
          207.60220099214712
         ],
         "y": [
          1206.4610112673195,
          1203.3297793568945
         ]
        },
        {
         "line": {
          "color": "DarkBlue",
          "width": 1
         },
         "mode": "lines",
         "type": "scatter",
         "x": [
          339.0709587510197,
          333.82649393130015
         ],
         "y": [
          1185.6046125184273,
          1177.0901783766465
         ]
        },
        {
         "line": {
          "color": "DarkBlue",
          "width": 1
         },
         "mode": "lines",
         "type": "scatter",
         "x": [
          207.30296685736764,
          214.23067771464878
         ],
         "y": [
          664.1775334957781,
          656.9659579205027
         ]
        },
        {
         "line": {
          "color": "DarkBlue",
          "width": 1
         },
         "mode": "lines",
         "type": "scatter",
         "x": [
          747.0548089941295,
          739.5448494187782
         ],
         "y": [
          884.2307294183142,
          877.6276614058984
         ]
        },
        {
         "line": {
          "color": "DarkBlue",
          "width": 1
         },
         "mode": "lines",
         "type": "scatter",
         "x": [
          773.5460115958612,
          775.570459342698
         ],
         "y": [
          1140.8516115084365,
          1131.0586747006996
         ]
        },
        {
         "line": {
          "color": "DarkBlue",
          "width": 1
         },
         "mode": "lines",
         "type": "scatter",
         "x": [
          112.82410908798529,
          113.3050269420241
         ],
         "y": [
          1031.154506078908,
          1021.1660768721877
         ]
        },
        {
         "line": {
          "color": "DarkBlue",
          "width": 1
         },
         "mode": "lines",
         "type": "scatter",
         "x": [
          436.6710861877081,
          439.1475115407517
         ],
         "y": [
          845.6408165936544,
          835.9523018741114
         ]
        },
        {
         "line": {
          "color": "DarkBlue",
          "width": 1
         },
         "mode": "lines",
         "type": "scatter",
         "x": [
          195.6146210480652,
          197.93372390067395
         ],
         "y": [
          976.0221150447325,
          985.7494868356646
         ]
        },
        {
         "line": {
          "color": "DarkBlue",
          "width": 1
         },
         "mode": "lines",
         "type": "scatter",
         "x": [
          552.7731536253492,
          549.8824503656595
         ],
         "y": [
          1085.9792816476952,
          1076.406203006818
         ]
        },
        {
         "line": {
          "color": "DarkBlue",
          "width": 1
         },
         "mode": "lines",
         "type": "scatter",
         "x": [
          99.24989100284382,
          103.86145717484732
         ],
         "y": [
          941.2429229451268,
          950.1161105032274
         ]
        },
        {
         "line": {
          "color": "DarkBlue",
          "width": 1
         },
         "mode": "lines",
         "type": "scatter",
         "x": [
          342.5754426413133,
          339.0709587510197
         ],
         "y": [
          1194.970432966347,
          1185.6046125184273
         ]
        },
        {
         "line": {
          "color": "DarkBlue",
          "width": 1
         },
         "mode": "lines",
         "type": "scatter",
         "x": [
          343.9252394082704,
          342.0449044731678
         ],
         "y": [
          788.3490987772958,
          778.5274726119486
         ]
        },
        {
         "line": {
          "color": "DarkBlue",
          "width": 1
         },
         "mode": "lines",
         "type": "scatter",
         "x": [
          270.09816863739013,
          264.4184458156093
         ],
         "y": [
          1162.2681815211515,
          1170.49865834013
         ]
        },
        {
         "line": {
          "color": "DarkBlue",
          "width": 1
         },
         "mode": "lines",
         "type": "scatter",
         "x": [
          412.6072556315707,
          410.6414318721267
         ],
         "y": [
          1051.7528366345132,
          1061.5577097569358
         ]
        },
        {
         "line": {
          "color": "DarkBlue",
          "width": 1
         },
         "mode": "lines",
         "type": "scatter",
         "x": [
          541.3011003409024,
          546.1365247496229
         ],
         "y": [
          856.2042222820979,
          864.957431452885
         ]
        },
        {
         "line": {
          "color": "DarkBlue",
          "width": 1
         },
         "mode": "lines",
         "type": "scatter",
         "x": [
          95.21083927321581,
          99.24989100284382
         ],
         "y": [
          932.0949143571669,
          941.2429229451268
         ]
        },
        {
         "line": {
          "color": "DarkBlue",
          "width": 1
         },
         "mode": "lines",
         "type": "scatter",
         "x": [
          563.0263064984988,
          569.924915591623
         ],
         "y": [
          662.5569255204831,
          669.7963448742894
         ]
        },
        {
         "line": {
          "color": "DarkBlue",
          "width": 1
         },
         "mode": "lines",
         "type": "scatter",
         "x": [
          770.6858782108203,
          773.5460115958612
         ],
         "y": [
          1150.433867872142,
          1140.8516115084365
         ]
        },
        {
         "line": {
          "color": "DarkBlue",
          "width": 1
         },
         "mode": "lines",
         "type": "scatter",
         "x": [
          736.2447486817048,
          735.3258250148419
         ],
         "y": [
          851.5178012346546,
          861.4754906902702
         ]
        },
        {
         "line": {
          "color": "DarkBlue",
          "width": 1
         },
         "mode": "lines",
         "type": "scatter",
         "x": [
          105.95306845707384,
          112.82410908798529
         ],
         "y": [
          1038.4200962578518,
          1031.154506078908
         ]
        },
        {
         "line": {
          "color": "DarkBlue",
          "width": 1
         },
         "mode": "lines",
         "type": "scatter",
         "x": [
          766.7506041532507,
          770.6858782108203
         ],
         "y": [
          1159.6269967242695,
          1150.433867872142
         ]
        },
        {
         "line": {
          "color": "DarkBlue",
          "width": 1
         },
         "mode": "lines",
         "type": "scatter",
         "x": [
          411.8369936029474,
          412.6072556315707
         ],
         "y": [
          1041.7825459463104,
          1051.7528366345132
         ]
        },
        {
         "line": {
          "color": "DarkBlue",
          "width": 1
         },
         "mode": "lines",
         "type": "scatter",
         "x": [
          194.194947046938,
          198.10507581011777
         ],
         "y": [
          1197.2571591903163,
          1206.4610112673195
         ]
        },
        {
         "line": {
          "color": "DarkBlue",
          "width": 1
         },
         "mode": "lines",
         "type": "scatter",
         "x": [
          266.3761007771365,
          272.427944798823
         ],
         "y": [
          1073.7805766817194,
          1065.819723465061
         ]
        },
        {
         "line": {
          "color": "DarkBlue",
          "width": 1
         },
         "mode": "lines",
         "type": "scatter",
         "x": [
          537.2671204315149,
          545.9647458057322
         ],
         "y": [
          1209.6180437418952,
          1204.6833388013977
         ]
        },
        {
         "line": {
          "color": "DarkBlue",
          "width": 1
         },
         "mode": "lines",
         "type": "scatter",
         "x": [
          100.94153256944803,
          95.21083927321581
         ],
         "y": [
          923.8998454529709,
          932.0949143571669
         ]
        },
        {
         "line": {
          "color": "DarkBlue",
          "width": 1
         },
         "mode": "lines",
         "type": "scatter",
         "x": [
          726.3827185480058,
          726.2672322402161
         ],
         "y": [
          1047.3799897843994,
          1037.3806566609999
         ]
        },
        {
         "line": {
          "color": "DarkBlue",
          "width": 1
         },
         "mode": "lines",
         "type": "scatter",
         "x": [
          775.8985228640993,
          767.4271419078218
         ],
         "y": [
          866.0688284640056,
          860.7551005171099
         ]
        },
        {
         "line": {
          "color": "DarkBlue",
          "width": 1
         },
         "mode": "lines",
         "type": "scatter",
         "x": [
          184.7459627005836,
          194.194947046938
         ],
         "y": [
          1200.5307955205078,
          1197.2571591903163
         ]
        },
        {
         "line": {
          "color": "DarkBlue",
          "width": 1
         },
         "mode": "lines",
         "type": "scatter",
         "x": [
          809.1957956729881,
          801.9629082243678
         ],
         "y": [
          976.3109935409004,
          983.2164507419546
         ]
        },
        {
         "line": {
          "color": "DarkBlue",
          "width": 1
         },
         "mode": "lines",
         "type": "scatter",
         "x": [
          103.3653184616009,
          100.94153256944803
         ],
         "y": [
          914.198027996999,
          923.8998454529709
         ]
        },
        {
         "line": {
          "color": "DarkBlue",
          "width": 1
         },
         "mode": "lines",
         "type": "scatter",
         "x": [
          678.064433934044,
          671.18161969081
         ],
         "y": [
          884.7368265131313,
          891.9912643337439
         ]
        },
        {
         "line": {
          "color": "DarkBlue",
          "width": 1
         },
         "mode": "lines",
         "type": "scatter",
         "x": [
          118.73495659475739,
          112.82410908798529
         ],
         "y": [
          1039.2206006575555,
          1031.154506078908
         ]
        },
        {
         "line": {
          "color": "DarkBlue",
          "width": 1
         },
         "mode": "lines",
         "type": "scatter",
         "x": [
          125.03864091525092,
          118.73495659475739
         ],
         "y": [
          1046.9835616897624,
          1039.2206006575555
         ]
        },
        {
         "line": {
          "color": "DarkBlue",
          "width": 1
         },
         "mode": "lines",
         "type": "scatter",
         "x": [
          683.9045200635446,
          673.9648720016786
         ],
         "y": [
          703.6482138625685,
          702.5512196026732
         ]
        },
        {
         "line": {
          "color": "DarkBlue",
          "width": 1
         },
         "mode": "lines",
         "type": "scatter",
         "x": [
          627.2534836241194,
          636.3326081620582
         ],
         "y": [
          1093.7921373731376,
          1089.6005389161528
         ]
        },
        {
         "line": {
          "color": "DarkBlue",
          "width": 1
         },
         "mode": "lines",
         "type": "scatter",
         "x": [
          661.4309396499851,
          652.2746033945574
         ],
         "y": [
          818.8754030199847,
          822.8955406267762
         ]
        },
        {
         "line": {
          "color": "DarkBlue",
          "width": 1
         },
         "mode": "lines",
         "type": "scatter",
         "x": [
          97.60724534159658,
          105.95306845707384
         ],
         "y": [
          1043.928928849714,
          1038.4200962578518
         ]
        },
        {
         "line": {
          "color": "DarkBlue",
          "width": 1
         },
         "mode": "lines",
         "type": "scatter",
         "x": [
          155.85879186930916,
          161.2592163428728
         ],
         "y": [
          664.795204553171,
          673.2115823670131
         ]
        },
        {
         "line": {
          "color": "DarkBlue",
          "width": 1
         },
         "mode": "lines",
         "type": "scatter",
         "x": [
          437.5920029620655,
          433.8556715674511
         ],
         "y": [
          1157.6238087373172,
          1148.3480431241928
         ]
        },
        {
         "line": {
          "color": "DarkBlue",
          "width": 1
         },
         "mode": "lines",
         "type": "scatter",
         "x": [
          654.0241800546239,
          647.310593353271
         ],
         "y": [
          1045.9775498091565,
          1038.566223773728
         ]
        },
        {
         "line": {
          "color": "DarkBlue",
          "width": 1
         },
         "mode": "lines",
         "type": "scatter",
         "x": [
          148.43701025428427,
          155.85879186930916
         ],
         "y": [
          658.0931781686452,
          664.795204553171
         ]
        },
        {
         "line": {
          "color": "DarkBlue",
          "width": 1
         },
         "mode": "lines",
         "type": "scatter",
         "x": [
          713.1180704630917,
          722.2848420482163
         ],
         "y": [
          905.8381146256154,
          901.8418290119296
         ]
        },
        {
         "line": {
          "color": "DarkBlue",
          "width": 1
         },
         "mode": "lines",
         "type": "scatter",
         "x": [
          730.747553131346,
          736.2447486817048
         ],
         "y": [
          843.1643084872396,
          851.5178012346546
         ]
        },
        {
         "line": {
          "color": "DarkBlue",
          "width": 1
         },
         "mode": "lines",
         "type": "scatter",
         "x": [
          372.4418850483013,
          378.7522151563516
         ],
         "y": [
          661.2687910483685,
          669.0263508404315
         ]
        },
        {
         "line": {
          "color": "DarkBlue",
          "width": 1
         },
         "mode": "lines",
         "type": "scatter",
         "x": [
          139.94551120961165,
          148.43701025428427
         ],
         "y": [
          652.8116590714228,
          658.0931781686452
         ]
        },
        {
         "line": {
          "color": "DarkBlue",
          "width": 1
         },
         "mode": "lines",
         "type": "scatter",
         "x": [
          612.1063019487693,
          620.6767486338009
         ],
         "y": [
          681.6757464987019,
          686.8281676401683
         ]
        },
        {
         "line": {
          "color": "DarkBlue",
          "width": 1
         },
         "mode": "lines",
         "type": "scatter",
         "x": [
          88.07087461288307,
          97.60724534159658
         ],
         "y": [
          1046.9385190750663,
          1043.928928849714
         ]
        },
        {
         "line": {
          "color": "DarkBlue",
          "width": 1
         },
         "mode": "lines",
         "type": "scatter",
         "x": [
          561.3332470731773,
          554.5520293358105
         ],
         "y": [
          688.4402588466003,
          681.0907632177546
         ]
        },
        {
         "line": {
          "color": "DarkBlue",
          "width": 1
         },
         "mode": "lines",
         "type": "scatter",
         "x": [
          132.8831160279944,
          139.94551120961165
         ],
         "y": [
          659.8913888896199,
          652.8116590714228
         ]
        },
        {
         "line": {
          "color": "DarkBlue",
          "width": 1
         },
         "mode": "lines",
         "type": "scatter",
         "x": [
          135.0836016145051,
          139.94551120961165
         ],
         "y": [
          644.0731331608924,
          652.8116590714228
         ]
        },
        {
         "line": {
          "color": "DarkBlue",
          "width": 1
         },
         "mode": "lines",
         "type": "scatter",
         "x": [
          557.8076413931121,
          551.0361407900598
         ],
         "y": [
          1049.167456720772,
          1056.5259062573837
         ]
        },
        {
         "line": {
          "color": "DarkBlue",
          "width": 1
         },
         "mode": "lines",
         "type": "scatter",
         "x": [
          131.64477987160268,
          135.0836016145051
         ],
         "y": [
          634.6830050989041,
          644.0731331608924
         ]
        },
        {
         "line": {
          "color": "DarkBlue",
          "width": 1
         },
         "mode": "lines",
         "type": "scatter",
         "x": [
          566.9796525484516,
          561.3332470731773
         ],
         "y": [
          696.6936281712333,
          688.4402588466003
         ]
        },
        {
         "line": {
          "color": "DarkBlue",
          "width": 1
         },
         "mode": "lines",
         "type": "scatter",
         "x": [
          724.0135545664587,
          726.3827185480058
         ],
         "y": [
          1057.0952901929581,
          1047.3799897843994
         ]
        },
        {
         "line": {
          "color": "DarkBlue",
          "width": 1
         },
         "mode": "lines",
         "type": "scatter",
         "x": [
          110.34203478423383,
          103.3653184616009
         ],
         "y": [
          907.033851187797,
          914.198027996999
         ]
        },
        {
         "line": {
          "color": "DarkBlue",
          "width": 1
         },
         "mode": "lines",
         "type": "scatter",
         "x": [
          131.5458057013182,
          131.64477987160268
         ],
         "y": [
          624.6834949052188,
          634.6830050989041
         ]
        },
        {
         "line": {
          "color": "DarkBlue",
          "width": 1
         },
         "mode": "lines",
         "type": "scatter",
         "x": [
          86.15992275903241,
          88.07087461288307
         ],
         "y": [
          1056.7542341795436,
          1046.9385190750663
         ]
        },
        {
         "line": {
          "color": "DarkBlue",
          "width": 1
         },
         "mode": "lines",
         "type": "scatter",
         "x": [
          417.14390187873676,
          411.8369936029474
         ],
         "y": [
          1033.3068911307603,
          1041.7825459463104
         ]
        },
        {
         "line": {
          "color": "DarkBlue",
          "width": 1
         },
         "mode": "lines",
         "type": "scatter",
         "x": [
          274.9028871753692,
          272.39007104473905
         ],
         "y": [
          1041.242465389773,
          1050.9216055940292
         ]
        },
        {
         "line": {
          "color": "DarkBlue",
          "width": 1
         },
         "mode": "lines",
         "type": "scatter",
         "x": [
          693.5862285379907,
          685.1584020843555
         ],
         "y": [
          1003.9455597035278,
          998.5630192933304
         ]
        },
        {
         "line": {
          "color": "DarkBlue",
          "width": 1
         },
         "mode": "lines",
         "type": "scatter",
         "x": [
          348.7977365223688,
          344.5580329948633
         ],
         "y": [
          1084.9290601335576,
          1093.9858208126777
         ]
        },
        {
         "line": {
          "color": "DarkBlue",
          "width": 1
         },
         "mode": "lines",
         "type": "scatter",
         "x": [
          90.72059259536593,
          99.24989100284382
         ],
         "y": [
          936.0226673310601,
          941.2429229451268
         ]
        },
        {
         "line": {
          "color": "DarkBlue",
          "width": 1
         },
         "mode": "lines",
         "type": "scatter",
         "x": [
          556.3725664810247,
          554.0654025020707
         ],
         "y": [
          1189.0897368013514,
          1198.8199471985738
         ]
        },
        {
         "line": {
          "color": "DarkBlue",
          "width": 1
         },
         "mode": "lines",
         "type": "scatter",
         "x": [
          615.8844956286074,
          621.3775953673002
         ],
         "y": [
          1045.2122631321731,
          1053.5684497780526
         ]
        },
        {
         "line": {
          "color": "DarkBlue",
          "width": 1
         },
         "mode": "lines",
         "type": "scatter",
         "x": [
          132.9699052557275,
          131.5458057013182
         ],
         "y": [
          614.7854172908974,
          624.6834949052188
         ]
        },
        {
         "line": {
          "color": "DarkBlue",
          "width": 1
         },
         "mode": "lines",
         "type": "scatter",
         "x": [
          351.984192103971,
          360.68557120303757
         ],
         "y": [
          743.3203943570204,
          738.3923113854861
         ]
        },
        {
         "line": {
          "color": "DarkBlue",
          "width": 1
         },
         "mode": "lines",
         "type": "scatter",
         "x": [
          539.5353097033559,
          546.1365247496229
         ],
         "y": [
          872.4690198277187,
          864.957431452885
         ]
        },
        {
         "line": {
          "color": "DarkBlue",
          "width": 1
         },
         "mode": "lines",
         "type": "scatter",
         "x": [
          137.00768563020458,
          132.9699052557275
         ],
         "y": [
          605.6368474765774,
          614.7854172908974
         ]
        },
        {
         "line": {
          "color": "DarkBlue",
          "width": 1
         },
         "mode": "lines",
         "type": "scatter",
         "x": [
          431.41879673296677,
          436.6710861877081
         ],
         "y": [
          854.150426190082,
          845.6408165936544
         ]
        },
        {
         "line": {
          "color": "DarkBlue",
          "width": 1
         },
         "mode": "lines",
         "type": "scatter",
         "x": [
          439.7436615452444,
          437.5920029620655
         ],
         "y": [
          1167.3895839416434,
          1157.6238087373172
         ]
        },
        {
         "line": {
          "color": "DarkBlue",
          "width": 1
         },
         "mode": "lines",
         "type": "scatter",
         "x": [
          770.9375619578483,
          766.7506041532507
         ],
         "y": [
          1168.7082622936998,
          1159.6269967242695
         ]
        },
        {
         "line": {
          "color": "DarkBlue",
          "width": 1
         },
         "mode": "lines",
         "type": "scatter",
         "x": [
          138.50756058664717,
          137.00768563020458
         ],
         "y": [
          595.7499685395702,
          605.6368474765774
         ]
        },
        {
         "line": {
          "color": "DarkBlue",
          "width": 1
         },
         "mode": "lines",
         "type": "scatter",
         "x": [
          560.8883318344598,
          563.0263064984988
         ],
         "y": [
          652.7881454361569,
          662.5569255204831
         ]
        },
        {
         "line": {
          "color": "DarkBlue",
          "width": 1
         },
         "mode": "lines",
         "type": "scatter",
         "x": [
          220.72533325114514,
          222.1485585733518
         ],
         "y": [
          1033.1860671808356,
          1023.2878638245578
         ]
        },
        {
         "line": {
          "color": "DarkBlue",
          "width": 1
         },
         "mode": "lines",
         "type": "scatter",
         "x": [
          103.87743539786305,
          110.34203478423383
         ],
         "y": [
          899.4043718625918,
          907.033851187797
         ]
        },
        {
         "line": {
          "color": "DarkBlue",
          "width": 1
         },
         "mode": "lines",
         "type": "scatter",
         "x": [
          146.9232813783748,
          137.00768563020458
         ],
         "y": [
          604.3403286919589,
          605.6368474765774
         ]
        },
        {
         "line": {
          "color": "DarkBlue",
          "width": 1
         },
         "mode": "lines",
         "type": "scatter",
         "x": [
          95.4275535559339,
          103.87743539786305
         ],
         "y": [
          894.056522121113,
          899.4043718625918
         ]
        },
        {
         "line": {
          "color": "DarkBlue",
          "width": 1
         },
         "mode": "lines",
         "type": "scatter",
         "x": [
          403.2330215468679,
          411.8369936029474
         ],
         "y": [
          1036.6863056793877,
          1041.7825459463104
         ]
        },
        {
         "line": {
          "color": "DarkBlue",
          "width": 1
         },
         "mode": "lines",
         "type": "scatter",
         "x": [
          161.12751144207834,
          155.46141440301562
         ],
         "y": [
          995.080538315201,
          986.8406751886724
         ]
        },
        {
         "line": {
          "color": "DarkBlue",
          "width": 1
         },
         "mode": "lines",
         "type": "scatter",
         "x": [
          135.05917250535964,
          138.50756058664717
         ],
         "y": [
          586.3633493590114,
          595.7499685395702
         ]
        },
        {
         "line": {
          "color": "DarkBlue",
          "width": 1
         },
         "mode": "lines",
         "type": "scatter",
         "x": [
          685.7939219523821,
          695.3939163145659
         ],
         "y": [
          968.9360068176318,
          971.7360261472148
         ]
        },
        {
         "line": {
          "color": "DarkBlue",
          "width": 1
         },
         "mode": "lines",
         "type": "scatter",
         "x": [
          133.7021909394937,
          135.05917250535964
         ],
         "y": [
          576.4558470991126,
          586.3633493590114
         ]
        },
        {
         "line": {
          "color": "DarkBlue",
          "width": 1
         },
         "mode": "lines",
         "type": "scatter",
         "x": [
          131.1738898082689,
          133.7021909394937
         ],
         "y": [
          566.7807402061709,
          576.4558470991126
         ]
        },
        {
         "line": {
          "color": "DarkBlue",
          "width": 1
         },
         "mode": "lines",
         "type": "scatter",
         "x": [
          78.17164610422633,
          88.07087461288307
         ],
         "y": [
          1045.5224417701859,
          1046.9385190750663
         ]
        },
        {
         "line": {
          "color": "DarkBlue",
          "width": 1
         },
         "mode": "lines",
         "type": "scatter",
         "x": [
          422.42371629541645,
          431.41879673296677
         ],
         "y": [
          858.5194681814115,
          854.150426190082
         ]
        },
        {
         "line": {
          "color": "DarkBlue",
          "width": 1
         },
         "mode": "lines",
         "type": "scatter",
         "x": [
          307.18374289526025,
          303.9819297080902
         ],
         "y": [
          661.2240976125522,
          651.7505348025813
         ]
        },
        {
         "line": {
          "color": "DarkBlue",
          "width": 1
         },
         "mode": "lines",
         "type": "scatter",
         "x": [
          279.9711882865289,
          270.09816863739013
         ],
         "y": [
          1163.8567289732975,
          1162.2681815211515
         ]
        },
        {
         "line": {
          "color": "DarkBlue",
          "width": 1
         },
         "mode": "lines",
         "type": "scatter",
         "x": [
          760.5515491848441,
          766.7506041532507
         ],
         "y": [
          1151.78023194516,
          1159.6269967242695
         ]
        },
        {
         "line": {
          "color": "DarkBlue",
          "width": 1
         },
         "mode": "lines",
         "type": "scatter",
         "x": [
          784.2418007628154,
          775.8985228640993
         ],
         "y": [
          871.5815150962019,
          866.0688284640056
         ]
        },
        {
         "line": {
          "color": "DarkBlue",
          "width": 1
         },
         "mode": "lines",
         "type": "scatter",
         "x": [
          346.73273306658126,
          351.984192103971
         ],
         "y": [
          734.8102722674956,
          743.3203943570204
         ]
        },
        {
         "line": {
          "color": "DarkBlue",
          "width": 1
         },
         "mode": "lines",
         "type": "scatter",
         "x": [
          693.8274790601012,
          683.9045200635446
         ],
         "y": [
          702.4093092041472,
          703.6482138625685
         ]
        },
        {
         "line": {
          "color": "DarkBlue",
          "width": 1
         },
         "mode": "lines",
         "type": "scatter",
         "x": [
          328.63950794822676,
          338.4795217789893
         ],
         "y": [
          1110.4279771708098,
          1112.209585379817
         ]
        },
        {
         "line": {
          "color": "DarkBlue",
          "width": 1
         },
         "mode": "lines",
         "type": "scatter",
         "x": [
          136.87738310867528,
          131.1738898082689
         ],
         "y": [
          558.566717794939,
          566.7807402061709
         ]
        },
        {
         "line": {
          "color": "DarkBlue",
          "width": 1
         },
         "mode": "lines",
         "type": "scatter",
         "x": [
          143.47607765073363,
          136.87738310867528
         ],
         "y": [
          551.0529151397843,
          558.566717794939
         ]
        },
        {
         "line": {
          "color": "DarkBlue",
          "width": 1
         },
         "mode": "lines",
         "type": "scatter",
         "x": [
          121.17828531474389,
          131.1738898082689
         ],
         "y": [
          566.4842763651677,
          566.7807402061709
         ]
        },
        {
         "line": {
          "color": "DarkBlue",
          "width": 1
         },
         "mode": "lines",
         "type": "scatter",
         "x": [
          155.23220697696013,
          146.9232813783748
         ],
         "y": [
          598.7759998557763,
          604.3403286919589
         ]
        },
        {
         "line": {
          "color": "DarkBlue",
          "width": 1
         },
         "mode": "lines",
         "type": "scatter",
         "x": [
          141.39291243976615,
          143.47607765073363
         ],
         "y": [
          541.272300501439,
          551.0529151397843
         ]
        },
        {
         "line": {
          "color": "DarkBlue",
          "width": 1
         },
         "mode": "lines",
         "type": "scatter",
         "x": [
          129.22481201327685,
          132.8831160279944
         ],
         "y": [
          669.1982042276344,
          659.8913888896199
         ]
        },
        {
         "line": {
          "color": "DarkBlue",
          "width": 1
         },
         "mode": "lines",
         "type": "scatter",
         "x": [
          792.4757968103986,
          784.2418007628154
         ],
         "y": [
          877.2561348269313,
          871.5815150962019
         ]
        },
        {
         "line": {
          "color": "DarkBlue",
          "width": 1
         },
         "mode": "lines",
         "type": "scatter",
         "x": [
          146.57584705223272,
          141.39291243976615
         ],
         "y": [
          532.7202721570696,
          541.272300501439
         ]
        },
        {
         "line": {
          "color": "DarkBlue",
          "width": 1
         },
         "mode": "lines",
         "type": "scatter",
         "x": [
          148.21918666924216,
          146.57584705223272
         ],
         "y": [
          522.8562245647693,
          532.7202721570696
         ]
        },
        {
         "line": {
          "color": "DarkBlue",
          "width": 1
         },
         "mode": "lines",
         "type": "scatter",
         "x": [
          146.1824861772922,
          148.21918666924216
         ],
         "y": [
          513.0658287042287,
          522.8562245647693
         ]
        },
        {
         "line": {
          "color": "DarkBlue",
          "width": 1
         },
         "mode": "lines",
         "type": "scatter",
         "x": [
          142.78740717681498,
          146.1824861772922
         ],
         "y": [
          503.65979667257375,
          513.0658287042287
         ]
        },
        {
         "line": {
          "color": "DarkBlue",
          "width": 1
         },
         "mode": "lines",
         "type": "scatter",
         "x": [
          147.79056142197578,
          142.78740717681498
         ],
         "y": [
          495.00136450507773,
          503.65979667257375
         ]
        },
        {
         "line": {
          "color": "DarkBlue",
          "width": 1
         },
         "mode": "lines",
         "type": "scatter",
         "x": [
          145.56149264365604,
          147.79056142197578
         ],
         "y": [
          485.2529670787558,
          495.00136450507773
         ]
        },
        {
         "line": {
          "color": "DarkBlue",
          "width": 1
         },
         "mode": "lines",
         "type": "scatter",
         "x": [
          203.19779574744985,
          195.6146210480652
         ],
         "y": [
          969.5032607375238,
          976.0221150447325
         ]
        },
        {
         "line": {
          "color": "DarkBlue",
          "width": 1
         },
         "mode": "lines",
         "type": "scatter",
         "x": [
          173.92578432216823,
          170.44507311799177
         ],
         "y": [
          686.5384827047702,
          677.1638014028208
         ]
        },
        {
         "line": {
          "color": "DarkBlue",
          "width": 1
         },
         "mode": "lines",
         "type": "scatter",
         "x": [
          772.9423004452193,
          766.1957023122745
         ],
         "y": [
          832.0139847005136,
          839.3952727745929
         ]
        },
        {
         "line": {
          "color": "DarkBlue",
          "width": 1
         },
         "mode": "lines",
         "type": "scatter",
         "x": [
          150.6582274004916,
          145.56149264365604
         ],
         "y": [
          476.64928793443244,
          485.2529670787558
         ]
        },
        {
         "line": {
          "color": "DarkBlue",
          "width": 1
         },
         "mode": "lines",
         "type": "scatter",
         "x": [
          158.39586082720425,
          150.6582274004916
         ],
         "y": [
          470.3145401925078,
          476.64928793443244
         ]
        },
        {
         "line": {
          "color": "DarkBlue",
          "width": 1
         },
         "mode": "lines",
         "type": "scatter",
         "x": [
          440.80688088588334,
          439.7436615452444
         ],
         "y": [
          1177.33290152853,
          1167.3895839416434
         ]
        },
        {
         "line": {
          "color": "DarkBlue",
          "width": 1
         },
         "mode": "lines",
         "type": "scatter",
         "x": [
          160.88853986442456,
          158.39586082720425
         ],
         "y": [
          460.6301945141771,
          470.3145401925078
         ]
        },
        {
         "line": {
          "color": "DarkBlue",
          "width": 1
         },
         "mode": "lines",
         "type": "scatter",
         "x": [
          616.7129689311977,
          626.1549564198198
         ],
         "y": [
          648.3161180703801,
          651.6098807006715
         ]
        },
        {
         "line": {
          "color": "DarkBlue",
          "width": 1
         },
         "mode": "lines",
         "type": "scatter",
         "x": [
          540.047869714177,
          537.2671204315149
         ],
         "y": [
          1219.2236376031292,
          1209.6180437418952
         ]
        },
        {
         "line": {
          "color": "DarkBlue",
          "width": 1
         },
         "mode": "lines",
         "type": "scatter",
         "x": [
          103.9921676821505,
          113.3050269420241
         ],
         "y": [
          1024.808967538374,
          1021.1660768721877
         ]
        },
        {
         "line": {
          "color": "DarkBlue",
          "width": 1
         },
         "mode": "lines",
         "type": "scatter",
         "x": [
          156.08921057902077,
          160.88853986442456
         ],
         "y": [
          451.85714268426835,
          460.6301945141771
         ]
        },
        {
         "line": {
          "color": "DarkBlue",
          "width": 1
         },
         "mode": "lines",
         "type": "scatter",
         "x": [
          119.28985315400716,
          129.22481201327685
         ],
         "y": [
          670.3368843691222,
          669.1982042276344
         ]
        },
        {
         "line": {
          "color": "DarkBlue",
          "width": 1
         },
         "mode": "lines",
         "type": "scatter",
         "x": [
          601.4728530735688,
          607.3568716154381
         ],
         "y": [
          716.2123393787077,
          708.1266529020418
         ]
        },
        {
         "line": {
          "color": "DarkBlue",
          "width": 1
         },
         "mode": "lines",
         "type": "scatter",
         "x": [
          356.6547110347218,
          348.28900847492423
         ],
         "y": [
          758.2587314626943,
          752.7801348649335
         ]
        },
        {
         "line": {
          "color": "DarkBlue",
          "width": 1
         },
         "mode": "lines",
         "type": "scatter",
         "x": [
          353.06349504700927,
          343.9252394082704
         ],
         "y": [
          792.4101680799619,
          788.3490987772958
         ]
        },
        {
         "line": {
          "color": "DarkBlue",
          "width": 1
         },
         "mode": "lines",
         "type": "scatter",
         "x": [
          156.17690204706602,
          156.08921057902077
         ],
         "y": [
          441.85752718133864,
          451.85714268426835
         ]
        },
        {
         "line": {
          "color": "DarkBlue",
          "width": 1
         },
         "mode": "lines",
         "type": "scatter",
         "x": [
          109.68291878856506,
          119.47592343296647
         ],
         "y": [
          983.5163745685362,
          985.5404941388018
         ]
        },
        {
         "line": {
          "color": "DarkBlue",
          "width": 1
         },
         "mode": "lines",
         "type": "scatter",
         "x": [
          589.0186020511181,
          583.7488311511516
         ],
         "y": [
          904.8780147200238,
          896.3792198253421
         ]
        },
        {
         "line": {
          "color": "DarkBlue",
          "width": 1
         },
         "mode": "lines",
         "type": "scatter",
         "x": [
          119.0892716046899,
          119.28985315400716
         ],
         "y": [
          680.3348725188488,
          670.3368843691222
         ]
        },
        {
         "line": {
          "color": "DarkBlue",
          "width": 1
         },
         "mode": "lines",
         "type": "scatter",
         "x": [
          81.96367802535897,
          90.72059259536593
         ],
         "y": [
          931.193956611458,
          936.0226673310601
         ]
        },
        {
         "line": {
          "color": "DarkBlue",
          "width": 1
         },
         "mode": "lines",
         "type": "scatter",
         "x": [
          563.2703920550169,
          553.2712714160713
         ],
         "y": [
          1153.2119971158418,
          1153.079383210801
         ]
        },
        {
         "line": {
          "color": "DarkBlue",
          "width": 1
         },
         "mode": "lines",
         "type": "scatter",
         "x": [
          146.51762142281072,
          156.17690204706602
         ],
         "y": [
          439.2694201855044,
          441.85752718133864
         ]
        },
        {
         "line": {
          "color": "DarkBlue",
          "width": 1
         },
         "mode": "lines",
         "type": "scatter",
         "x": [
          313.43073377911145,
          323.17174102783616
         ],
         "y": [
          1122.248454609618,
          1124.5095998460617
         ]
        },
        {
         "line": {
          "color": "DarkBlue",
          "width": 1
         },
         "mode": "lines",
         "type": "scatter",
         "x": [
          597.8994707102737,
          606.8636290405881
         ],
         "y": [
          882.5377446367862,
          886.9698846874903
         ]
        },
        {
         "line": {
          "color": "DarkBlue",
          "width": 1
         },
         "mode": "lines",
         "type": "scatter",
         "x": [
          270,
          156.17690204706602
         ],
         "y": [
          300,
          441.85752718133864
         ]
        },
        {
         "line": {
          "color": "red",
          "width": 2
         },
         "mode": "lines",
         "type": "scatter",
         "x": [
          800,
          161.2592163428728,
          146.1824861772922,
          270
         ],
         "y": [
          1000,
          673.2115823670131,
          513.0658287042287,
          300
         ]
        },
        {
         "line": {
          "color": "orange",
          "width": 10
         },
         "mode": "markers",
         "type": "scatter",
         "x": [
          800
         ],
         "y": [
          1000
         ]
        },
        {
         "line": {
          "color": "green",
          "width": 10
         },
         "mode": "markers",
         "type": "scatter",
         "x": [
          270
         ],
         "y": [
          300
         ]
        }
       ],
       "layout": {
        "scene": {
         "aspectmode": "manual",
         "aspectratio": {
          "x": 1,
          "y": 1,
          "z": 1
         }
        },
        "shapes": [
         {
          "line": {
           "color": "grey",
           "width": 1
          },
          "type": "rect",
          "x0": 163,
          "x1": 867,
          "y0": 489,
          "y1": 647
         },
         {
          "line": {
           "color": "grey",
           "width": 1
          },
          "type": "rect",
          "x0": 390,
          "x1": 545,
          "y0": 323,
          "y1": 548
         },
         {
          "line": {
           "color": "grey",
           "width": 1
          },
          "type": "rect",
          "x0": 1031,
          "x1": 1192,
          "y0": 203,
          "y1": 902
         },
         {
          "line": {
           "color": "grey",
           "width": 1
          },
          "type": "rect",
          "x0": 204,
          "x1": 726,
          "y0": -40,
          "y1": 114
         },
         {
          "fillcolor": "black",
          "line": {
           "color": "black",
           "width": 4
          },
          "opacity": 0.6,
          "type": "rect",
          "x0": 213,
          "x1": 817,
          "y0": 539,
          "y1": 597
         },
         {
          "fillcolor": "black",
          "line": {
           "color": "black",
           "width": 4
          },
          "opacity": 0.6,
          "type": "rect",
          "x0": 440,
          "x1": 495,
          "y0": 373,
          "y1": 498
         },
         {
          "fillcolor": "black",
          "line": {
           "color": "black",
           "width": 4
          },
          "opacity": 0.6,
          "type": "rect",
          "x0": 1081,
          "x1": 1142,
          "y0": 253,
          "y1": 852
         },
         {
          "fillcolor": "black",
          "line": {
           "color": "black",
           "width": 4
          },
          "opacity": 0.6,
          "type": "rect",
          "x0": 254,
          "x1": 676,
          "y0": 10,
          "y1": 64
         },
         {
          "line": {
           "color": "LightSeaGreen",
           "width": 1
          },
          "type": "circle",
          "x0": 750,
          "x1": 850,
          "y0": 950,
          "y1": 1050
         },
         {
          "line": {
           "color": "LightSeaGreen",
           "width": 1
          },
          "type": "circle",
          "x0": 220,
          "x1": 320,
          "y0": 250,
          "y1": 350
         }
        ],
        "showlegend": false,
        "template": {
         "data": {
          "bar": [
           {
            "error_x": {
             "color": "#2a3f5f"
            },
            "error_y": {
             "color": "#2a3f5f"
            },
            "marker": {
             "line": {
              "color": "#E5ECF6",
              "width": 0.5
             },
             "pattern": {
              "fillmode": "overlay",
              "size": 10,
              "solidity": 0.2
             }
            },
            "type": "bar"
           }
          ],
          "barpolar": [
           {
            "marker": {
             "line": {
              "color": "#E5ECF6",
              "width": 0.5
             },
             "pattern": {
              "fillmode": "overlay",
              "size": 10,
              "solidity": 0.2
             }
            },
            "type": "barpolar"
           }
          ],
          "carpet": [
           {
            "aaxis": {
             "endlinecolor": "#2a3f5f",
             "gridcolor": "white",
             "linecolor": "white",
             "minorgridcolor": "white",
             "startlinecolor": "#2a3f5f"
            },
            "baxis": {
             "endlinecolor": "#2a3f5f",
             "gridcolor": "white",
             "linecolor": "white",
             "minorgridcolor": "white",
             "startlinecolor": "#2a3f5f"
            },
            "type": "carpet"
           }
          ],
          "choropleth": [
           {
            "colorbar": {
             "outlinewidth": 0,
             "ticks": ""
            },
            "type": "choropleth"
           }
          ],
          "contour": [
           {
            "colorbar": {
             "outlinewidth": 0,
             "ticks": ""
            },
            "colorscale": [
             [
              0,
              "#0d0887"
             ],
             [
              0.1111111111111111,
              "#46039f"
             ],
             [
              0.2222222222222222,
              "#7201a8"
             ],
             [
              0.3333333333333333,
              "#9c179e"
             ],
             [
              0.4444444444444444,
              "#bd3786"
             ],
             [
              0.5555555555555556,
              "#d8576b"
             ],
             [
              0.6666666666666666,
              "#ed7953"
             ],
             [
              0.7777777777777778,
              "#fb9f3a"
             ],
             [
              0.8888888888888888,
              "#fdca26"
             ],
             [
              1,
              "#f0f921"
             ]
            ],
            "type": "contour"
           }
          ],
          "contourcarpet": [
           {
            "colorbar": {
             "outlinewidth": 0,
             "ticks": ""
            },
            "type": "contourcarpet"
           }
          ],
          "heatmap": [
           {
            "colorbar": {
             "outlinewidth": 0,
             "ticks": ""
            },
            "colorscale": [
             [
              0,
              "#0d0887"
             ],
             [
              0.1111111111111111,
              "#46039f"
             ],
             [
              0.2222222222222222,
              "#7201a8"
             ],
             [
              0.3333333333333333,
              "#9c179e"
             ],
             [
              0.4444444444444444,
              "#bd3786"
             ],
             [
              0.5555555555555556,
              "#d8576b"
             ],
             [
              0.6666666666666666,
              "#ed7953"
             ],
             [
              0.7777777777777778,
              "#fb9f3a"
             ],
             [
              0.8888888888888888,
              "#fdca26"
             ],
             [
              1,
              "#f0f921"
             ]
            ],
            "type": "heatmap"
           }
          ],
          "heatmapgl": [
           {
            "colorbar": {
             "outlinewidth": 0,
             "ticks": ""
            },
            "colorscale": [
             [
              0,
              "#0d0887"
             ],
             [
              0.1111111111111111,
              "#46039f"
             ],
             [
              0.2222222222222222,
              "#7201a8"
             ],
             [
              0.3333333333333333,
              "#9c179e"
             ],
             [
              0.4444444444444444,
              "#bd3786"
             ],
             [
              0.5555555555555556,
              "#d8576b"
             ],
             [
              0.6666666666666666,
              "#ed7953"
             ],
             [
              0.7777777777777778,
              "#fb9f3a"
             ],
             [
              0.8888888888888888,
              "#fdca26"
             ],
             [
              1,
              "#f0f921"
             ]
            ],
            "type": "heatmapgl"
           }
          ],
          "histogram": [
           {
            "marker": {
             "pattern": {
              "fillmode": "overlay",
              "size": 10,
              "solidity": 0.2
             }
            },
            "type": "histogram"
           }
          ],
          "histogram2d": [
           {
            "colorbar": {
             "outlinewidth": 0,
             "ticks": ""
            },
            "colorscale": [
             [
              0,
              "#0d0887"
             ],
             [
              0.1111111111111111,
              "#46039f"
             ],
             [
              0.2222222222222222,
              "#7201a8"
             ],
             [
              0.3333333333333333,
              "#9c179e"
             ],
             [
              0.4444444444444444,
              "#bd3786"
             ],
             [
              0.5555555555555556,
              "#d8576b"
             ],
             [
              0.6666666666666666,
              "#ed7953"
             ],
             [
              0.7777777777777778,
              "#fb9f3a"
             ],
             [
              0.8888888888888888,
              "#fdca26"
             ],
             [
              1,
              "#f0f921"
             ]
            ],
            "type": "histogram2d"
           }
          ],
          "histogram2dcontour": [
           {
            "colorbar": {
             "outlinewidth": 0,
             "ticks": ""
            },
            "colorscale": [
             [
              0,
              "#0d0887"
             ],
             [
              0.1111111111111111,
              "#46039f"
             ],
             [
              0.2222222222222222,
              "#7201a8"
             ],
             [
              0.3333333333333333,
              "#9c179e"
             ],
             [
              0.4444444444444444,
              "#bd3786"
             ],
             [
              0.5555555555555556,
              "#d8576b"
             ],
             [
              0.6666666666666666,
              "#ed7953"
             ],
             [
              0.7777777777777778,
              "#fb9f3a"
             ],
             [
              0.8888888888888888,
              "#fdca26"
             ],
             [
              1,
              "#f0f921"
             ]
            ],
            "type": "histogram2dcontour"
           }
          ],
          "mesh3d": [
           {
            "colorbar": {
             "outlinewidth": 0,
             "ticks": ""
            },
            "type": "mesh3d"
           }
          ],
          "parcoords": [
           {
            "line": {
             "colorbar": {
              "outlinewidth": 0,
              "ticks": ""
             }
            },
            "type": "parcoords"
           }
          ],
          "pie": [
           {
            "automargin": true,
            "type": "pie"
           }
          ],
          "scatter": [
           {
            "fillpattern": {
             "fillmode": "overlay",
             "size": 10,
             "solidity": 0.2
            },
            "type": "scatter"
           }
          ],
          "scatter3d": [
           {
            "line": {
             "colorbar": {
              "outlinewidth": 0,
              "ticks": ""
             }
            },
            "marker": {
             "colorbar": {
              "outlinewidth": 0,
              "ticks": ""
             }
            },
            "type": "scatter3d"
           }
          ],
          "scattercarpet": [
           {
            "marker": {
             "colorbar": {
              "outlinewidth": 0,
              "ticks": ""
             }
            },
            "type": "scattercarpet"
           }
          ],
          "scattergeo": [
           {
            "marker": {
             "colorbar": {
              "outlinewidth": 0,
              "ticks": ""
             }
            },
            "type": "scattergeo"
           }
          ],
          "scattergl": [
           {
            "marker": {
             "colorbar": {
              "outlinewidth": 0,
              "ticks": ""
             }
            },
            "type": "scattergl"
           }
          ],
          "scattermapbox": [
           {
            "marker": {
             "colorbar": {
              "outlinewidth": 0,
              "ticks": ""
             }
            },
            "type": "scattermapbox"
           }
          ],
          "scatterpolar": [
           {
            "marker": {
             "colorbar": {
              "outlinewidth": 0,
              "ticks": ""
             }
            },
            "type": "scatterpolar"
           }
          ],
          "scatterpolargl": [
           {
            "marker": {
             "colorbar": {
              "outlinewidth": 0,
              "ticks": ""
             }
            },
            "type": "scatterpolargl"
           }
          ],
          "scatterternary": [
           {
            "marker": {
             "colorbar": {
              "outlinewidth": 0,
              "ticks": ""
             }
            },
            "type": "scatterternary"
           }
          ],
          "surface": [
           {
            "colorbar": {
             "outlinewidth": 0,
             "ticks": ""
            },
            "colorscale": [
             [
              0,
              "#0d0887"
             ],
             [
              0.1111111111111111,
              "#46039f"
             ],
             [
              0.2222222222222222,
              "#7201a8"
             ],
             [
              0.3333333333333333,
              "#9c179e"
             ],
             [
              0.4444444444444444,
              "#bd3786"
             ],
             [
              0.5555555555555556,
              "#d8576b"
             ],
             [
              0.6666666666666666,
              "#ed7953"
             ],
             [
              0.7777777777777778,
              "#fb9f3a"
             ],
             [
              0.8888888888888888,
              "#fdca26"
             ],
             [
              1,
              "#f0f921"
             ]
            ],
            "type": "surface"
           }
          ],
          "table": [
           {
            "cells": {
             "fill": {
              "color": "#EBF0F8"
             },
             "line": {
              "color": "white"
             }
            },
            "header": {
             "fill": {
              "color": "#C8D4E3"
             },
             "line": {
              "color": "white"
             }
            },
            "type": "table"
           }
          ]
         },
         "layout": {
          "annotationdefaults": {
           "arrowcolor": "#2a3f5f",
           "arrowhead": 0,
           "arrowwidth": 1
          },
          "autotypenumbers": "strict",
          "coloraxis": {
           "colorbar": {
            "outlinewidth": 0,
            "ticks": ""
           }
          },
          "colorscale": {
           "diverging": [
            [
             0,
             "#8e0152"
            ],
            [
             0.1,
             "#c51b7d"
            ],
            [
             0.2,
             "#de77ae"
            ],
            [
             0.3,
             "#f1b6da"
            ],
            [
             0.4,
             "#fde0ef"
            ],
            [
             0.5,
             "#f7f7f7"
            ],
            [
             0.6,
             "#e6f5d0"
            ],
            [
             0.7,
             "#b8e186"
            ],
            [
             0.8,
             "#7fbc41"
            ],
            [
             0.9,
             "#4d9221"
            ],
            [
             1,
             "#276419"
            ]
           ],
           "sequential": [
            [
             0,
             "#0d0887"
            ],
            [
             0.1111111111111111,
             "#46039f"
            ],
            [
             0.2222222222222222,
             "#7201a8"
            ],
            [
             0.3333333333333333,
             "#9c179e"
            ],
            [
             0.4444444444444444,
             "#bd3786"
            ],
            [
             0.5555555555555556,
             "#d8576b"
            ],
            [
             0.6666666666666666,
             "#ed7953"
            ],
            [
             0.7777777777777778,
             "#fb9f3a"
            ],
            [
             0.8888888888888888,
             "#fdca26"
            ],
            [
             1,
             "#f0f921"
            ]
           ],
           "sequentialminus": [
            [
             0,
             "#0d0887"
            ],
            [
             0.1111111111111111,
             "#46039f"
            ],
            [
             0.2222222222222222,
             "#7201a8"
            ],
            [
             0.3333333333333333,
             "#9c179e"
            ],
            [
             0.4444444444444444,
             "#bd3786"
            ],
            [
             0.5555555555555556,
             "#d8576b"
            ],
            [
             0.6666666666666666,
             "#ed7953"
            ],
            [
             0.7777777777777778,
             "#fb9f3a"
            ],
            [
             0.8888888888888888,
             "#fdca26"
            ],
            [
             1,
             "#f0f921"
            ]
           ]
          },
          "colorway": [
           "#636efa",
           "#EF553B",
           "#00cc96",
           "#ab63fa",
           "#FFA15A",
           "#19d3f3",
           "#FF6692",
           "#B6E880",
           "#FF97FF",
           "#FECB52"
          ],
          "font": {
           "color": "#2a3f5f"
          },
          "geo": {
           "bgcolor": "white",
           "lakecolor": "white",
           "landcolor": "#E5ECF6",
           "showlakes": true,
           "showland": true,
           "subunitcolor": "white"
          },
          "hoverlabel": {
           "align": "left"
          },
          "hovermode": "closest",
          "mapbox": {
           "style": "light"
          },
          "paper_bgcolor": "white",
          "plot_bgcolor": "#E5ECF6",
          "polar": {
           "angularaxis": {
            "gridcolor": "white",
            "linecolor": "white",
            "ticks": ""
           },
           "bgcolor": "#E5ECF6",
           "radialaxis": {
            "gridcolor": "white",
            "linecolor": "white",
            "ticks": ""
           }
          },
          "scene": {
           "xaxis": {
            "backgroundcolor": "#E5ECF6",
            "gridcolor": "white",
            "gridwidth": 2,
            "linecolor": "white",
            "showbackground": true,
            "ticks": "",
            "zerolinecolor": "white"
           },
           "yaxis": {
            "backgroundcolor": "#E5ECF6",
            "gridcolor": "white",
            "gridwidth": 2,
            "linecolor": "white",
            "showbackground": true,
            "ticks": "",
            "zerolinecolor": "white"
           },
           "zaxis": {
            "backgroundcolor": "#E5ECF6",
            "gridcolor": "white",
            "gridwidth": 2,
            "linecolor": "white",
            "showbackground": true,
            "ticks": "",
            "zerolinecolor": "white"
           }
          },
          "shapedefaults": {
           "line": {
            "color": "#2a3f5f"
           }
          },
          "ternary": {
           "aaxis": {
            "gridcolor": "white",
            "linecolor": "white",
            "ticks": ""
           },
           "baxis": {
            "gridcolor": "white",
            "linecolor": "white",
            "ticks": ""
           },
           "bgcolor": "#E5ECF6",
           "caxis": {
            "gridcolor": "white",
            "linecolor": "white",
            "ticks": ""
           }
          },
          "title": {
           "x": 0.05
          },
          "xaxis": {
           "automargin": true,
           "gridcolor": "white",
           "linecolor": "white",
           "ticks": "",
           "title": {
            "standoff": 15
           },
           "zerolinecolor": "white",
           "zerolinewidth": 2
          },
          "yaxis": {
           "automargin": true,
           "gridcolor": "white",
           "linecolor": "white",
           "ticks": "",
           "title": {
            "standoff": 15
           },
           "zerolinecolor": "white",
           "zerolinewidth": 2
          }
         }
        },
        "title": {
         "text": "Plot"
        }
       }
      }
     },
     "metadata": {},
     "output_type": "display_data"
    },
    {
     "data": {
      "text/plain": [
       "(<search_space.SearchSpace at 0x1300a0310>,\n",
       " [(800, 1000),\n",
       "  (161.2592163428728, 673.2115823670131),\n",
       "  (146.1824861772922, 513.0658287042287),\n",
       "  (270, 300)],\n",
       " [<tree.Tree at 0x12fe31650>],\n",
       " array([[ 213,  539,  817,  597],\n",
       "        [ 440,  373,  495,  498],\n",
       "        [1081,  253, 1142,  852],\n",
       "        [ 254,   10,  676,   64]]),\n",
       " array([[ 163,  489,  867,  647],\n",
       "        [ 390,  323,  545,  548],\n",
       "        [1031,  203, 1192,  902],\n",
       "        [ 204,  -40,  726,  114]]),\n",
       " array([[   0,  852],\n",
       "        [   0, 1280]]))"
      ]
     },
     "execution_count": 23,
     "metadata": {},
     "output_type": "execute_result"
    }
   ],
   "source": [
    "####  Example tree with default values :\n",
    "from RRT2D import RRT_PlanPath\n",
    "\n",
    "mapDefault = np.array([(0, 852), (0, 1280)])\n",
    "obsDefault = np.array([(213, 539, 817, 597), (440, 373, 495, 498), (1081, 253, 1142, 852), (254, 10, 676, 64)])\n",
    "initDefault = (800 ,1000)\n",
    "goalDefault = (270, 300)\n",
    "ThymioRadius=30\n",
    "\n",
    "\n",
    "RRT_PlanPath()"
   ]
  },
  {
   "cell_type": "markdown",
   "metadata": {},
   "source": [
    "The thymio is modelled as a circle with center (x,y)_t and radius R_t, which is estimated to be R_t =~200px. To avoid collision, the algorithm finds a path for the thmyio center in a space where all obstacles have been inflated by R_t. If the center does not intersects x_obs + R_t, then its perimeter does not intersect x_obs.\n",
    "\n",
    "The path obtained from the algorithm is trimmed by removing unnecessary intermediate waypoints. "
   ]
  },
  {
   "cell_type": "markdown",
   "metadata": {},
   "source": [
    "**References**\n",
    "\n",
    "[1] `RRT Motion Planning library :` https://github.com/motion-planning/<br>\n",
    "`Rapidly exploring random tree wikipedia :` https://en.wikipedia.org/wiki/Rapidly_exploring_random_tree<br>"
   ]
  },
  {
   "cell_type": "markdown",
   "metadata": {},
   "source": [
    "# 3. Motion control ( PID Controller and Kalman Filter)"
   ]
  },
  {
   "cell_type": "markdown",
   "metadata": {},
   "source": [
    "In this segment of our project, we go into the details of motion control, essential in realizing our objective of enabling a Thymio robot to autonomously navigate towards a goal while circumventing obstacles. This section outlines the mechanisms and algorithms we implemented to translate the visual data acquired through computer vision into precise and adaptive movement commands for the robot."
   ]
  },
  {
   "cell_type": "markdown",
   "metadata": {},
   "source": [
    "## 3.1 Development of the Simulation Environment\n"
   ]
  },
  {
   "cell_type": "markdown",
   "metadata": {},
   "source": [
    "To test and refine the motion control algorithms for our Thymio robot, we had to create a robust simulation environment. This simulated setting provided us with a controlled and flexible platform to experiment with various scenarios and parameters without the physical constraints and risks associated with real-world testing. It also allowed us to work on our motion control even when the computer vision and path planning algorithms were still being developped. "
   ]
  },
  {
   "cell_type": "markdown",
   "metadata": {},
   "source": [
    "### 3.1.1 Simulated Robot Class"
   ]
  },
  {
   "cell_type": "markdown",
   "metadata": {},
   "source": [
    "We first had to developp a robot class in order to encapsulate the fundamental attributes and functionalities needed to simulate the motion control dynamics of the robot."
   ]
  },
  {
   "cell_type": "code",
   "execution_count": 24,
   "metadata": {},
   "outputs": [],
   "source": [
    "class SimRobot:\n",
    "    def __init__(self, constant_speed=30.0):\n",
    "        \"\"\"\n",
    "        Creates a robot and initializes location/orientation to 0, 0, 0.\n",
    "        \"\"\"\n",
    "        self.x = 0.0\n",
    "        self.y = 0.0\n",
    "        self.orientation = 0.0\n",
    "        self.constant_speed = constant_speed\n",
    "        self.velocity_x = 0.0  \n",
    "        self.velocity_y = 0.0  \n",
    "\n",
    "    def set(self, x, y, orientation):\n",
    "        \"\"\"\n",
    "        Sets a robot coordinate.\n",
    "        \"\"\"\n",
    "        self.x = x\n",
    "        self.y = y\n",
    "        self.orientation = orientation % (2.0 * np.pi)\n",
    "\n",
    "    def reorient(self, orientation_control, dt):\n",
    "        \"\"\"\n",
    "        Reorients the robot to a new orientation based on the control signal.\n",
    "        \"\"\"\n",
    "        # Calculate the change in orientation\n",
    "        delta_orientation = orientation_control * dt\n",
    "\n",
    "        # Update the robot's orientation\n",
    "        self.orientation = (self.orientation + delta_orientation) % (2.0 * np.pi)\n",
    "\n",
    "\n",
    "    def move_forward(self, dt):\n",
    "        \"\"\"\n",
    "        Moves the robot forward in the direction of its current orientation.\n",
    "        \"\"\"\n",
    "        # Calculate the distance to move based on the constant speed and the time step\n",
    "        distance = self.constant_speed * dt\n",
    "\n",
    "        # Update the robot's position\n",
    "        self.x += distance * np.cos(self.orientation)\n",
    "        self.y += distance * np.sin(self.orientation)\n",
    "\n",
    "        # Update velocities based on constant speed\n",
    "        self.velocity_x = self.constant_speed * np.cos(self.orientation)\n",
    "        self.velocity_y = self.constant_speed * np.sin(self.orientation)\n",
    "\n",
    "    def __repr__(self):\n",
    "        return '[x=%.5f y=%.5f orient=%.5f velocity_x=%.5f velocity_y=%.5f]' % (self.x, self.y, self.orientation, self.velocity_x, self.velocity_y)\n"
   ]
  },
  {
   "cell_type": "markdown",
   "metadata": {},
   "source": [
    "This class serves several functions:\n",
    "\n",
    "- **Initialization**: The constructor (`__init__`) initializes the robot with default parameters, such as length, speed, and starting position and orientation.\n",
    "\n",
    "- **Position Setting**: The `set` method allows for the explicit positioning and orientation of the robot within the simulation space, for setting up various test scenarios.\n",
    "\n",
    "- **Orientation Adjustment**: Through the `reorient` method, the robot can adjust its orientation based on the control signal, a key aspect of navigating and avoiding obstacles.\n",
    "\n",
    "- **Forward Movement**: The `move_forward` method propels the robot in the direction of its current orientation, mimicking the real-life movement of the Thymio robot.\n",
    "\n",
    "- **State Representation**: The `__repr__` method provides a convenient way to output the current state of the robot, including its position, orientation, and velocity."
   ]
  },
  {
   "cell_type": "markdown",
   "metadata": {},
   "source": [
    "##### **Constant Speed Movement**\n",
    "\n",
    "One of the fundamental design decisions in our robot's motion control system is the implementation of constant speed movement. This choice significantly simplifies the control mechanisms and enhances the predictability of the robot's behavior, which is crucial for effective navigation and obstacle avoidance.\n",
    "\n",
    "##### **Facilitating Control**\n",
    "Maintaining a constant speed reduces the complexity of the control algorithms. Without the need to constantly adjust the speed, our focus shifts to direction control, primarily managing the robot's orientation (`theta`). This simplification allows for a more straightforward and reliable control system, especially in dynamic environments where rapid and accurate responses are essential. Throughout our project we tried many times controlling the speed and even managed to make it work by simulation however when we had to implement it on our thymio it became evident that the code was too complex and not robust enough to garantee a smooth path to the goal. \n",
    "\n",
    "##### **Simplifying Data Filtering**\n",
    "Another advantage of constant speed movement lies in the ease of data filtering and processing. With a uniform speed, the predictive models and filters (like Kalman filters) used in our system can operate under consistent conditions, improving their accuracy and efficiency. This uniformity aids in effectively predicting the robot's future state, essential for planning and adjusting its path in real-time.\n",
    "\n",
    "##### **Robot's State Definition**\n",
    "The state of our robot is defined by three variables:\n",
    "\n",
    "- `x`: The robot's position on the x-axis.\n",
    "- `y`: The robot's position on the y-axis.\n",
    "- `theta`: The robot's orientation angle.\n",
    "\n",
    "These state variables (`x`, `y`, and `theta`) are central to our control algorithms and are continuously monitored and updated based on the robot's interactions with its environment. By keeping track of these variables, we can accurately control the robot's trajectory, ensuring it moves efficiently towards its goal while avoiding obstacles."
   ]
  },
  {
   "cell_type": "markdown",
   "metadata": {},
   "source": [
    "### 3.1.2 PID Controller for Orientation Control\n",
    "\n",
    "In our project, we implemented a `PIDController` class to manage the orientation control of the Thymio robot. This approach was chosen for its efficiency and effectiveness in achieving precise control, particularly in the dynamic environments we were simulating."
   ]
  },
  {
   "cell_type": "code",
   "execution_count": 25,
   "metadata": {},
   "outputs": [],
   "source": [
    "import numpy as np\n",
    "\n",
    "class PIDController:\n",
    "    def __init__(self, kp, ki, kd):\n",
    "        self.kp = kp\n",
    "        self.ki = ki\n",
    "        self.kd = kd\n",
    "        self.previous_orientation_error = 0.0\n",
    "        self.integral_orientation = 0.0\n",
    "\n",
    "    def update(self, current_orientation, target_orientation, dt):\n",
    "        \"\"\"\n",
    "        Updates the PID controller based on the current and target orientations.\n",
    "        \"\"\"\n",
    "        # Calculate orientation error with wraparound handling at 360 degrees\n",
    "        orientation_error = (target_orientation - current_orientation + np.pi) % (2 * np.pi) - np.pi\n",
    "\n",
    "        # Accumulate the integral of the error\n",
    "        self.integral_orientation += orientation_error * dt\n",
    "\n",
    "        # Calculate the derivative of the error\n",
    "        derivative_orientation = (orientation_error - self.previous_orientation_error) / dt\n",
    "\n",
    "        # Update the previous error for the next iteration\n",
    "        self.previous_orientation_error = orientation_error\n",
    "\n",
    "        # PID output for orientation control\n",
    "        orientation_output = self.kp * orientation_error + self.ki * self.integral_orientation + self.kd * derivative_orientation\n",
    "\n",
    "        return orientation_output\n"
   ]
  },
  {
   "cell_type": "markdown",
   "metadata": {},
   "source": [
    "##### **PID Controller for Orientation Control**\n",
    "\n",
    "The `PIDController` class uses PID (Proportional-Integral-Derivative) control, a widely recognized method in control theory. It adjusts the robot's orientation based on three factors:\n",
    "\n",
    "- **Proportional (P)**: The immediate error between the current and target orientations.\n",
    "- **Integral (I)**: The accumulation of past errors, addressing any continuous offset.\n",
    "- **Derivative (D)**: The rate of change of the error, predicting future trends.\n",
    "\n",
    "##### **Rationale for Focusing on Orientation Control**\n",
    "\n",
    "We chose to control only the robot's orientation (`theta`) for several reasons:\n",
    "\n",
    "- **Reducing Complexity**: Direct control of the `x` and `y` positions would be redundant due to their dependence on the robot's orientation and constant speed. The positional updates can be represented as follows:\n",
    "\n",
    "  \\( x_{\\text{new}} = x_{\\text{old}} + v \\cdot \\cos(\\theta) \\cdot dt \\)\n",
    "  \n",
    "  \\( y_{\\text{new}} = y_{\\text{old}} + v \\cdot \\sin(\\theta) \\cdot dt \\)\n",
    "\n",
    "  Here, `v` is the constant speed, and `dt` is the time increment. By controlling `theta`, we indirectly guide the `x` and `y` positions.\n",
    "\n",
    "- **Streamlining Control**: Focusing on orientation simplifies the control system, making it more manageable and efficient, especially in environments with variable obstacles and paths.\n",
    "\n",
    "##### **Implementation and Optimization of the PID Controller**\n",
    "\n",
    "Our implementation journey involved:\n",
    "\n",
    "- **Initial Focus on Proportional Control**: In early testing phases, we primarily relied on the proportional component (P) for simplicity.\n",
    "- **Fine-Tuning Integral and Derivative Components**: We iteratively adjusted the integral (I) and derivative (D) parameters to balance precision and stability. This tuning process was essential for ensuring that the robot could effectively navigate in real-world scenarios.\n",
    "\n",
    "\n",
    "By implementing the `PIDController` class and focusing on orientation control, we developed a robust and efficient system for guiding the Thymio robot. This approach allowed us to manage the robot's movement effectively, demonstrating the power of PID control in robotic navigation.\n"
   ]
  },
  {
   "cell_type": "markdown",
   "metadata": {},
   "source": [
    "## 3.1.3 Navigation of Robot in Simulation"
   ]
  },
  {
   "cell_type": "markdown",
   "metadata": {},
   "source": [
    "The `navigate_robot_with_pid` function plays an important role in our robot's navigation system, employing a PID controller to steer the robot towards a specified target. This section explains the function's mechanics and the rationale behind its structural decisions, particularly the distinction between orientation adjustment and forward movement."
   ]
  },
  {
   "cell_type": "code",
   "execution_count": 26,
   "metadata": {},
   "outputs": [],
   "source": [
    "def sim_navigate_robot_with_pid(robot, orientation_pid, target, dt, n_steps):\n",
    "    actual_trajectory = [[robot.x, robot.y]]\n",
    "    target_position = np.array(target)\n",
    "\n",
    "    # Define thresholds\n",
    "    orientation_threshold = np.radians(1)  # Orientation threshold for facing the target\n",
    "    distance_threshold = 5.0  # Distance to target to consider as reached\n",
    "\n",
    "    for step in range(n_steps):\n",
    "        # Calculate the angle to the target\n",
    "        angle_to_target = np.arctan2(target_position[1] - robot.y, target_position[0] - robot.x)\n",
    "        \n",
    "        # Update the PID controller for orientation\n",
    "        orientation_control = orientation_pid.update(robot.orientation, angle_to_target, dt)\n",
    "        \n",
    "        # Calculate the orientation difference\n",
    "        orientation_difference = (angle_to_target - robot.orientation + np.pi) % (2 * np.pi) - np.pi\n",
    "        \n",
    "        # Decide whether to move forward or reorient\n",
    "        if abs(orientation_difference) < orientation_threshold:\n",
    "            robot.move_forward(dt)\n",
    "        else: \n",
    "            robot.reorient(orientation_control, dt)\n",
    "        \n",
    "        # Add the actual position to the trajectory\n",
    "        actual_trajectory.append([robot.x, robot.y])\n",
    "\n",
    "        # Check if the target is reached\n",
    "        if np.linalg.norm(target_position - np.array([robot.x, robot.y])) < distance_threshold:\n",
    "            print(f\"Reached target in {step} steps.\")\n",
    "            break\n",
    "\n",
    "    return np.array(actual_trajectory)"
   ]
  },
  {
   "cell_type": "markdown",
   "metadata": {},
   "source": [
    "##### **Function Overview**\n",
    "\n",
    "The `navigate_robot_with_pid` function is crafted to guide a robot to a designated target location using orientation control via a PID controller. It requires several inputs:\n",
    "- **Robot Object**: The instance of the robot being controlled.\n",
    "- **PID Controller Instance**: Manages the robot's orientation.\n",
    "- **Target Coordinates**: The destination the robot aims to reach.\n",
    "- **Time Step (`dt`)**: The interval at which the robot updates its state.\n",
    "- **Number of Steps (`n_steps`)**: The maximum iterations for reaching the target.\n",
    "\n",
    "#### Key Design Choices\n",
    "\n",
    "##### **Separation of Orientation and Movement**\n",
    "\n",
    "- **Simplified Motion Logic**: By dividing orientation adjustment and forward movement into separate actions, we simplify the control logic. This separation allows the robot to focus on one aspect of movement at a time, reducing the complexity of simultaneous control of orientation and position.\n",
    "\n",
    "- **Enhanced Precision**: Orienting the robot correctly before moving forward ensures greater accuracy in trajectory. It minimizes the likelihood of veering off course, a common issue when orientation and movement are intertwined.\n",
    "\n",
    "- **Error Reduction**: This approach aids in reducing cumulative errors. By first aligning the robot accurately with the target, we mitigate the errors that can amplify over distance if the robot begins moving with an incorrect orientation.\n",
    "\n",
    "##### **Function Mechanics**\n",
    "\n",
    "1. **Orientation Control**: The PID controller adjusts the robot's orientation to align it with the target. This alignment is crucial for ensuring that the robot moves directly towards the target when it starts moving forward.\n",
    "\n",
    "2. **Decision Making**: The function decides whether to reorient or move forward based on the current orientation's alignment with the target. If the orientation is within an acceptable threshold, the robot moves forward; otherwise, it adjusts its orientation.\n",
    "\n",
    "3. **Trajectory Recording**: The robot's position is recorded at each step, providing a detailed trajectory of its path towards the target.\n",
    "\n",
    "\n",
    "The `navigate_robot_with_pid` function embodies a strategic approach to robotic navigation, emphasizing precision and error reduction. The clear separation of orientation control and forward movement underpins the function's effectiveness, showcasing the robustness of PID control in autonomous navigation."
   ]
  },
  {
   "cell_type": "markdown",
   "metadata": {},
   "source": [
    "## 3.1.4 PID Simulation"
   ]
  },
  {
   "cell_type": "markdown",
   "metadata": {},
   "source": [
    "The main loop function in our robot control simulation serves as a testbed to evaluate and refine our robot's navigation capabilities under PID control. It simulates the robot's journey towards designated targets, providing insights into the effectiveness of our control algorithms. It allows us to check what a change in a certain parameter such as 'dt' or 'n_steps' would do to our Robot. "
   ]
  },
  {
   "cell_type": "code",
   "execution_count": 27,
   "metadata": {},
   "outputs": [
    {
     "name": "stdout",
     "output_type": "stream",
     "text": [
      "Reached target in 82 steps.\n",
      "Reached target in 89 steps.\n"
     ]
    },
    {
     "data": {
      "image/png": "[encoded data removed]",
      "text/plain": [
       "<Figure size 640x480 with 1 Axes>"
      ]
     },
     "metadata": {},
     "output_type": "display_data"
    }
   ],
   "source": [
    "import numpy as np\n",
    "import matplotlib.pyplot as plt\n",
    "\n",
    "# Initialize the robot and set the targets\n",
    "robot1 = SimRobot()\n",
    "first_target = [0, 100]\n",
    "second_target = [-100, 0]\n",
    "\n",
    "# PID parameters for orientation\n",
    "kp, ki, kd = 1, 0.01, 0.01\n",
    "\n",
    "# Create the PID controller for orientation\n",
    "orientation_pid = PIDController(kp, ki, kd)\n",
    "\n",
    "# Define the parameters\n",
    "dt = 0.1  # Time step\n",
    "n_steps = 600  # Number of steps\n",
    "\n",
    "# Navigate to the first target\n",
    "actual_trajectory1 = sim_navigate_robot_with_pid(robot1, orientation_pid, first_target, dt, n_steps)\n",
    "\n",
    "# Navigate to the second target\n",
    "actual_trajectory2 = sim_navigate_robot_with_pid(robot1, orientation_pid, second_target, dt, n_steps)\n",
    "\n",
    "# Combine the trajectories for plotting\n",
    "combined_actual_trajectory = np.vstack((actual_trajectory1, actual_trajectory2))\n",
    "\n",
    "# Plotting the combined trajectory\n",
    "plt.plot(combined_actual_trajectory[:, 0], combined_actual_trajectory[:, 1], 'bo-', label=\"Actual Robot Path\")\n",
    "plt.plot(first_target[0], first_target[1], 'gx', label=\"First Target\")\n",
    "plt.plot(second_target[0], second_target[1], 'yx', label=\"Second Target\")\n",
    "plt.xlabel('X position')\n",
    "plt.ylabel('Y position')\n",
    "plt.title('Robot Navigation to Multiple Targets with PID Control')\n",
    "plt.legend()\n",
    "plt.axis('equal')\n",
    "plt.grid(True)\n",
    "\n",
    "plt.show()"
   ]
  },
  {
   "cell_type": "markdown",
   "metadata": {},
   "source": [
    "##### **Function Structure**\n",
    "\n",
    "The main loop is structured to perform the following steps:\n",
    "\n",
    "1. **Initialize the Robot and PID Controller**: The robot is instantiated, and the PID controller is initialized with appropriate `kp`, `ki`, and `kd` values.\n",
    "\n",
    "2. **Define Targets**: Set target points that the robot should navigate to.\n",
    "\n",
    "3. **Run the Navigation Function**: Use the `navigate_robot_with_pid` function to move the robot towards each target.\n",
    "\n",
    "4. **Record and Analyze Trajectories**: The function records the robot's trajectory, enabling analysis of its path efficiency and accuracy.\n"
   ]
  },
  {
   "cell_type": "markdown",
   "metadata": {},
   "source": [
    "## 3.2 Robot Actuation"
   ]
  },
  {
   "cell_type": "markdown",
   "metadata": {},
   "source": [
    "Now that we have been able to test our motion control algorithm in simulations we have to see how our motion control algorithm behaves in real life. In order to do so we had to make some modifications in our `Robot` class, `navigate_robot_with_pid` function and `main` loop."
   ]
  },
  {
   "cell_type": "markdown",
   "metadata": {},
   "source": [
    "### 3.2.1 Establishing Connection with Thymio"
   ]
  },
  {
   "cell_type": "code",
   "execution_count": null,
   "metadata": {},
   "outputs": [],
   "source": [
    "import tdmclient.notebook\n",
    "await tdmclient.notebook.start()"
   ]
  },
  {
   "cell_type": "code",
   "execution_count": null,
   "metadata": {},
   "outputs": [],
   "source": [
    "await tdmclient.notebook.stop()"
   ]
  },
  {
   "cell_type": "code",
   "execution_count": null,
   "metadata": {},
   "outputs": [],
   "source": [
    "from tdmclient import ClientAsync\n",
    "client = ClientAsync()\n",
    "node = await client.wait_for_node()\n",
    "await node.lock()"
   ]
  },
  {
   "cell_type": "code",
   "execution_count": null,
   "metadata": {},
   "outputs": [],
   "source": [
    "motor_left_target= 0\n",
    "motor_right_target= 0"
   ]
  },
  {
   "cell_type": "code",
   "execution_count": null,
   "metadata": {},
   "outputs": [],
   "source": [
    "@tdmclient.notebook.sync_var\n",
    "\n",
    "def custom_wait(duration_ms):\n",
    "    start_time = time.time() * 1000  # Convert current time to milliseconds\n",
    "    while (time.time() * 1000 - start_time) < duration_ms:\n",
    "        pass  # Do nothing and wait"
   ]
  },
  {
   "cell_type": "markdown",
   "metadata": {},
   "source": [
    "The `motors_course` function is an asynchronous utility designed to control the motor speeds of a Thymio robot."
   ]
  },
  {
   "cell_type": "code",
   "execution_count": null,
   "metadata": {},
   "outputs": [],
   "source": [
    "async def motors_course(l_speed=100, r_speed=100, verbose=False):\n",
    "    \"\"\"\n",
    "    Sets the motor speeds of the Thymio \n",
    "    param l_speed: left motor speed\n",
    "    param r_speed: right motor speed\n",
    "    param verbose: whether to print status messages or not\n",
    "    \"\"\"\n",
    "   \n",
    "    return {\n",
    "        \"motor.left.target\": [l_speed], \n",
    "        \"motor.right.target\": [r_speed],\n",
    "    }"
   ]
  },
  {
   "cell_type": "markdown",
   "metadata": {},
   "source": [
    "### 3.2.2 Robot Class with actuation"
   ]
  },
  {
   "cell_type": "markdown",
   "metadata": {},
   "source": [
    "The revised `Robot` class in our project represents an advanced step in controlling the Thymio robot. This class not only maintains the robot's position and orientation but also integrates motor control to simulate real-world actuation."
   ]
  },
  {
   "cell_type": "code",
   "execution_count": null,
   "metadata": {},
   "outputs": [],
   "source": [
    "import time\n",
    "\n",
    "class Robot:\n",
    "    \n",
    "    def wait (self, orientation_control):\n",
    "        \"\"\"\n",
    "        Waits for a duration based on the steering angle.\n",
    "        \"\"\"\n",
    "        # Example: Linear relationship between steering angle and duration\n",
    "        max_duration = 0.2\n",
    "        duration = abs(orientation_control) * max_duration\n",
    "        time_start = time.time()\n",
    "        time.sleep(duration)\n",
    "        time_end = time.time()\n",
    "        \n",
    "    def __init__(self,constant_speed=30.0):\n",
    "        \"\"\"\n",
    "        Creates a robot and initializes location/orientation to 0, 0, 0.\n",
    "        length : distance between the two wheels, also known as the wheelbase\n",
    "        \"\"\"\n",
    "        self.x = 0.0\n",
    "        self.y = 0.0\n",
    "        self.orientation = 0.0\n",
    "        self.constant_speed = constant_speed\n",
    "        self.velocity_x = 0.0  \n",
    "        self.velocity_y = 0.0  \n",
    "\n",
    "    def set(self, x, y, orientation):\n",
    "        \"\"\"\n",
    "        Sets a robot coordinate.\n",
    "        \"\"\"\n",
    "        self.x = x\n",
    "        self.y = y\n",
    "        self.orientation = orientation % (2.0 * np.pi)\n",
    "\n",
    "    \n",
    "    def reorient(self, orientation_control, dt, max_speed=50):\n",
    "        \"\"\"\n",
    "        Reorients the robot without moving it forward.\n",
    "        \"\"\"\n",
    "        delta_orientation = orientation_control * dt\n",
    "\n",
    "        self.orientation = (self.orientation + delta_orientation) % (2.0 * np.pi)\n",
    "        \n",
    "        rotation_speed = max_speed\n",
    "        motor_speed_left = -rotation_speed if orientation_control > 0 else rotation_speed\n",
    "        motor_speed_right = rotation_speed if orientation_control > 0 else -rotation_speed\n",
    "        \n",
    "\n",
    "        return motor_speed_left, motor_speed_right\n",
    "        \n",
    "        \n",
    "    def move_forward(self, dt, max_speed=50):\n",
    "        \"\"\"\n",
    "        Moves the robot forward without changing its orientation.\n",
    "        \"\"\"\n",
    "\n",
    "        # Set both motors to the same speed\n",
    "        motor_speed_left = motor_speed_right = max_speed\n",
    "\n",
    "        # Calculate the distance to move based on the constant speed and the time step\n",
    "        distance = self.constant_speed * dt\n",
    "\n",
    "        # Update the robot's position\n",
    "        self.x += distance * np.cos(self.orientation)\n",
    "        self.y += distance * np.sin(self.orientation)\n",
    "\n",
    "        # Update velocities based on constant speed\n",
    "        self.velocity_x = self.constant_speed * np.cos(self.orientation)\n",
    "        self.velocity_y = self.constant_speed * np.sin(self.orientation)        \n",
    "        return motor_speed_left, motor_speed_right\n",
    "\n",
    "    def __repr__(self):\n",
    "        return '[x=%.5f y=%.5f orient=%.5f]' % (self.x, self.y, self.orientation)"
   ]
  },
  {
   "cell_type": "markdown",
   "metadata": {},
   "source": [
    "- **Motor Speed Control**: In both `reorient` and `move_forward` methods, motor speeds are set to simulate the robot's movement:\n",
    "  - **During Reorientation**: The motors are set to rotate in opposite directions, creating a pivoting motion. The speed is determined by a `max_speed` parameter and the direction of rotation depends on the orientation control signal.\n",
    "  - **During Forward Movement**: Both motors are set to the same speed, driving the robot straight ahead.\n",
    "\n",
    "- **Waiting Mechanism (`wait`)**: Introduces a delay based on the steering angle. This simulates the time it takes for the robot to adjust its orientation in real-world scenarios."
   ]
  },
  {
   "cell_type": "markdown",
   "metadata": {},
   "source": [
    "### 3.2.3 Navigate function with Actuation"
   ]
  },
  {
   "cell_type": "markdown",
   "metadata": {},
   "source": [
    "The revised `navigate_robot_with_pid` incorporates real-time motor actuation to control the Thymio robot. This function now integrates direct control commands to the robot's motors, aligning the simulated navigation with actual movements."
   ]
  },
  {
   "cell_type": "code",
   "execution_count": 28,
   "metadata": {},
   "outputs": [],
   "source": [
    "async def navigate_robot_with_pid(robot, orientation_pid, target, dt):\n",
    "    actual_trajectory = [[robot.x, robot.y]]\n",
    "    target_position = np.array(target)\n",
    "    constant_rotation=0.5\n",
    "    constant_move=0.25\n",
    "    # Define thresholds\n",
    "    orientation_threshold = np.radians(1)  # Orientation threshold for facing the target\n",
    "    distance_threshold = 5.0  # Distance to target to consider as reached\n",
    "\n",
    "    error = np.linalg.norm(target_position - np.array([robot.x, robot.y]))\n",
    "    \n",
    "    gain=1 \n",
    "    \n",
    "    while error > 5:\n",
    "        orientation_threshold = np.radians(1)*gain \n",
    "\n",
    "        angle_to_target = np.arctan2(target_position[1] - robot.y, target_position[0] - robot.x)\n",
    "        \n",
    "        orientation_control = orientation_pid.update(robot.orientation, angle_to_target, dt)\n",
    "        \n",
    "        orientation_difference = (angle_to_target - robot.orientation + np.pi) % (2 * np.pi) - np.pi\n",
    "        \n",
    "        u = np.array([[robot.constant_speed * dt * np.cos(robot.orientation)],[robot.constant_speed * dt * np.sin(robot.orientation)],[orientation_control]])\n",
    "        \n",
    "        if abs(orientation_difference) < orientation_threshold:\n",
    "            gain+=5\n",
    "            motor_speed_left, motor_speed_right = robot.move_forward(dt)\n",
    "            await node.set_variables(await motors_course(motor_speed_left, motor_speed_right, verbose=True))\n",
    "            robot.wait(constant_move*dt)\n",
    "        else: \n",
    "            motor_speed_left, motor_speed_right = robot.reorient(orientation_control, dt)\n",
    "            await node.set_variables(await motors_course(motor_speed_left, motor_speed_right, verbose=True))\n",
    "            robot.wait(orientation_control*constant_rotation)  \n",
    "        \n",
    "        error = np.linalg.norm(target_position - np.array([robot.x, robot.y]))\n",
    "\n",
    "        \n",
    "    await node.set_variables(await motors_course(0, 0, verbose=True))\n"
   ]
  },
  {
   "cell_type": "markdown",
   "metadata": {},
   "source": [
    "\n",
    "#### **Key Changes and Features**\n",
    "\n",
    "- **Real-Time Motor Actuation**: The function now sends commands to the robot's motors based on the PID controller's output, translating the orientation control into physical movements.\n",
    "\n",
    "- **Orientation Threshold with Gain**: To stabilize the robot and ensure smooth forward movement, the orientation threshold is multiplied by a gain. This adjustment prevents the robot from constantly reorientating, allowing for calm and steady progression towards the target.\n",
    "\n",
    "- **Proportional Waiting Mechanism**: The `wait` function is called with the orientation control value. This results in the robot waiting for a duration proportional to the needed reorientation impulse, ensuring that movements are more measured and precise.\n",
    "\n",
    "- **Dynamic Gain Adjustment**: The gain for the orientation threshold is dynamically increased during the navigation process. This increment helps in gradually reducing the sensitivity of the robot to orientation errors as it approaches the target, leading to smoother movements.\n",
    "\n",
    "This implementation bridges the gap between simulation and actual robot behavior, offering a closer look at how the Thymio robot would navigate in real-world scenarios."
   ]
  },
  {
   "cell_type": "markdown",
   "metadata": {},
   "source": [
    "### 3.2.4 PID with Actuation"
   ]
  },
  {
   "cell_type": "code",
   "execution_count": 29,
   "metadata": {},
   "outputs": [
    {
     "ename": "NameError",
     "evalue": "name 'node' is not defined",
     "output_type": "error",
     "traceback": [
      "\u001b[0;31m---------------------------------------------------------------------------\u001b[0m",
      "\u001b[0;31mNameError\u001b[0m                                 Traceback (most recent call last)",
      "\u001b[1;32m/Users/marinemoutarlier/Desktop/BOMR 2/rapport_group6.ipynb Cell 103\u001b[0m line \u001b[0;36m2\n\u001b[1;32m     <a href='vscode-notebook-cell:/Users/marinemoutarlier/Desktop/BOMR%202/rapport_group6.ipynb#Y223sZmlsZQ%3D%3D?line=16'>17</a>\u001b[0m     \u001b[39mawait\u001b[39;00m navigate_robot_with_pid(robot1, orientation_pid,first_target, dt)\n\u001b[1;32m     <a href='vscode-notebook-cell:/Users/marinemoutarlier/Desktop/BOMR%202/rapport_group6.ipynb#Y223sZmlsZQ%3D%3D?line=17'>18</a>\u001b[0m     \u001b[39mawait\u001b[39;00m navigate_robot_with_pid(robot1, orientation_pid,second_target, dt)\n\u001b[0;32m---> <a href='vscode-notebook-cell:/Users/marinemoutarlier/Desktop/BOMR%202/rapport_group6.ipynb#Y223sZmlsZQ%3D%3D?line=20'>21</a>\u001b[0m \u001b[39mawait\u001b[39;00m main()\n",
      "\u001b[1;32m/Users/marinemoutarlier/Desktop/BOMR 2/rapport_group6.ipynb Cell 103\u001b[0m line \u001b[0;36m1\n\u001b[1;32m     <a href='vscode-notebook-cell:/Users/marinemoutarlier/Desktop/BOMR%202/rapport_group6.ipynb#Y223sZmlsZQ%3D%3D?line=13'>14</a>\u001b[0m \u001b[39masync\u001b[39;00m \u001b[39mdef\u001b[39;00m \u001b[39mmain\u001b[39m():\n\u001b[0;32m---> <a href='vscode-notebook-cell:/Users/marinemoutarlier/Desktop/BOMR%202/rapport_group6.ipynb#Y223sZmlsZQ%3D%3D?line=16'>17</a>\u001b[0m     \u001b[39mawait\u001b[39;00m navigate_robot_with_pid(robot1, orientation_pid,first_target, dt)\n\u001b[1;32m     <a href='vscode-notebook-cell:/Users/marinemoutarlier/Desktop/BOMR%202/rapport_group6.ipynb#Y223sZmlsZQ%3D%3D?line=17'>18</a>\u001b[0m     \u001b[39mawait\u001b[39;00m navigate_robot_with_pid(robot1, orientation_pid,second_target, dt)\n",
      "\u001b[1;32m/Users/marinemoutarlier/Desktop/BOMR 2/rapport_group6.ipynb Cell 103\u001b[0m line \u001b[0;36m3\n\u001b[1;32m     <a href='vscode-notebook-cell:/Users/marinemoutarlier/Desktop/BOMR%202/rapport_group6.ipynb#Y223sZmlsZQ%3D%3D?line=29'>30</a>\u001b[0m \u001b[39melse\u001b[39;00m: \n\u001b[1;32m     <a href='vscode-notebook-cell:/Users/marinemoutarlier/Desktop/BOMR%202/rapport_group6.ipynb#Y223sZmlsZQ%3D%3D?line=30'>31</a>\u001b[0m     motor_speed_left, motor_speed_right \u001b[39m=\u001b[39m robot\u001b[39m.\u001b[39mreorient(orientation_control, dt)\n\u001b[0;32m---> <a href='vscode-notebook-cell:/Users/marinemoutarlier/Desktop/BOMR%202/rapport_group6.ipynb#Y223sZmlsZQ%3D%3D?line=31'>32</a>\u001b[0m     \u001b[39mawait\u001b[39;00m node\u001b[39m.\u001b[39mset_variables(\u001b[39mawait\u001b[39;00m motors_course(motor_speed_left, motor_speed_right, verbose\u001b[39m=\u001b[39m\u001b[39mTrue\u001b[39;00m))\n\u001b[1;32m     <a href='vscode-notebook-cell:/Users/marinemoutarlier/Desktop/BOMR%202/rapport_group6.ipynb#Y223sZmlsZQ%3D%3D?line=32'>33</a>\u001b[0m     robot\u001b[39m.\u001b[39mwait(orientation_control\u001b[39m*\u001b[39mconstant_rotation)  \n\u001b[1;32m     <a href='vscode-notebook-cell:/Users/marinemoutarlier/Desktop/BOMR%202/rapport_group6.ipynb#Y223sZmlsZQ%3D%3D?line=34'>35</a>\u001b[0m error \u001b[39m=\u001b[39m np\u001b[39m.\u001b[39mlinalg\u001b[39m.\u001b[39mnorm(target_position \u001b[39m-\u001b[39m np\u001b[39m.\u001b[39marray([robot\u001b[39m.\u001b[39mx, robot\u001b[39m.\u001b[39my]))\n",
      "\u001b[0;31mNameError\u001b[0m: name 'node' is not defined"
     ]
    }
   ],
   "source": [
    "import numpy as np\n",
    "import matplotlib.pyplot as plt\n",
    "\n",
    "\n",
    "robot1 = Robot()\n",
    "first_target = [0, 100]\n",
    "second_target = [-100, 0]\n",
    "\n",
    "kp, ki, kd = 1, 0.01, 0.01\n",
    "orientation_pid = PIDController(kp, ki, kd)\n",
    "\n",
    "\n",
    "dt = 0.1 \n",
    "async def main():\n",
    "\n",
    "\n",
    "    await navigate_robot_with_pid(robot1, orientation_pid,first_target, dt)\n",
    "    await navigate_robot_with_pid(robot1, orientation_pid,second_target, dt)\n",
    "\n",
    "\n",
    "await main()"
   ]
  },
  {
   "cell_type": "markdown",
   "metadata": {},
   "source": [
    "The updated script is designed to test the Thymio robot's motion in a real-world scenario, particularly focusing on the integration of PID control with the actual movement of the robot."
   ]
  },
  {
   "cell_type": "markdown",
   "metadata": {},
   "source": [
    "# 4. Kalman Filtering "
   ]
  },
  {
   "cell_type": "markdown",
   "metadata": {},
   "source": [
    "Kalman filtering represents a significant leap in our project, bridging the gap between the basic motion control previously established and a more advanced, data-driven approach to navigation. In this section, we will outline the fundamental principles of Kalman filtering, detailing how we have adapted and implemented this algorithm to process and refine the data gathered from our the computer vision system. "
   ]
  },
  {
   "cell_type": "markdown",
   "metadata": {},
   "source": [
    "## 4.1 Kalman Filter Functions and Parameters"
   ]
  },
  {
   "cell_type": "markdown",
   "metadata": {},
   "source": [
    "The Kalman filter is a powerful tool for state estimation in systems with uncertainty. In our project, we employ two key functions of the Kalman filter: `kalman_predict` and `kalman_update`. These functions are essential for refining the state estimates of our Thymio robot."
   ]
  },
  {
   "cell_type": "markdown",
   "metadata": {},
   "source": [
    "### 4.1.1 Kalman Filter Functions"
   ]
  },
  {
   "cell_type": "code",
   "execution_count": null,
   "metadata": {},
   "outputs": [],
   "source": [
    "def kalman_predict(x_est_prev, P_est_prev, A, B, u, Q):\n",
    "    # Ensure input dimensions are as expected\n",
    "\n",
    "    x_est_a_priori = A @ x_est_prev + B @ u\n",
    "    P_est_a_priori = A @ P_est_prev @ A.T + Q\n",
    "    return x_est_a_priori, P_est_a_priori\n",
    "\n",
    "\n",
    "def kalman_update(x_est_a_priori, P_est_a_priori, z, H, R):\n",
    "    # Measurement update step\n",
    "\n",
    "    y = z - H @ x_est_a_priori  # Innovation or measurement residual\n",
    "    S = H @ P_est_a_priori @ H.T + R  # Innovation covariance\n",
    "    K = P_est_a_priori @ H.T @ np.linalg.inv(S)  # Kalman gain\n",
    "    x_est_posteriori = x_est_a_priori + K @ y\n",
    "    P_est_posteriori = P_est_a_priori - K @ H @ P_est_a_priori\n",
    "    return x_est_posteriori, P_est_posteriori"
   ]
  },
  {
   "cell_type": "markdown",
   "metadata": {},
   "source": [
    "#### `kalman_predict` Function\n",
    "\n",
    "This function performs the prediction step of the Kalman filter.\n",
    "\n",
    "- **Inputs**:\n",
    "  - `x_est_prev`: Previous estimated state.\n",
    "  - `P_est_prev`: Previous estimate covariance.\n",
    "  - `A`: State transition matrix.\n",
    "  - `B`: Control input matrix.\n",
    "  - `u`: Control input vector.\n",
    "  - `Q`: Process noise covariance.\n",
    "\n",
    "- **Process**:\n",
    "  - Computes the a priori estimate (`x_est_a_priori`) by applying the state transition and control input models to the previous state estimate.\n",
    "  - Updates the estimate covariance (`P_est_a_priori`) to reflect the uncertainty in the prediction.\n",
    "\n",
    "- **Outputs**:\n",
    "  - `x_est_a_priori`: Predicted state estimate before considering the measurement.\n",
    "  - `P_est_a_priori`: Predicted estimate covariance.\n",
    "\n",
    "#### `kalman_update` Function\n",
    "\n",
    "This function performs the update step of the Kalman filter.\n",
    "\n",
    "- **Inputs**:\n",
    "  - `x_est_a_priori`: Predicted state estimate from `kalman_predict`.\n",
    "  - `P_est_a_priori`: Predicted estimate covariance.\n",
    "  - `z`: Latest measurement vector.\n",
    "  - `H`: Observation model matrix.\n",
    "  - `R`: Measurement noise covariance.\n",
    "\n",
    "- **Process**:\n",
    "  - Calculates the innovation or measurement residual (`y`).\n",
    "  - Computes the innovation covariance (`S`) and the Kalman gain (`K`).\n",
    "  - Updates the state estimate (`x_est_posteriori`) using the Kalman gain.\n",
    "  - Updates the estimate covariance (`P_est_posteriori`).\n",
    "\n",
    "- **Outputs**:\n",
    "  - `x_est_posteriori`: Updated state estimate after considering the measurement.\n",
    "  - `P_est_posteriori`: Updated estimate covariance.\n",
    "\n",
    "#### Rationale for Splitting Prediction and Update\n",
    "\n",
    "Splitting the predict and update steps in the Kalman filter provides flexibility in our control system. This separation is particularly beneficial for scenarios where measurements might not always be available. \n",
    "\n",
    "- **Continuous Prediction**: Even in the absence of new measurements, the `kalman_predict` function can still project the robot's future state based on previous estimates and control inputs. This capability is crucial for maintaining a continuous estimation of the robot's position and orientation.\n",
    "\n",
    "- **Conditional Update**: The `kalman_update` function is invoked only when new measurements are available. This step refines the state estimates by integrating new information, enhancing accuracy.\n",
    "\n",
    "By separating these steps, we ensure that our system can maintain a robust state estimation process, adapting to the availability of sensor data and continuing to predict the robot's state even in measurement gaps. This approach enhances the reliability and adaptability of our autonomous navigation system."
   ]
  },
  {
   "cell_type": "markdown",
   "metadata": {},
   "source": [
    "### 4.1.2 Kalman Filter Equations"
   ]
  },
  {
   "cell_type": "markdown",
   "metadata": {},
   "source": [
    "In our project, we have chosen specific matrices and parameters for the Kalman filter to accurately predict and update the state of our Thymio robot. These choices are important for the filter's effectiveness in handling different types of robot movements: forward motion and rotation."
   ]
  },
  {
   "cell_type": "markdown",
   "metadata": {},
   "source": [
    "#### Matrices for Forward Motion\n",
    "- **State Transition Matrix (`A1`)**: \n",
    "  \\begin{bmatrix}\n",
    "    1 & 0 & 0 \\\\\n",
    "    0 & 1 & 0 \\\\\n",
    "    0 & 0 & 1 \\\\\n",
    "  \\end{bmatrix}\n",
    "  This matrix represents the system's state transition when the robot moves forward. It implies that the state (position and orientation) remains unchanged unless acted upon by an external input.\n",
    "\n",
    "- **Control Input Matrix (`B1`)**:\n",
    "\n",
    "\n",
    "  \\begin{bmatrix}\n",
    "    1 & 0 & 0 \\\\\n",
    "    0 & 1 & 0 \\\\\n",
    "    0 & 0 & 0 \\\\\n",
    "  \\end{bmatrix}\n",
    "\n",
    "  This matrix models how the control input (forward movement) affects the state.\n",
    "\n",
    "- **Process Noise Covariance (`Q1`)**:\n",
    "\n",
    "  \\begin{bmatrix}\n",
    "    0.01 & 0 & 0 \\\\\n",
    "    0 & 0.01 & 0 \\\\\n",
    "    0 & 0 & 0.01 \\\\\n",
    "  \\end{bmatrix}\n",
    " \n",
    "  Reflects the uncertainty in the model dynamics during forward motion.\n",
    "\n",
    "#### Matrices for Rotation\n",
    "- **State Transition Matrix (`A2`)**: \n",
    "  \\[ A2 = I_3 \\] (Identity matrix)\n",
    "  Represents the state transition when the robot rotates. The identity matrix indicates that the state remains primarily unchanged.\n",
    "\n",
    "- **Control Input Matrix (`B2`)**:\n",
    "  \\begin{bmatrix}\n",
    "    0 & 0 & 0 \\\\\n",
    "    0 & 0 & 0 \\\\\n",
    "    0 & 0 & 1 \\\\\n",
    "  \\end{bmatrix}\n",
    "  \n",
    "  Models the effect of rotational control input on the state.\n",
    "\n",
    "- **Process Noise Covariance (`Q2`)**:\n",
    "  \\begin{bmatrix}\n",
    "    0.01 & 0 & 0 \\\\\n",
    "    0 & 0.01 & 0 \\\\\n",
    "    0 & 0 & 0.01 \\\\\n",
    "  \\end{bmatrix}\n",
    "  Similar to `Q1`, indicating the uncertainty during rotation.\n",
    "\n",
    "#### Common Matrices\n",
    "- **Measurement Noise Covariance (`R`)**:\n",
    "  \\begin{bmatrix}\n",
    "    0.01 & 0 & 0 \\\\\n",
    "    0 & 0.01 & 0 \\\\\n",
    "    0 & 0 & 0.01 \\\\\n",
    "  \\end{bmatrix}\n",
    "  Represents the noise in the sensor measurements, which is quite small, indicating high confidence in measurements.\n",
    "\n",
    "- **Observation Model Matrix (`H`)**:\n",
    "  \\[ H = I_3 \\] (Identity matrix)\n",
    "  Suggests a direct measurement of the state variables.\n",
    "\n",
    "- **Initial State and Covariance Estimate (`P_est`)**:\n",
    "  \\[ P_est = I_3 \\]\n",
    "  Initial uncertainty in the state estimate is represented as an identity matrix.\n",
    "\n",
    "#### System Equations\n",
    "The system's dynamics can be described by the following equations:\n",
    "\n"
   ]
  },
  {
   "cell_type": "markdown",
   "metadata": {},
   "source": [
    "- **Forward Motion**: \n",
    "  $$ x_{\\text{est}} = A1 \\cdot x_{\\text{prev}} + B1 \\cdot u + \\text{process noise} $$\n",
    "\n",
    "- **Rotation**:\n",
    "  $$ x_{\\text{est}} = A2 \\cdot x_{\\text{prev}} + B2 \\cdot u + \\text{process noise} $$\n"
   ]
  },
  {
   "cell_type": "markdown",
   "metadata": {},
   "source": [
    "#### Type of Kalman Filter\n",
    "Given the two distinct sets of matrices for different movement types (forward motion and rotation), our implementation resembles an **Adaptive Kalman Filter**. This variant adjusts its matrices based on the robot's current motion state, ensuring more accurate and tailored state estimation.\n",
    "\n",
    "The careful selection and application of these matrices and parameters enable our Kalman filter to predict the robot's state effectively with minimal measurement noise. The adaptive nature of our filter, switching between sets of matrices for different types of movement, significantly enhances the accuracy and reliability of our navigation system."
   ]
  },
  {
   "cell_type": "markdown",
   "metadata": {},
   "source": [
    "## 4.2 Kalman Filter Simulation "
   ]
  },
  {
   "cell_type": "markdown",
   "metadata": {},
   "source": [
    "In order to test the different matrices parameters and choices regarding our Kalman filtering we had to build a simulation environment much like we did for the PID Motion Control. "
   ]
  },
  {
   "cell_type": "markdown",
   "metadata": {},
   "source": [
    "### 4.2.1 Navigating with Kalman Filter"
   ]
  },
  {
   "cell_type": "markdown",
   "metadata": {},
   "source": [
    "The navigate_robot_with_kalman function is a comprehensive method that combines PID control and Kalman filtering to navigate a robot towards a specified target. "
   ]
  },
  {
   "cell_type": "code",
   "execution_count": null,
   "metadata": {},
   "outputs": [],
   "source": [
    "def navigate_robot_with_kalman(robot, orientation_pid, target, dt, measurement_interval, n_steps):\n",
    "    actual_trajectory = [[robot.x, robot.y]]\n",
    "    estimated_trajectory = [[robot.x, robot.y]]  # To store estimated positions\n",
    "    target_position = np.array(target)\n",
    "    time_since_last_measurement = 0.0\n",
    "\n",
    "    # Define A, B, Q, H, R matrices for the Kalman filter\n",
    "    A1 = np.array([[1, 0,0],\n",
    "                  [0, 1, 0],\n",
    "                  [0, 0, 1]])\n",
    "\n",
    "    B1 = np.array([[1,0,0], \n",
    "                   [0,1,0], \n",
    "                   [0,0,0]])  \n",
    "\n",
    "    Q1 = np.diag([0.1, 0.1, 0.1])  # Process noise\n",
    "\n",
    "    A = np.eye(3)\n",
    "\n",
    "    B = np.array([[0,0,0], \n",
    "                  [0,0,0], \n",
    "                  [0,0,1]])\n",
    "    \n",
    "    Q = Q1\n",
    "    \n",
    "    R = np.diag([2, 2, 2])  # Measurement noise\n",
    "    H = np.eye(3)  # Direct measurement of state\n",
    "    angle_to_target = np.arctan2(target_position[1] - robot.y, target_position[0] - robot.x)\n",
    "    # Initial state and covariance estimate\n",
    "    x_est = np.array([[robot.x], [robot.y], [robot.orientation]])\n",
    "    P_est = np.eye(3) * 0.1\n",
    "    variances = []\n",
    "    orientation_threshold = np.radians(1)  # Orientation threshold to determine if robot is facing the target\n",
    "    distance_threshold = 5.0  # Distance to target to consider as reached\n",
    "    i=1\n",
    "    for step in range(n_steps):\n",
    "        # Calculate the steering angle to the target\n",
    "        orientation_threshold=np.radians(1)*i\n",
    "\n",
    "        orientation_control = orientation_pid.update(robot.orientation, angle_to_target, dt)\n",
    "\n",
    "        \n",
    "        orientation_difference = (angle_to_target - robot.orientation + np.pi) % (2 * np.pi) - np.pi\n",
    "        \n",
    "        u = np.array([[robot.constant_speed * dt * np.cos(robot.orientation)],[robot.constant_speed * dt * np.sin(robot.orientation)],[orientation_control]])\n",
    "        \n",
    "        if abs(orientation_difference) < orientation_threshold:\n",
    "            i=5\n",
    "            robot.move_forward(dt)\n",
    "            x_est, P_est = kalman_predict(x_est, P_est, A1, B1, u, Q1)\n",
    "        else: \n",
    "            # Measurement update step, if within measurement interval\n",
    "            robot.reorient(orientation_control, dt)\n",
    "            x_est, P_est = kalman_predict(x_est, P_est, A, B, u, Q)\n",
    "\n",
    "        # Measurement update step, if within measurement interval\n",
    "        if time_since_last_measurement >= measurement_interval:\n",
    "            z = np.array([[robot.x], [robot.y], [robot.orientation]])\n",
    "            x_est, P_est = kalman_update(x_est, P_est, z, H, R)\n",
    "            time_since_last_measurement = 0  # Reset the timer after measurement\n",
    "\n",
    "        time_since_last_measurement += dt\n",
    "        \n",
    "        # Add the actual and estimated positions to their respective trajectories\n",
    "        actual_trajectory.append([robot.x, robot.y])\n",
    "        estimated_trajectory.append([x_est[0, 0], x_est[1, 0]])\n",
    "        variances.append(np.diag(P_est))\n",
    "        # Check if the target is reached\n",
    "       \n",
    "        if np.linalg.norm(target_position - np.array([robot.x, robot.y])) < distance_threshold:\n",
    "            print(f\"Reached target in {step} steps.\")\n",
    "            break\n",
    "    variances = np.array(variances)  # Make sure to convert the list to an array before returning it\n",
    "    return np.array(actual_trajectory), np.array(estimated_trajectory), variances"
   ]
  },
  {
   "cell_type": "markdown",
   "metadata": {},
   "source": [
    "\n",
    "#### Kalman Prediction and Update\n",
    "- **Prediction**: The `kalman_predict` function estimates the robot's next state, choosing matrices based on the current motion (forward or rotation).\n",
    "- **Update**: Actual measurements are integrated into the state estimates using `kalman_update`, depending on the measurement interval.\n",
    "\n",
    "\n",
    "#### Incorporating Noise in `x_est`\n",
    "- To simulate realistic conditions, noise is can be added to `x_est`. This addition allows for testing the Kalman filter's effectiveness in refining state estimates amidst uncertainties.\n",
    "\n",
    "#### Trajectory Recording and Target Proximity Check\n",
    "- Records the actual and estimated trajectories, ensuring continuous monitoring of the robot's path.\n",
    "- Checks if the robot has reached the target based on a predetermined distance threshold.\n",
    "\n",
    "By calculating the orientation control using the estimated position and adding noise to `x_est`, the function offers a realistic approach to navigation, highlighting the Kalman filter's proficiency in enhancing state estimation in uncertain environments. In the final version of the code we compute the angle to the target based on the estimated position directly as it is more realistic and accurate."
   ]
  },
  {
   "cell_type": "code",
   "execution_count": 35,
   "metadata": {},
   "outputs": [
    {
     "ename": "NameError",
     "evalue": "name 'navigate_robot_with_kalman' is not defined",
     "output_type": "error",
     "traceback": [
      "\u001b[0;31m---------------------------------------------------------------------------\u001b[0m",
      "\u001b[0;31mNameError\u001b[0m                                 Traceback (most recent call last)",
      "\u001b[1;32m/Users/marinemoutarlier/Desktop/BOMR 2/rapport_group6.ipynb Cell 123\u001b[0m line \u001b[0;36m2\n\u001b[1;32m     <a href='vscode-notebook-cell:/Users/marinemoutarlier/Desktop/BOMR%202/rapport_group6.ipynb#Y300sZmlsZQ%3D%3D?line=15'>16</a>\u001b[0m measurement_interval \u001b[39m=\u001b[39m \u001b[39m0.1\u001b[39m  \u001b[39m# Time interval between measurements\u001b[39;00m\n\u001b[1;32m     <a href='vscode-notebook-cell:/Users/marinemoutarlier/Desktop/BOMR%202/rapport_group6.ipynb#Y300sZmlsZQ%3D%3D?line=18'>19</a>\u001b[0m \u001b[39m# Navigate to the first target\u001b[39;00m\n\u001b[0;32m---> <a href='vscode-notebook-cell:/Users/marinemoutarlier/Desktop/BOMR%202/rapport_group6.ipynb#Y300sZmlsZQ%3D%3D?line=19'>20</a>\u001b[0m actual_trajectory1, estimated_trajectory1, variances1 \u001b[39m=\u001b[39m navigate_robot_with_kalman(robot1, orientation_pid, first_target, dt, measurement_interval, n_steps)\n\u001b[1;32m     <a href='vscode-notebook-cell:/Users/marinemoutarlier/Desktop/BOMR%202/rapport_group6.ipynb#Y300sZmlsZQ%3D%3D?line=21'>22</a>\u001b[0m \u001b[39m# Navigate to the second target\u001b[39;00m\n\u001b[1;32m     <a href='vscode-notebook-cell:/Users/marinemoutarlier/Desktop/BOMR%202/rapport_group6.ipynb#Y300sZmlsZQ%3D%3D?line=22'>23</a>\u001b[0m actual_trajectory2, estimated_trajectory2, variances2 \u001b[39m=\u001b[39m navigate_robot_with_kalman(robot1, orientation_pid, second_target, dt, measurement_interval, n_steps)\n",
      "\u001b[0;31mNameError\u001b[0m: name 'navigate_robot_with_kalman' is not defined"
     ]
    }
   ],
   "source": [
    "# Assuming Robot, PIDController, OrientationPIDController, and navigate_robot_with_kalman are defined\n",
    "\n",
    "# Initialize the robot and set the targets\n",
    "robot1 = SimRobot()\n",
    "first_target = [0, 100]\n",
    "second_target = [-100, 0]\n",
    "\n",
    "# PID parameters for orientation\n",
    "kp, ki, kd = 1, 0, 0\n",
    "\n",
    "# Create the PID controller for orientation\n",
    "orientation_pid = PIDController(kp, ki, kd)\n",
    "\n",
    "dt = 0.1\n",
    "n_steps = 600\n",
    "measurement_interval = 0.1  # Time interval between measurements\n",
    "\n",
    "\n",
    "# Navigate to the first target\n",
    "actual_trajectory1, estimated_trajectory1, variances1 = navigate_robot_with_kalman(robot1, orientation_pid, first_target, dt, measurement_interval, n_steps)\n",
    "\n",
    "# Navigate to the second target\n",
    "actual_trajectory2, estimated_trajectory2, variances2 = navigate_robot_with_kalman(robot1, orientation_pid, second_target, dt, measurement_interval, n_steps)\n",
    "\n",
    "# Combine the trajectories for plotting\n",
    "combined_variances=np.vstack((variances1, variances2))\n",
    "combined_actual_trajectory = np.vstack((actual_trajectory1, actual_trajectory2))\n",
    "combined_estimated_trajectory = np.vstack((estimated_trajectory1, estimated_trajectory2))\n",
    "\n",
    "\n",
    "# Plotting the combined trajectory\n",
    "# Trajectory plot\n",
    "plt.subplot(2, 1, 1)\n",
    "plt.plot(combined_actual_trajectory[:, 0], combined_actual_trajectory[:, 1], 'bo-', label=\"Actual Robot Path\")\n",
    "plt.plot(combined_estimated_trajectory[:, 0], combined_estimated_trajectory[:, 1], 'r*-', label=\"Estimated Path by Kalman Filter\")\n",
    "plt.plot(first_target[0], first_target[1], 'gx', label=\"First Target\")\n",
    "plt.plot(second_target[0], second_target[1], 'yx', label=\"Second Target\")\n",
    "plt.xlabel('X position')\n",
    "plt.ylabel('Y position')\n",
    "plt.title('Robot Navigation to Multiple Targets with Kalman Filter')\n",
    "plt.legend()\n",
    "plt.axis('equal')\n",
    "plt.grid(True)\n",
    "\n",
    "# Variance plot for x position\n",
    "plt.subplot(2, 3, 4)\n",
    "plt.plot(combined_variances[:, 0], label='Variance of x')\n",
    "plt.xlabel('Step')\n",
    "plt.ylabel('Variance')\n",
    "plt.title('Variance of x')\n",
    "plt.grid(True)\n",
    "plt.legend()\n",
    "\n",
    "# Variance plot for y position\n",
    "plt.subplot(2, 3, 5)\n",
    "plt.plot(combined_variances[:, 1], label='Variance of y')\n",
    "plt.xlabel('Step')\n",
    "plt.ylabel('Variance')\n",
    "plt.title('Variance of y')\n",
    "plt.grid(True)\n",
    "plt.legend()\n",
    "\n",
    "# Variance plot for orientation\n",
    "plt.subplot(2, 3, 6)\n",
    "plt.plot(combined_variances[:, 2], label='Variance of orientation')\n",
    "plt.xlabel('Step')\n",
    "plt.ylabel('Variance')\n",
    "plt.title('Variance of orientation')\n",
    "plt.grid(True)\n",
    "plt.legend()\n",
    "\n",
    "plt.tight_layout()\n",
    "plt.show()"
   ]
  },
  {
   "cell_type": "markdown",
   "metadata": {},
   "source": [
    "From this code we can simulate our Filter and the results are plotted for better understanding. One key component of the simulation loop using the Kalaman Filter is the Measurement Interval. \n",
    "\n",
    "1. **Increased Measurement Interval**:\n",
    "   - Leads to less frequent updates to the filter with new sensor data.\n",
    "   - Causes the predicted state to rely more heavily on the model and control inputs rather than the sensor measurements.\n",
    "   - Results in increased variance, as the system's state estimate becomes more uncertain due to a lack of recent measurement data.\n",
    "\n",
    "2. **Decreased Measurement Interval**:\n",
    "   - Results in more frequent updates with new sensor data.\n",
    "   - Allows the filter to correct its state estimates more regularly, thereby reducing reliance solely on the model predictions.\n",
    "   - Leads to decreased variance, enhancing the confidence in the system's state estimate due to the regular influx of new measurement information."
   ]
  },
  {
   "cell_type": "markdown",
   "metadata": {},
   "source": [
    "## 5. Local Navigation"
   ]
  },
  {
   "cell_type": "markdown",
   "metadata": {},
   "source": [
    "## 6. Conclusion "
   ]
  },
  {
   "cell_type": "markdown",
   "metadata": {},
   "source": [
    "This project has taught us a great deal. It was challenging as we had only a few weeks, a randomly assigned group, and limited guidance. Nevertheless, it proved to be a valuable opportunity to conceptualize the concepts we had studied in class.\n",
    "\n",
    "The task of programming a Thymio robot to follow a specific path towards a goal was not only educational but also a hands-on application of our theoretical knowledge. Despite the constraints, the experience provided us with practical insights into problem-solving, teamwork, and the application of theoretical concepts to real-world scenarios.\n",
    "\n",
    "Navigating through the uncertainties of the project allowed us to develop adaptability and resilience. It was a  learning and discovery, where we encountered unexpected challenges and found different solutions to non working problems. The hands-on nature of the project reinforced our understanding of the subject matter and enhanced our practical skills.\n",
    "\n",
    "In conclusion, while the project presented its share of difficulties, it ultimately became a rewarding experience that deepened our understanding of the subject matter and equipped us with valuable skills for future endeavors. It is very sastifaying to overcome challenges and to end up with a working demo \n",
    "\n",
    "\n",
    "\n",
    "\n"
   ]
  }
 ],
 "metadata": {
  "kernelspec": {
   "display_name": "Python 3",
   "language": "python",
   "name": "python3"
  },
  "language_info": {
   "codemirror_mode": {
    "name": "ipython",
    "version": 3
   },
   "file_extension": ".py",
   "mimetype": "text/x-python",
   "name": "python",
   "nbconvert_exporter": "python",
   "pygments_lexer": "ipython3",
   "version": "3.11.5"
  }
 },
 "nbformat": 4,
 "nbformat_minor": 2
}
